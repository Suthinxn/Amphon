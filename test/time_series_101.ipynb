{
 "cells": [
  {
   "cell_type": "code",
   "execution_count": 1,
   "metadata": {},
   "outputs": [
    {
     "name": "stdout",
     "output_type": "stream",
     "text": [
      "Requirement already satisfied: pycaret[full] in /home/suthinan/Learning/Freshman/Term02/Basic_Ai/air_dash/venv/lib/python3.11/site-packages (3.3.0)\n",
      "Requirement already satisfied: ipython>=5.5.0 in /home/suthinan/Learning/Freshman/Term02/Basic_Ai/air_dash/venv/lib/python3.11/site-packages (from pycaret[full]) (8.22.1)\n",
      "Requirement already satisfied: ipywidgets>=7.6.5 in /home/suthinan/Learning/Freshman/Term02/Basic_Ai/air_dash/venv/lib/python3.11/site-packages (from pycaret[full]) (8.1.2)\n",
      "Requirement already satisfied: tqdm>=4.62.0 in /home/suthinan/Learning/Freshman/Term02/Basic_Ai/air_dash/venv/lib/python3.11/site-packages (from pycaret[full]) (4.66.2)\n",
      "Requirement already satisfied: numpy<1.27,>=1.21 in /home/suthinan/Learning/Freshman/Term02/Basic_Ai/air_dash/venv/lib/python3.11/site-packages (from pycaret[full]) (1.25.2)\n",
      "Requirement already satisfied: pandas<2.2.0 in /home/suthinan/Learning/Freshman/Term02/Basic_Ai/air_dash/venv/lib/python3.11/site-packages (from pycaret[full]) (2.1.4)\n",
      "Requirement already satisfied: jinja2>=3 in /home/suthinan/Learning/Freshman/Term02/Basic_Ai/air_dash/venv/lib/python3.11/site-packages (from pycaret[full]) (3.1.3)\n",
      "Requirement already satisfied: scipy<=1.11.4,>=1.6.1 in /home/suthinan/Learning/Freshman/Term02/Basic_Ai/air_dash/venv/lib/python3.11/site-packages (from pycaret[full]) (1.11.4)\n",
      "Requirement already satisfied: joblib>=1.2.0 in /home/suthinan/Learning/Freshman/Term02/Basic_Ai/air_dash/venv/lib/python3.11/site-packages (from pycaret[full]) (1.3.2)\n",
      "Requirement already satisfied: scikit-learn>1.4.0 in /home/suthinan/Learning/Freshman/Term02/Basic_Ai/air_dash/venv/lib/python3.11/site-packages (from pycaret[full]) (1.4.1.post1)\n",
      "Requirement already satisfied: pyod>=1.1.3 in /home/suthinan/Learning/Freshman/Term02/Basic_Ai/air_dash/venv/lib/python3.11/site-packages (from pycaret[full]) (1.1.3)\n",
      "Requirement already satisfied: imbalanced-learn>=0.12.0 in /home/suthinan/Learning/Freshman/Term02/Basic_Ai/air_dash/venv/lib/python3.11/site-packages (from pycaret[full]) (0.12.0)\n",
      "Requirement already satisfied: category-encoders>=2.4.0 in /home/suthinan/Learning/Freshman/Term02/Basic_Ai/air_dash/venv/lib/python3.11/site-packages (from pycaret[full]) (2.6.3)\n",
      "Requirement already satisfied: lightgbm>=3.0.0 in /home/suthinan/Learning/Freshman/Term02/Basic_Ai/air_dash/venv/lib/python3.11/site-packages (from pycaret[full]) (4.3.0)\n",
      "Requirement already satisfied: numba>=0.55.0 in /home/suthinan/Learning/Freshman/Term02/Basic_Ai/air_dash/venv/lib/python3.11/site-packages (from pycaret[full]) (0.58.1)\n",
      "Requirement already satisfied: requests>=2.27.1 in /home/suthinan/Learning/Freshman/Term02/Basic_Ai/air_dash/venv/lib/python3.11/site-packages (from pycaret[full]) (2.31.0)\n",
      "Requirement already satisfied: psutil>=5.9.0 in /home/suthinan/Learning/Freshman/Term02/Basic_Ai/air_dash/venv/lib/python3.11/site-packages (from pycaret[full]) (5.9.8)\n",
      "Requirement already satisfied: markupsafe>=2.0.1 in /home/suthinan/Learning/Freshman/Term02/Basic_Ai/air_dash/venv/lib/python3.11/site-packages (from pycaret[full]) (2.1.5)\n",
      "Requirement already satisfied: importlib-metadata>=4.12.0 in /home/suthinan/Learning/Freshman/Term02/Basic_Ai/air_dash/venv/lib/python3.11/site-packages (from pycaret[full]) (7.0.1)\n",
      "Requirement already satisfied: nbformat>=4.2.0 in /home/suthinan/Learning/Freshman/Term02/Basic_Ai/air_dash/venv/lib/python3.11/site-packages (from pycaret[full]) (5.9.2)\n",
      "Requirement already satisfied: cloudpickle in /home/suthinan/Learning/Freshman/Term02/Basic_Ai/air_dash/venv/lib/python3.11/site-packages (from pycaret[full]) (3.0.0)\n",
      "Requirement already satisfied: deprecation>=2.1.0 in /home/suthinan/Learning/Freshman/Term02/Basic_Ai/air_dash/venv/lib/python3.11/site-packages (from pycaret[full]) (2.1.0)\n",
      "Requirement already satisfied: xxhash in /home/suthinan/Learning/Freshman/Term02/Basic_Ai/air_dash/venv/lib/python3.11/site-packages (from pycaret[full]) (3.4.1)\n",
      "Requirement already satisfied: matplotlib<3.8.0 in /home/suthinan/Learning/Freshman/Term02/Basic_Ai/air_dash/venv/lib/python3.11/site-packages (from pycaret[full]) (3.7.5)\n",
      "Requirement already satisfied: scikit-plot>=0.3.7 in /home/suthinan/Learning/Freshman/Term02/Basic_Ai/air_dash/venv/lib/python3.11/site-packages (from pycaret[full]) (0.3.7)\n",
      "Requirement already satisfied: yellowbrick>=1.4 in /home/suthinan/Learning/Freshman/Term02/Basic_Ai/air_dash/venv/lib/python3.11/site-packages (from pycaret[full]) (1.5)\n",
      "Requirement already satisfied: plotly>=5.14.0 in /home/suthinan/Learning/Freshman/Term02/Basic_Ai/air_dash/venv/lib/python3.11/site-packages (from pycaret[full]) (5.19.0)\n",
      "Requirement already satisfied: kaleido>=0.2.1 in /home/suthinan/Learning/Freshman/Term02/Basic_Ai/air_dash/venv/lib/python3.11/site-packages (from pycaret[full]) (0.2.1)\n",
      "Requirement already satisfied: schemdraw==0.15 in /home/suthinan/Learning/Freshman/Term02/Basic_Ai/air_dash/venv/lib/python3.11/site-packages (from pycaret[full]) (0.15)\n",
      "Requirement already satisfied: plotly-resampler>=0.8.3.1 in /home/suthinan/Learning/Freshman/Term02/Basic_Ai/air_dash/venv/lib/python3.11/site-packages (from pycaret[full]) (0.9.2)\n",
      "Requirement already satisfied: statsmodels>=0.12.1 in /home/suthinan/Learning/Freshman/Term02/Basic_Ai/air_dash/venv/lib/python3.11/site-packages (from pycaret[full]) (0.14.1)\n",
      "Requirement already satisfied: sktime>=0.26.0 in /home/suthinan/Learning/Freshman/Term02/Basic_Ai/air_dash/venv/lib/python3.11/site-packages (from pycaret[full]) (0.26.1)\n",
      "Requirement already satisfied: tbats>=1.1.3 in /home/suthinan/Learning/Freshman/Term02/Basic_Ai/air_dash/venv/lib/python3.11/site-packages (from pycaret[full]) (1.1.3)\n",
      "Requirement already satisfied: pmdarima>=2.0.4 in /home/suthinan/Learning/Freshman/Term02/Basic_Ai/air_dash/venv/lib/python3.11/site-packages (from pycaret[full]) (2.0.4)\n",
      "Requirement already satisfied: wurlitzer in /home/suthinan/Learning/Freshman/Term02/Basic_Ai/air_dash/venv/lib/python3.11/site-packages (from pycaret[full]) (3.0.3)\n",
      "Requirement already satisfied: shap>=0.44.0 in /home/suthinan/Learning/Freshman/Term02/Basic_Ai/air_dash/venv/lib/python3.11/site-packages (from pycaret[full]) (0.44.1)\n",
      "Requirement already satisfied: interpret>=0.2.7 in /home/suthinan/Learning/Freshman/Term02/Basic_Ai/air_dash/venv/lib/python3.11/site-packages (from pycaret[full]) (0.5.1)\n",
      "Requirement already satisfied: umap-learn>=0.5.2 in /home/suthinan/Learning/Freshman/Term02/Basic_Ai/air_dash/venv/lib/python3.11/site-packages (from pycaret[full]) (0.5.5)\n",
      "Requirement already satisfied: pyyaml==5.3.1 in /home/suthinan/Learning/Freshman/Term02/Basic_Ai/air_dash/venv/lib/python3.11/site-packages (from pycaret[full]) (5.3.1)\n",
      "Requirement already satisfied: ydata-profiling>=4.3.1 in /home/suthinan/Learning/Freshman/Term02/Basic_Ai/air_dash/venv/lib/python3.11/site-packages (from pycaret[full]) (4.6.5)\n",
      "Requirement already satisfied: explainerdashboard>=0.3.8 in /home/suthinan/Learning/Freshman/Term02/Basic_Ai/air_dash/venv/lib/python3.11/site-packages (from pycaret[full]) (0.4.5)\n",
      "Requirement already satisfied: fairlearn==0.7.0 in /home/suthinan/Learning/Freshman/Term02/Basic_Ai/air_dash/venv/lib/python3.11/site-packages (from pycaret[full]) (0.7.0)\n",
      "Requirement already satisfied: kmodes>=0.11.1 in /home/suthinan/Learning/Freshman/Term02/Basic_Ai/air_dash/venv/lib/python3.11/site-packages (from pycaret[full]) (0.12.2)\n",
      "Requirement already satisfied: mlxtend>=0.19.0 in /home/suthinan/Learning/Freshman/Term02/Basic_Ai/air_dash/venv/lib/python3.11/site-packages (from pycaret[full]) (0.23.1)\n",
      "Requirement already satisfied: statsforecast<1.6.0,>=0.5.5 in /home/suthinan/Learning/Freshman/Term02/Basic_Ai/air_dash/venv/lib/python3.11/site-packages (from pycaret[full]) (1.5.0)\n",
      "Requirement already satisfied: hyperopt>=0.2.7 in /home/suthinan/Learning/Freshman/Term02/Basic_Ai/air_dash/venv/lib/python3.11/site-packages (from pycaret[full]) (0.2.7)\n",
      "Requirement already satisfied: optuna>=3.0.0 in /home/suthinan/Learning/Freshman/Term02/Basic_Ai/air_dash/venv/lib/python3.11/site-packages (from pycaret[full]) (3.5.0)\n",
      "Requirement already satisfied: scikit-optimize>=0.9.0 in /home/suthinan/Learning/Freshman/Term02/Basic_Ai/air_dash/venv/lib/python3.11/site-packages (from pycaret[full]) (0.9.0)\n",
      "Requirement already satisfied: mlflow>=2.0.0 in /home/suthinan/Learning/Freshman/Term02/Basic_Ai/air_dash/venv/lib/python3.11/site-packages (from pycaret[full]) (2.10.2)\n",
      "Requirement already satisfied: gradio>=3.50.2 in /home/suthinan/Learning/Freshman/Term02/Basic_Ai/air_dash/venv/lib/python3.11/site-packages (from pycaret[full]) (4.19.2)\n",
      "Requirement already satisfied: boto3>=1.24.56 in /home/suthinan/Learning/Freshman/Term02/Basic_Ai/air_dash/venv/lib/python3.11/site-packages (from pycaret[full]) (1.34.50)\n",
      "Requirement already satisfied: fastapi in /home/suthinan/Learning/Freshman/Term02/Basic_Ai/air_dash/venv/lib/python3.11/site-packages (from pycaret[full]) (0.110.0)\n",
      "Requirement already satisfied: uvicorn>=0.17.6 in /home/suthinan/Learning/Freshman/Term02/Basic_Ai/air_dash/venv/lib/python3.11/site-packages (from pycaret[full]) (0.27.1)\n",
      "Requirement already satisfied: m2cgen>=0.9.0 in /home/suthinan/Learning/Freshman/Term02/Basic_Ai/air_dash/venv/lib/python3.11/site-packages (from pycaret[full]) (0.10.0)\n",
      "Requirement already satisfied: evidently in /home/suthinan/Learning/Freshman/Term02/Basic_Ai/air_dash/venv/lib/python3.11/site-packages (from pycaret[full]) (0.4.16)\n",
      "Requirement already satisfied: fugue in /home/suthinan/Learning/Freshman/Term02/Basic_Ai/air_dash/venv/lib/python3.11/site-packages (from pycaret[full]) (0.8.6)\n",
      "Requirement already satisfied: flask in /home/suthinan/Learning/Freshman/Term02/Basic_Ai/air_dash/venv/lib/python3.11/site-packages (from pycaret[full]) (2.3.3)\n",
      "Requirement already satisfied: Werkzeug<3.0,>=2.2 in /home/suthinan/Learning/Freshman/Term02/Basic_Ai/air_dash/venv/lib/python3.11/site-packages (from pycaret[full]) (2.3.8)\n",
      "Requirement already satisfied: triad<0.9.2 in /home/suthinan/Learning/Freshman/Term02/Basic_Ai/air_dash/venv/lib/python3.11/site-packages (from pycaret[full]) (0.9.1)\n",
      "Requirement already satisfied: pytest<8.0.0 in /home/suthinan/Learning/Freshman/Term02/Basic_Ai/air_dash/venv/lib/python3.11/site-packages (from pycaret[full]) (7.4.4)\n",
      "Requirement already satisfied: moto<5.0.0 in /home/suthinan/Learning/Freshman/Term02/Basic_Ai/air_dash/venv/lib/python3.11/site-packages (from pycaret[full]) (4.2.14)\n",
      "Requirement already satisfied: dash[testing] in /home/suthinan/Learning/Freshman/Term02/Basic_Ai/air_dash/venv/lib/python3.11/site-packages (from pycaret[full]) (2.15.0)\n",
      "Requirement already satisfied: scikit-learn-intelex>=2023.0.1 in /home/suthinan/Learning/Freshman/Term02/Basic_Ai/air_dash/venv/lib/python3.11/site-packages (from pycaret[full]) (2024.1.0)\n",
      "Requirement already satisfied: catboost>=0.23.2 in /home/suthinan/Learning/Freshman/Term02/Basic_Ai/air_dash/venv/lib/python3.11/site-packages (from pycaret[full]) (1.2.3)\n",
      "Requirement already satisfied: xgboost>=1.1.0 in /home/suthinan/Learning/Freshman/Term02/Basic_Ai/air_dash/venv/lib/python3.11/site-packages (from pycaret[full]) (2.0.3)\n",
      "Requirement already satisfied: tune-sklearn>=0.2.1 in /home/suthinan/Learning/Freshman/Term02/Basic_Ai/air_dash/venv/lib/python3.11/site-packages (from pycaret[full]) (0.5.0)\n",
      "Requirement already satisfied: ray>=1.0.0 in /home/suthinan/Learning/Freshman/Term02/Basic_Ai/air_dash/venv/lib/python3.11/site-packages (from ray[tune]>=1.0.0; (python_version != \"3.11\" or platform_system != \"Windows\") and extra == \"full\"->pycaret[full]) (2.9.3)\n",
      "Requirement already satisfied: botocore<1.35.0,>=1.34.50 in /home/suthinan/Learning/Freshman/Term02/Basic_Ai/air_dash/venv/lib/python3.11/site-packages (from boto3>=1.24.56->pycaret[full]) (1.34.50)\n",
      "Requirement already satisfied: jmespath<2.0.0,>=0.7.1 in /home/suthinan/Learning/Freshman/Term02/Basic_Ai/air_dash/venv/lib/python3.11/site-packages (from boto3>=1.24.56->pycaret[full]) (1.0.1)\n",
      "Requirement already satisfied: s3transfer<0.11.0,>=0.10.0 in /home/suthinan/Learning/Freshman/Term02/Basic_Ai/air_dash/venv/lib/python3.11/site-packages (from boto3>=1.24.56->pycaret[full]) (0.10.0)\n",
      "Requirement already satisfied: graphviz in /home/suthinan/Learning/Freshman/Term02/Basic_Ai/air_dash/venv/lib/python3.11/site-packages (from catboost>=0.23.2->pycaret[full]) (0.20.1)\n",
      "Requirement already satisfied: six in /home/suthinan/Learning/Freshman/Term02/Basic_Ai/air_dash/venv/lib/python3.11/site-packages (from catboost>=0.23.2->pycaret[full]) (1.16.0)\n",
      "Requirement already satisfied: patsy>=0.5.1 in /home/suthinan/Learning/Freshman/Term02/Basic_Ai/air_dash/venv/lib/python3.11/site-packages (from category-encoders>=2.4.0->pycaret[full]) (0.5.6)\n",
      "Requirement already satisfied: packaging in /home/suthinan/Learning/Freshman/Term02/Basic_Ai/air_dash/venv/lib/python3.11/site-packages (from deprecation>=2.1.0->pycaret[full]) (23.2)\n",
      "Requirement already satisfied: click in /home/suthinan/Learning/Freshman/Term02/Basic_Ai/air_dash/venv/lib/python3.11/site-packages (from explainerdashboard>=0.3.8->pycaret[full]) (8.1.7)\n",
      "Requirement already satisfied: dash-auth in /home/suthinan/Learning/Freshman/Term02/Basic_Ai/air_dash/venv/lib/python3.11/site-packages (from explainerdashboard>=0.3.8->pycaret[full]) (2.2.0)\n",
      "Requirement already satisfied: dash-bootstrap-components>=1 in /home/suthinan/Learning/Freshman/Term02/Basic_Ai/air_dash/venv/lib/python3.11/site-packages (from explainerdashboard>=0.3.8->pycaret[full]) (1.5.0)\n",
      "Requirement already satisfied: dtreeviz>=2.1 in /home/suthinan/Learning/Freshman/Term02/Basic_Ai/air_dash/venv/lib/python3.11/site-packages (from explainerdashboard>=0.3.8->pycaret[full]) (2.2.2)\n",
      "Requirement already satisfied: flask-simplelogin in /home/suthinan/Learning/Freshman/Term02/Basic_Ai/air_dash/venv/lib/python3.11/site-packages (from explainerdashboard>=0.3.8->pycaret[full]) (0.1.2)\n",
      "Requirement already satisfied: Flask-WTF>=1.1 in /home/suthinan/Learning/Freshman/Term02/Basic_Ai/air_dash/venv/lib/python3.11/site-packages (from explainerdashboard>=0.3.8->pycaret[full]) (1.2.1)\n",
      "Requirement already satisfied: jupyter-dash>=0.4.1 in /home/suthinan/Learning/Freshman/Term02/Basic_Ai/air_dash/venv/lib/python3.11/site-packages (from explainerdashboard>=0.3.8->pycaret[full]) (0.4.2)\n",
      "Requirement already satisfied: oyaml in /home/suthinan/Learning/Freshman/Term02/Basic_Ai/air_dash/venv/lib/python3.11/site-packages (from explainerdashboard>=0.3.8->pycaret[full]) (1.0)\n",
      "Requirement already satisfied: waitress in /home/suthinan/Learning/Freshman/Term02/Basic_Ai/air_dash/venv/lib/python3.11/site-packages (from explainerdashboard>=0.3.8->pycaret[full]) (3.0.0)\n",
      "Requirement already satisfied: aiofiles<24.0,>=22.0 in /home/suthinan/Learning/Freshman/Term02/Basic_Ai/air_dash/venv/lib/python3.11/site-packages (from gradio>=3.50.2->pycaret[full]) (23.2.1)\n",
      "Requirement already satisfied: altair<6.0,>=4.2.0 in /home/suthinan/Learning/Freshman/Term02/Basic_Ai/air_dash/venv/lib/python3.11/site-packages (from gradio>=3.50.2->pycaret[full]) (5.2.0)\n",
      "Requirement already satisfied: ffmpy in /home/suthinan/Learning/Freshman/Term02/Basic_Ai/air_dash/venv/lib/python3.11/site-packages (from gradio>=3.50.2->pycaret[full]) (0.3.2)\n",
      "Requirement already satisfied: gradio-client==0.10.1 in /home/suthinan/Learning/Freshman/Term02/Basic_Ai/air_dash/venv/lib/python3.11/site-packages (from gradio>=3.50.2->pycaret[full]) (0.10.1)\n",
      "Requirement already satisfied: httpx>=0.24.1 in /home/suthinan/Learning/Freshman/Term02/Basic_Ai/air_dash/venv/lib/python3.11/site-packages (from gradio>=3.50.2->pycaret[full]) (0.27.0)\n",
      "Requirement already satisfied: huggingface-hub>=0.19.3 in /home/suthinan/Learning/Freshman/Term02/Basic_Ai/air_dash/venv/lib/python3.11/site-packages (from gradio>=3.50.2->pycaret[full]) (0.21.0)\n",
      "Requirement already satisfied: importlib-resources<7.0,>=1.3 in /home/suthinan/Learning/Freshman/Term02/Basic_Ai/air_dash/venv/lib/python3.11/site-packages (from gradio>=3.50.2->pycaret[full]) (6.1.2)\n",
      "Requirement already satisfied: orjson~=3.0 in /home/suthinan/Learning/Freshman/Term02/Basic_Ai/air_dash/venv/lib/python3.11/site-packages (from gradio>=3.50.2->pycaret[full]) (3.9.15)\n",
      "Requirement already satisfied: pillow<11.0,>=8.0 in /home/suthinan/Learning/Freshman/Term02/Basic_Ai/air_dash/venv/lib/python3.11/site-packages (from gradio>=3.50.2->pycaret[full]) (10.2.0)\n",
      "Requirement already satisfied: pydantic>=2.0 in /home/suthinan/Learning/Freshman/Term02/Basic_Ai/air_dash/venv/lib/python3.11/site-packages (from gradio>=3.50.2->pycaret[full]) (2.6.2)\n",
      "Requirement already satisfied: pydub in /home/suthinan/Learning/Freshman/Term02/Basic_Ai/air_dash/venv/lib/python3.11/site-packages (from gradio>=3.50.2->pycaret[full]) (0.25.1)\n",
      "Requirement already satisfied: python-multipart>=0.0.9 in /home/suthinan/Learning/Freshman/Term02/Basic_Ai/air_dash/venv/lib/python3.11/site-packages (from gradio>=3.50.2->pycaret[full]) (0.0.9)\n",
      "Requirement already satisfied: ruff>=0.2.2 in /home/suthinan/Learning/Freshman/Term02/Basic_Ai/air_dash/venv/lib/python3.11/site-packages (from gradio>=3.50.2->pycaret[full]) (0.2.2)\n",
      "Requirement already satisfied: semantic-version~=2.0 in /home/suthinan/Learning/Freshman/Term02/Basic_Ai/air_dash/venv/lib/python3.11/site-packages (from gradio>=3.50.2->pycaret[full]) (2.10.0)\n",
      "Requirement already satisfied: tomlkit==0.12.0 in /home/suthinan/Learning/Freshman/Term02/Basic_Ai/air_dash/venv/lib/python3.11/site-packages (from gradio>=3.50.2->pycaret[full]) (0.12.0)\n",
      "Requirement already satisfied: typer<1.0,>=0.9 in /home/suthinan/Learning/Freshman/Term02/Basic_Ai/air_dash/venv/lib/python3.11/site-packages (from typer[all]<1.0,>=0.9->gradio>=3.50.2->pycaret[full]) (0.9.0)\n",
      "Requirement already satisfied: typing-extensions~=4.0 in /home/suthinan/Learning/Freshman/Term02/Basic_Ai/air_dash/venv/lib/python3.11/site-packages (from gradio>=3.50.2->pycaret[full]) (4.10.0)\n",
      "Requirement already satisfied: fsspec in /home/suthinan/Learning/Freshman/Term02/Basic_Ai/air_dash/venv/lib/python3.11/site-packages (from gradio-client==0.10.1->gradio>=3.50.2->pycaret[full]) (2024.2.0)\n",
      "Requirement already satisfied: websockets<12.0,>=10.0 in /home/suthinan/Learning/Freshman/Term02/Basic_Ai/air_dash/venv/lib/python3.11/site-packages (from gradio-client==0.10.1->gradio>=3.50.2->pycaret[full]) (11.0.3)\n",
      "Requirement already satisfied: networkx>=2.2 in /home/suthinan/Learning/Freshman/Term02/Basic_Ai/air_dash/venv/lib/python3.11/site-packages (from hyperopt>=0.2.7->pycaret[full]) (3.2.1)\n",
      "Requirement already satisfied: future in /home/suthinan/Learning/Freshman/Term02/Basic_Ai/air_dash/venv/lib/python3.11/site-packages (from hyperopt>=0.2.7->pycaret[full]) (1.0.0)\n",
      "Requirement already satisfied: py4j in /home/suthinan/Learning/Freshman/Term02/Basic_Ai/air_dash/venv/lib/python3.11/site-packages (from hyperopt>=0.2.7->pycaret[full]) (0.10.9.7)\n",
      "Requirement already satisfied: threadpoolctl>=2.0.0 in /home/suthinan/Learning/Freshman/Term02/Basic_Ai/air_dash/venv/lib/python3.11/site-packages (from imbalanced-learn>=0.12.0->pycaret[full]) (3.3.0)\n",
      "Requirement already satisfied: zipp>=0.5 in /home/suthinan/Learning/Freshman/Term02/Basic_Ai/air_dash/venv/lib/python3.11/site-packages (from importlib-metadata>=4.12.0->pycaret[full]) (3.17.0)\n",
      "Requirement already satisfied: interpret-core==0.5.1 in /home/suthinan/Learning/Freshman/Term02/Basic_Ai/air_dash/venv/lib/python3.11/site-packages (from interpret-core[dash,debug,linear,notebook,plotly,sensitivity,shap]==0.5.1->interpret>=0.2.7->pycaret[full]) (0.5.1)\n",
      "Requirement already satisfied: dash-core-components>=1.0.0 in /home/suthinan/Learning/Freshman/Term02/Basic_Ai/air_dash/venv/lib/python3.11/site-packages (from interpret-core[dash,debug,linear,notebook,plotly,sensitivity,shap]==0.5.1->interpret>=0.2.7->pycaret[full]) (2.0.0)\n",
      "Requirement already satisfied: dash-html-components>=1.0.0 in /home/suthinan/Learning/Freshman/Term02/Basic_Ai/air_dash/venv/lib/python3.11/site-packages (from interpret-core[dash,debug,linear,notebook,plotly,sensitivity,shap]==0.5.1->interpret>=0.2.7->pycaret[full]) (2.0.0)\n",
      "Requirement already satisfied: dash-table>=4.1.0 in /home/suthinan/Learning/Freshman/Term02/Basic_Ai/air_dash/venv/lib/python3.11/site-packages (from interpret-core[dash,debug,linear,notebook,plotly,sensitivity,shap]==0.5.1->interpret>=0.2.7->pycaret[full]) (5.0.0)\n",
      "Requirement already satisfied: dash-cytoscape>=0.1.1 in /home/suthinan/Learning/Freshman/Term02/Basic_Ai/air_dash/venv/lib/python3.11/site-packages (from interpret-core[dash,debug,linear,notebook,plotly,sensitivity,shap]==0.5.1->interpret>=0.2.7->pycaret[full]) (1.0.0)\n",
      "Requirement already satisfied: gevent>=1.3.6 in /home/suthinan/Learning/Freshman/Term02/Basic_Ai/air_dash/venv/lib/python3.11/site-packages (from interpret-core[dash,debug,linear,notebook,plotly,sensitivity,shap]==0.5.1->interpret>=0.2.7->pycaret[full]) (24.2.1)\n",
      "Requirement already satisfied: ipykernel>=4.10.0 in /home/suthinan/Learning/Freshman/Term02/Basic_Ai/air_dash/venv/lib/python3.11/site-packages (from interpret-core[dash,debug,linear,notebook,plotly,sensitivity,shap]==0.5.1->interpret>=0.2.7->pycaret[full]) (6.29.3)\n",
      "Requirement already satisfied: SALib>=1.3.3 in /home/suthinan/Learning/Freshman/Term02/Basic_Ai/air_dash/venv/lib/python3.11/site-packages (from interpret-core[dash,debug,linear,notebook,plotly,sensitivity,shap]==0.5.1->interpret>=0.2.7->pycaret[full]) (1.4.8)\n",
      "Requirement already satisfied: dill>=0.2.5 in /home/suthinan/Learning/Freshman/Term02/Basic_Ai/air_dash/venv/lib/python3.11/site-packages (from interpret-core[dash,debug,linear,notebook,plotly,sensitivity,shap]==0.5.1->interpret>=0.2.7->pycaret[full]) (0.3.8)\n",
      "Requirement already satisfied: decorator in /home/suthinan/Learning/Freshman/Term02/Basic_Ai/air_dash/venv/lib/python3.11/site-packages (from ipython>=5.5.0->pycaret[full]) (5.1.1)\n",
      "Requirement already satisfied: jedi>=0.16 in /home/suthinan/Learning/Freshman/Term02/Basic_Ai/air_dash/venv/lib/python3.11/site-packages (from ipython>=5.5.0->pycaret[full]) (0.19.1)\n",
      "Requirement already satisfied: matplotlib-inline in /home/suthinan/Learning/Freshman/Term02/Basic_Ai/air_dash/venv/lib/python3.11/site-packages (from ipython>=5.5.0->pycaret[full]) (0.1.6)\n",
      "Requirement already satisfied: prompt-toolkit<3.1.0,>=3.0.41 in /home/suthinan/Learning/Freshman/Term02/Basic_Ai/air_dash/venv/lib/python3.11/site-packages (from ipython>=5.5.0->pycaret[full]) (3.0.43)\n",
      "Requirement already satisfied: pygments>=2.4.0 in /home/suthinan/Learning/Freshman/Term02/Basic_Ai/air_dash/venv/lib/python3.11/site-packages (from ipython>=5.5.0->pycaret[full]) (2.17.2)\n",
      "Requirement already satisfied: stack-data in /home/suthinan/Learning/Freshman/Term02/Basic_Ai/air_dash/venv/lib/python3.11/site-packages (from ipython>=5.5.0->pycaret[full]) (0.6.3)\n",
      "Requirement already satisfied: traitlets>=5.13.0 in /home/suthinan/Learning/Freshman/Term02/Basic_Ai/air_dash/venv/lib/python3.11/site-packages (from ipython>=5.5.0->pycaret[full]) (5.14.1)\n",
      "Requirement already satisfied: pexpect>4.3 in /home/suthinan/Learning/Freshman/Term02/Basic_Ai/air_dash/venv/lib/python3.11/site-packages (from ipython>=5.5.0->pycaret[full]) (4.9.0)\n",
      "Requirement already satisfied: comm>=0.1.3 in /home/suthinan/Learning/Freshman/Term02/Basic_Ai/air_dash/venv/lib/python3.11/site-packages (from ipywidgets>=7.6.5->pycaret[full]) (0.2.1)\n",
      "Requirement already satisfied: widgetsnbextension~=4.0.10 in /home/suthinan/Learning/Freshman/Term02/Basic_Ai/air_dash/venv/lib/python3.11/site-packages (from ipywidgets>=7.6.5->pycaret[full]) (4.0.10)\n",
      "Requirement already satisfied: jupyterlab-widgets~=3.0.10 in /home/suthinan/Learning/Freshman/Term02/Basic_Ai/air_dash/venv/lib/python3.11/site-packages (from ipywidgets>=7.6.5->pycaret[full]) (3.0.10)\n",
      "Requirement already satisfied: contourpy>=1.0.1 in /home/suthinan/Learning/Freshman/Term02/Basic_Ai/air_dash/venv/lib/python3.11/site-packages (from matplotlib<3.8.0->pycaret[full]) (1.2.0)\n",
      "Requirement already satisfied: cycler>=0.10 in /home/suthinan/Learning/Freshman/Term02/Basic_Ai/air_dash/venv/lib/python3.11/site-packages (from matplotlib<3.8.0->pycaret[full]) (0.12.1)\n",
      "Requirement already satisfied: fonttools>=4.22.0 in /home/suthinan/Learning/Freshman/Term02/Basic_Ai/air_dash/venv/lib/python3.11/site-packages (from matplotlib<3.8.0->pycaret[full]) (4.49.0)\n",
      "Requirement already satisfied: kiwisolver>=1.0.1 in /home/suthinan/Learning/Freshman/Term02/Basic_Ai/air_dash/venv/lib/python3.11/site-packages (from matplotlib<3.8.0->pycaret[full]) (1.4.5)\n",
      "Requirement already satisfied: pyparsing>=2.3.1 in /home/suthinan/Learning/Freshman/Term02/Basic_Ai/air_dash/venv/lib/python3.11/site-packages (from matplotlib<3.8.0->pycaret[full]) (3.1.1)\n",
      "Requirement already satisfied: python-dateutil>=2.7 in /home/suthinan/Learning/Freshman/Term02/Basic_Ai/air_dash/venv/lib/python3.11/site-packages (from matplotlib<3.8.0->pycaret[full]) (2.8.2)\n",
      "Requirement already satisfied: entrypoints<1 in /home/suthinan/Learning/Freshman/Term02/Basic_Ai/air_dash/venv/lib/python3.11/site-packages (from mlflow>=2.0.0->pycaret[full]) (0.4)\n",
      "Requirement already satisfied: gitpython<4,>=2.1.0 in /home/suthinan/Learning/Freshman/Term02/Basic_Ai/air_dash/venv/lib/python3.11/site-packages (from mlflow>=2.0.0->pycaret[full]) (3.1.42)\n",
      "Requirement already satisfied: protobuf<5,>=3.12.0 in /home/suthinan/Learning/Freshman/Term02/Basic_Ai/air_dash/venv/lib/python3.11/site-packages (from mlflow>=2.0.0->pycaret[full]) (4.25.3)\n",
      "Requirement already satisfied: pytz<2024 in /home/suthinan/Learning/Freshman/Term02/Basic_Ai/air_dash/venv/lib/python3.11/site-packages (from mlflow>=2.0.0->pycaret[full]) (2023.4)\n",
      "Requirement already satisfied: sqlparse<1,>=0.4.0 in /home/suthinan/Learning/Freshman/Term02/Basic_Ai/air_dash/venv/lib/python3.11/site-packages (from mlflow>=2.0.0->pycaret[full]) (0.4.4)\n",
      "Requirement already satisfied: alembic!=1.10.0,<2 in /home/suthinan/Learning/Freshman/Term02/Basic_Ai/air_dash/venv/lib/python3.11/site-packages (from mlflow>=2.0.0->pycaret[full]) (1.13.1)\n",
      "Requirement already satisfied: docker<8,>=4.0.0 in /home/suthinan/Learning/Freshman/Term02/Basic_Ai/air_dash/venv/lib/python3.11/site-packages (from mlflow>=2.0.0->pycaret[full]) (7.0.0)\n",
      "Requirement already satisfied: querystring-parser<2 in /home/suthinan/Learning/Freshman/Term02/Basic_Ai/air_dash/venv/lib/python3.11/site-packages (from mlflow>=2.0.0->pycaret[full]) (1.2.4)\n",
      "Requirement already satisfied: sqlalchemy<3,>=1.4.0 in /home/suthinan/Learning/Freshman/Term02/Basic_Ai/air_dash/venv/lib/python3.11/site-packages (from mlflow>=2.0.0->pycaret[full]) (2.0.27)\n",
      "Requirement already satisfied: pyarrow<16,>=4.0.0 in /home/suthinan/Learning/Freshman/Term02/Basic_Ai/air_dash/venv/lib/python3.11/site-packages (from mlflow>=2.0.0->pycaret[full]) (15.0.0)\n",
      "Requirement already satisfied: markdown<4,>=3.3 in /home/suthinan/Learning/Freshman/Term02/Basic_Ai/air_dash/venv/lib/python3.11/site-packages (from mlflow>=2.0.0->pycaret[full]) (3.5.2)\n",
      "Requirement already satisfied: gunicorn<22 in /home/suthinan/Learning/Freshman/Term02/Basic_Ai/air_dash/venv/lib/python3.11/site-packages (from mlflow>=2.0.0->pycaret[full]) (21.2.0)\n",
      "Requirement already satisfied: itsdangerous>=2.1.2 in /home/suthinan/Learning/Freshman/Term02/Basic_Ai/air_dash/venv/lib/python3.11/site-packages (from flask->pycaret[full]) (2.1.2)\n",
      "Requirement already satisfied: blinker>=1.6.2 in /home/suthinan/Learning/Freshman/Term02/Basic_Ai/air_dash/venv/lib/python3.11/site-packages (from flask->pycaret[full]) (1.7.0)\n",
      "Requirement already satisfied: cryptography>=3.3.1 in /home/suthinan/Learning/Freshman/Term02/Basic_Ai/air_dash/venv/lib/python3.11/site-packages (from moto<5.0.0->pycaret[full]) (42.0.5)\n",
      "Requirement already satisfied: xmltodict in /home/suthinan/Learning/Freshman/Term02/Basic_Ai/air_dash/venv/lib/python3.11/site-packages (from moto<5.0.0->pycaret[full]) (0.13.0)\n",
      "Requirement already satisfied: responses>=0.13.0 in /home/suthinan/Learning/Freshman/Term02/Basic_Ai/air_dash/venv/lib/python3.11/site-packages (from moto<5.0.0->pycaret[full]) (0.25.0)\n",
      "Requirement already satisfied: fastjsonschema in /home/suthinan/Learning/Freshman/Term02/Basic_Ai/air_dash/venv/lib/python3.11/site-packages (from nbformat>=4.2.0->pycaret[full]) (2.19.1)\n",
      "Requirement already satisfied: jsonschema>=2.6 in /home/suthinan/Learning/Freshman/Term02/Basic_Ai/air_dash/venv/lib/python3.11/site-packages (from nbformat>=4.2.0->pycaret[full]) (4.21.1)\n",
      "Requirement already satisfied: jupyter-core in /home/suthinan/Learning/Freshman/Term02/Basic_Ai/air_dash/venv/lib/python3.11/site-packages (from nbformat>=4.2.0->pycaret[full]) (5.7.1)\n",
      "Requirement already satisfied: llvmlite<0.42,>=0.41.0dev0 in /home/suthinan/Learning/Freshman/Term02/Basic_Ai/air_dash/venv/lib/python3.11/site-packages (from numba>=0.55.0->pycaret[full]) (0.41.1)\n",
      "Requirement already satisfied: colorlog in /home/suthinan/Learning/Freshman/Term02/Basic_Ai/air_dash/venv/lib/python3.11/site-packages (from optuna>=3.0.0->pycaret[full]) (6.8.2)\n",
      "Requirement already satisfied: tzdata>=2022.1 in /home/suthinan/Learning/Freshman/Term02/Basic_Ai/air_dash/venv/lib/python3.11/site-packages (from pandas<2.2.0->pycaret[full]) (2024.1)\n",
      "Requirement already satisfied: tenacity>=6.2.0 in /home/suthinan/Learning/Freshman/Term02/Basic_Ai/air_dash/venv/lib/python3.11/site-packages (from plotly>=5.14.0->pycaret[full]) (8.2.3)\n",
      "Requirement already satisfied: tsdownsample==0.1.2 in /home/suthinan/Learning/Freshman/Term02/Basic_Ai/air_dash/venv/lib/python3.11/site-packages (from plotly-resampler>=0.8.3.1->pycaret[full]) (0.1.2)\n",
      "Requirement already satisfied: Cython!=0.29.18,!=0.29.31,>=0.29 in /home/suthinan/Learning/Freshman/Term02/Basic_Ai/air_dash/venv/lib/python3.11/site-packages (from pmdarima>=2.0.4->pycaret[full]) (3.0.8)\n",
      "Requirement already satisfied: urllib3 in /home/suthinan/Learning/Freshman/Term02/Basic_Ai/air_dash/venv/lib/python3.11/site-packages (from pmdarima>=2.0.4->pycaret[full]) (1.26.18)\n",
      "Requirement already satisfied: setuptools!=50.0.0,>=38.6.0 in /home/suthinan/Learning/Freshman/Term02/Basic_Ai/air_dash/venv/lib/python3.11/site-packages (from pmdarima>=2.0.4->pycaret[full]) (68.1.2)\n",
      "Requirement already satisfied: iniconfig in /home/suthinan/Learning/Freshman/Term02/Basic_Ai/air_dash/venv/lib/python3.11/site-packages (from pytest<8.0.0->pycaret[full]) (2.0.0)\n",
      "Requirement already satisfied: pluggy<2.0,>=0.12 in /home/suthinan/Learning/Freshman/Term02/Basic_Ai/air_dash/venv/lib/python3.11/site-packages (from pytest<8.0.0->pycaret[full]) (1.4.0)\n",
      "Requirement already satisfied: filelock in /home/suthinan/Learning/Freshman/Term02/Basic_Ai/air_dash/venv/lib/python3.11/site-packages (from ray>=1.0.0->ray[tune]>=1.0.0; (python_version != \"3.11\" or platform_system != \"Windows\") and extra == \"full\"->pycaret[full]) (3.13.1)\n",
      "Requirement already satisfied: msgpack<2.0.0,>=1.0.0 in /home/suthinan/Learning/Freshman/Term02/Basic_Ai/air_dash/venv/lib/python3.11/site-packages (from ray>=1.0.0->ray[tune]>=1.0.0; (python_version != \"3.11\" or platform_system != \"Windows\") and extra == \"full\"->pycaret[full]) (1.0.7)\n",
      "Requirement already satisfied: aiosignal in /home/suthinan/Learning/Freshman/Term02/Basic_Ai/air_dash/venv/lib/python3.11/site-packages (from ray>=1.0.0->ray[tune]>=1.0.0; (python_version != \"3.11\" or platform_system != \"Windows\") and extra == \"full\"->pycaret[full]) (1.3.1)\n",
      "Requirement already satisfied: frozenlist in /home/suthinan/Learning/Freshman/Term02/Basic_Ai/air_dash/venv/lib/python3.11/site-packages (from ray>=1.0.0->ray[tune]>=1.0.0; (python_version != \"3.11\" or platform_system != \"Windows\") and extra == \"full\"->pycaret[full]) (1.4.1)\n",
      "Requirement already satisfied: tensorboardX>=1.9 in /home/suthinan/Learning/Freshman/Term02/Basic_Ai/air_dash/venv/lib/python3.11/site-packages (from ray[tune]>=1.0.0; (python_version != \"3.11\" or platform_system != \"Windows\") and extra == \"full\"->pycaret[full]) (2.6.2.2)\n",
      "Requirement already satisfied: charset-normalizer<4,>=2 in /home/suthinan/Learning/Freshman/Term02/Basic_Ai/air_dash/venv/lib/python3.11/site-packages (from requests>=2.27.1->pycaret[full]) (3.3.2)\n",
      "Requirement already satisfied: idna<4,>=2.5 in /home/suthinan/Learning/Freshman/Term02/Basic_Ai/air_dash/venv/lib/python3.11/site-packages (from requests>=2.27.1->pycaret[full]) (3.6)\n",
      "Requirement already satisfied: certifi>=2017.4.17 in /home/suthinan/Learning/Freshman/Term02/Basic_Ai/air_dash/venv/lib/python3.11/site-packages (from requests>=2.27.1->pycaret[full]) (2024.2.2)\n",
      "Requirement already satisfied: daal4py==2024.1.0 in /home/suthinan/Learning/Freshman/Term02/Basic_Ai/air_dash/venv/lib/python3.11/site-packages (from scikit-learn-intelex>=2023.0.1->pycaret[full]) (2024.1.0)\n",
      "Requirement already satisfied: daal==2024.1.0 in /home/suthinan/Learning/Freshman/Term02/Basic_Ai/air_dash/venv/lib/python3.11/site-packages (from daal4py==2024.1.0->scikit-learn-intelex>=2023.0.1->pycaret[full]) (2024.1.0)\n",
      "Requirement already satisfied: tbb==2021.* in /home/suthinan/Learning/Freshman/Term02/Basic_Ai/air_dash/venv/lib/python3.11/site-packages (from daal==2024.1.0->daal4py==2024.1.0->scikit-learn-intelex>=2023.0.1->pycaret[full]) (2021.11.0)\n",
      "Requirement already satisfied: pyaml>=16.9 in /home/suthinan/Learning/Freshman/Term02/Basic_Ai/air_dash/venv/lib/python3.11/site-packages (from scikit-optimize>=0.9.0->pycaret[full]) (23.12.0)\n",
      "Requirement already satisfied: slicer==0.0.7 in /home/suthinan/Learning/Freshman/Term02/Basic_Ai/air_dash/venv/lib/python3.11/site-packages (from shap>=0.44.0->pycaret[full]) (0.0.7)\n",
      "Requirement already satisfied: scikit-base<0.8.0 in /home/suthinan/Learning/Freshman/Term02/Basic_Ai/air_dash/venv/lib/python3.11/site-packages (from sktime>=0.26.0->pycaret[full]) (0.7.2)\n",
      "Requirement already satisfied: adagio>=0.2.4 in /home/suthinan/Learning/Freshman/Term02/Basic_Ai/air_dash/venv/lib/python3.11/site-packages (from fugue->pycaret[full]) (0.2.4)\n",
      "Requirement already satisfied: qpd>=0.4.4 in /home/suthinan/Learning/Freshman/Term02/Basic_Ai/air_dash/venv/lib/python3.11/site-packages (from fugue->pycaret[full]) (0.4.4)\n",
      "Requirement already satisfied: fugue-sql-antlr>=0.1.6 in /home/suthinan/Learning/Freshman/Term02/Basic_Ai/air_dash/venv/lib/python3.11/site-packages (from fugue->pycaret[full]) (0.2.0)\n",
      "Requirement already satisfied: sqlglot in /home/suthinan/Learning/Freshman/Term02/Basic_Ai/air_dash/venv/lib/python3.11/site-packages (from fugue->pycaret[full]) (22.0.1)\n",
      "Requirement already satisfied: fs in /home/suthinan/Learning/Freshman/Term02/Basic_Ai/air_dash/venv/lib/python3.11/site-packages (from triad<0.9.2->pycaret[full]) (2.4.16)\n",
      "Requirement already satisfied: pynndescent>=0.5 in /home/suthinan/Learning/Freshman/Term02/Basic_Ai/air_dash/venv/lib/python3.11/site-packages (from umap-learn>=0.5.2->pycaret[full]) (0.5.11)\n",
      "Requirement already satisfied: h11>=0.8 in /home/suthinan/Learning/Freshman/Term02/Basic_Ai/air_dash/venv/lib/python3.11/site-packages (from uvicorn>=0.17.6->pycaret[full]) (0.14.0)\n",
      "Requirement already satisfied: visions==0.7.5 in /home/suthinan/Learning/Freshman/Term02/Basic_Ai/air_dash/venv/lib/python3.11/site-packages (from visions[type_image_path]==0.7.5->ydata-profiling>=4.3.1->pycaret[full]) (0.7.5)\n",
      "Requirement already satisfied: htmlmin==0.1.12 in /home/suthinan/Learning/Freshman/Term02/Basic_Ai/air_dash/venv/lib/python3.11/site-packages (from ydata-profiling>=4.3.1->pycaret[full]) (0.1.12)\n",
      "Requirement already satisfied: phik<0.13,>=0.11.1 in /home/suthinan/Learning/Freshman/Term02/Basic_Ai/air_dash/venv/lib/python3.11/site-packages (from ydata-profiling>=4.3.1->pycaret[full]) (0.12.4)\n",
      "Requirement already satisfied: seaborn<0.13,>=0.10.1 in /home/suthinan/Learning/Freshman/Term02/Basic_Ai/air_dash/venv/lib/python3.11/site-packages (from ydata-profiling>=4.3.1->pycaret[full]) (0.12.2)\n",
      "Requirement already satisfied: multimethod<2,>=1.4 in /home/suthinan/Learning/Freshman/Term02/Basic_Ai/air_dash/venv/lib/python3.11/site-packages (from ydata-profiling>=4.3.1->pycaret[full]) (1.11.1)\n",
      "Requirement already satisfied: typeguard<5,>=4.1.2 in /home/suthinan/Learning/Freshman/Term02/Basic_Ai/air_dash/venv/lib/python3.11/site-packages (from ydata-profiling>=4.3.1->pycaret[full]) (4.1.5)\n",
      "Requirement already satisfied: imagehash==4.3.1 in /home/suthinan/Learning/Freshman/Term02/Basic_Ai/air_dash/venv/lib/python3.11/site-packages (from ydata-profiling>=4.3.1->pycaret[full]) (4.3.1)\n",
      "Requirement already satisfied: wordcloud>=1.9.1 in /home/suthinan/Learning/Freshman/Term02/Basic_Ai/air_dash/venv/lib/python3.11/site-packages (from ydata-profiling>=4.3.1->pycaret[full]) (1.9.3)\n",
      "Requirement already satisfied: dacite>=1.8 in /home/suthinan/Learning/Freshman/Term02/Basic_Ai/air_dash/venv/lib/python3.11/site-packages (from ydata-profiling>=4.3.1->pycaret[full]) (1.8.1)\n",
      "Requirement already satisfied: PyWavelets in /home/suthinan/Learning/Freshman/Term02/Basic_Ai/air_dash/venv/lib/python3.11/site-packages (from imagehash==4.3.1->ydata-profiling>=4.3.1->pycaret[full]) (1.5.0)\n",
      "Requirement already satisfied: attrs>=19.3.0 in /home/suthinan/Learning/Freshman/Term02/Basic_Ai/air_dash/venv/lib/python3.11/site-packages (from visions==0.7.5->visions[type_image_path]==0.7.5->ydata-profiling>=4.3.1->pycaret[full]) (23.2.0)\n",
      "Requirement already satisfied: tangled-up-in-unicode>=0.0.4 in /home/suthinan/Learning/Freshman/Term02/Basic_Ai/air_dash/venv/lib/python3.11/site-packages (from visions==0.7.5->visions[type_image_path]==0.7.5->ydata-profiling>=4.3.1->pycaret[full]) (0.2.0)\n",
      "Requirement already satisfied: retrying in /home/suthinan/Learning/Freshman/Term02/Basic_Ai/air_dash/venv/lib/python3.11/site-packages (from dash[testing]; extra == \"full\"->pycaret[full]) (1.3.4)\n",
      "Requirement already satisfied: nest-asyncio in /home/suthinan/Learning/Freshman/Term02/Basic_Ai/air_dash/venv/lib/python3.11/site-packages (from dash[testing]; extra == \"full\"->pycaret[full]) (1.6.0)\n",
      "Requirement already satisfied: beautifulsoup4>=4.8.2 in /home/suthinan/Learning/Freshman/Term02/Basic_Ai/air_dash/venv/lib/python3.11/site-packages (from dash[testing]; extra == \"full\"->pycaret[full]) (4.12.3)\n",
      "Requirement already satisfied: lxml>=4.6.2 in /home/suthinan/Learning/Freshman/Term02/Basic_Ai/air_dash/venv/lib/python3.11/site-packages (from dash[testing]; extra == \"full\"->pycaret[full]) (5.1.0)\n",
      "Requirement already satisfied: percy>=2.0.2 in /home/suthinan/Learning/Freshman/Term02/Basic_Ai/air_dash/venv/lib/python3.11/site-packages (from dash[testing]; extra == \"full\"->pycaret[full]) (2.0.2)\n",
      "Requirement already satisfied: selenium<=4.2.0,>=3.141.0 in /home/suthinan/Learning/Freshman/Term02/Basic_Ai/air_dash/venv/lib/python3.11/site-packages (from dash[testing]; extra == \"full\"->pycaret[full]) (4.2.0)\n",
      "Requirement already satisfied: multiprocess>=0.70.12 in /home/suthinan/Learning/Freshman/Term02/Basic_Ai/air_dash/venv/lib/python3.11/site-packages (from dash[testing]; extra == \"full\"->pycaret[full]) (0.70.16)\n",
      "Requirement already satisfied: dash-testing-stub>=0.0.2 in /home/suthinan/Learning/Freshman/Term02/Basic_Ai/air_dash/venv/lib/python3.11/site-packages (from dash[testing]; extra == \"full\"->pycaret[full]) (0.0.2)\n",
      "Requirement already satisfied: nltk>=3.6.7 in /home/suthinan/Learning/Freshman/Term02/Basic_Ai/air_dash/venv/lib/python3.11/site-packages (from evidently->pycaret[full]) (3.8.1)\n",
      "Requirement already satisfied: litestar>=2.5.1 in /home/suthinan/Learning/Freshman/Term02/Basic_Ai/air_dash/venv/lib/python3.11/site-packages (from evidently->pycaret[full]) (2.6.1)\n",
      "Requirement already satisfied: typing-inspect>=0.9.0 in /home/suthinan/Learning/Freshman/Term02/Basic_Ai/air_dash/venv/lib/python3.11/site-packages (from evidently->pycaret[full]) (0.9.0)\n",
      "Requirement already satisfied: watchdog>=3 in /home/suthinan/Learning/Freshman/Term02/Basic_Ai/air_dash/venv/lib/python3.11/site-packages (from evidently->pycaret[full]) (4.0.0)\n",
      "Requirement already satisfied: rich>=13 in /home/suthinan/Learning/Freshman/Term02/Basic_Ai/air_dash/venv/lib/python3.11/site-packages (from evidently->pycaret[full]) (13.7.0)\n",
      "Requirement already satisfied: iterative-telemetry>=0.0.5 in /home/suthinan/Learning/Freshman/Term02/Basic_Ai/air_dash/venv/lib/python3.11/site-packages (from evidently->pycaret[full]) (0.0.8)\n",
      "Requirement already satisfied: dynaconf>=3.2.4 in /home/suthinan/Learning/Freshman/Term02/Basic_Ai/air_dash/venv/lib/python3.11/site-packages (from evidently->pycaret[full]) (3.2.4)\n",
      "Requirement already satisfied: starlette<0.37.0,>=0.36.3 in /home/suthinan/Learning/Freshman/Term02/Basic_Ai/air_dash/venv/lib/python3.11/site-packages (from fastapi->pycaret[full]) (0.36.3)\n",
      "Requirement already satisfied: dask<2023.7.1,>=2022.9.0 in /home/suthinan/Learning/Freshman/Term02/Basic_Ai/air_dash/venv/lib/python3.11/site-packages (from dask[dataframe,distributed]<2023.7.1,>=2022.9.0; python_version >= \"3.8\" and extra == \"dask\"->fugue[dask]; extra == \"full\"->pycaret[full]) (2023.7.0)\n",
      "Requirement already satisfied: Mako in /home/suthinan/Learning/Freshman/Term02/Basic_Ai/air_dash/venv/lib/python3.11/site-packages (from alembic!=1.10.0,<2->mlflow>=2.0.0->pycaret[full]) (1.3.2)\n",
      "Requirement already satisfied: toolz in /home/suthinan/Learning/Freshman/Term02/Basic_Ai/air_dash/venv/lib/python3.11/site-packages (from altair<6.0,>=4.2.0->gradio>=3.50.2->pycaret[full]) (0.12.1)\n",
      "Requirement already satisfied: soupsieve>1.2 in /home/suthinan/Learning/Freshman/Term02/Basic_Ai/air_dash/venv/lib/python3.11/site-packages (from beautifulsoup4>=4.8.2->dash[testing]; extra == \"full\"->pycaret[full]) (2.5)\n",
      "Requirement already satisfied: cffi>=1.12 in /home/suthinan/Learning/Freshman/Term02/Basic_Ai/air_dash/venv/lib/python3.11/site-packages (from cryptography>=3.3.1->moto<5.0.0->pycaret[full]) (1.16.0)\n",
      "Requirement already satisfied: partd>=1.2.0 in /home/suthinan/Learning/Freshman/Term02/Basic_Ai/air_dash/venv/lib/python3.11/site-packages (from dask<2023.7.1,>=2022.9.0->dask[dataframe,distributed]<2023.7.1,>=2022.9.0; python_version >= \"3.8\" and extra == \"dask\"->fugue[dask]; extra == \"full\"->pycaret[full]) (1.4.1)\n",
      "Requirement already satisfied: distributed==2023.7.0 in /home/suthinan/Learning/Freshman/Term02/Basic_Ai/air_dash/venv/lib/python3.11/site-packages (from dask[dataframe,distributed]<2023.7.1,>=2022.9.0; python_version >= \"3.8\" and extra == \"dask\"->fugue[dask]; extra == \"full\"->pycaret[full]) (2023.7.0)\n",
      "Requirement already satisfied: locket>=1.0.0 in /home/suthinan/Learning/Freshman/Term02/Basic_Ai/air_dash/venv/lib/python3.11/site-packages (from distributed==2023.7.0->dask[dataframe,distributed]<2023.7.1,>=2022.9.0; python_version >= \"3.8\" and extra == \"dask\"->fugue[dask]; extra == \"full\"->pycaret[full]) (1.0.0)\n",
      "Requirement already satisfied: sortedcontainers>=2.0.5 in /home/suthinan/Learning/Freshman/Term02/Basic_Ai/air_dash/venv/lib/python3.11/site-packages (from distributed==2023.7.0->dask[dataframe,distributed]<2023.7.1,>=2022.9.0; python_version >= \"3.8\" and extra == \"dask\"->fugue[dask]; extra == \"full\"->pycaret[full]) (2.4.0)\n",
      "Requirement already satisfied: tblib>=1.6.0 in /home/suthinan/Learning/Freshman/Term02/Basic_Ai/air_dash/venv/lib/python3.11/site-packages (from distributed==2023.7.0->dask[dataframe,distributed]<2023.7.1,>=2022.9.0; python_version >= \"3.8\" and extra == \"dask\"->fugue[dask]; extra == \"full\"->pycaret[full]) (3.0.0)\n",
      "Requirement already satisfied: tornado>=6.0.4 in /home/suthinan/Learning/Freshman/Term02/Basic_Ai/air_dash/venv/lib/python3.11/site-packages (from distributed==2023.7.0->dask[dataframe,distributed]<2023.7.1,>=2022.9.0; python_version >= \"3.8\" and extra == \"dask\"->fugue[dask]; extra == \"full\"->pycaret[full]) (6.4)\n",
      "Requirement already satisfied: zict>=2.2.0 in /home/suthinan/Learning/Freshman/Term02/Basic_Ai/air_dash/venv/lib/python3.11/site-packages (from distributed==2023.7.0->dask[dataframe,distributed]<2023.7.1,>=2022.9.0; python_version >= \"3.8\" and extra == \"dask\"->fugue[dask]; extra == \"full\"->pycaret[full]) (3.0.0)\n",
      "Requirement already satisfied: colour in /home/suthinan/Learning/Freshman/Term02/Basic_Ai/air_dash/venv/lib/python3.11/site-packages (from dtreeviz>=2.1->explainerdashboard>=0.3.8->pycaret[full]) (0.1.5)\n",
      "Requirement already satisfied: wtforms in /home/suthinan/Learning/Freshman/Term02/Basic_Ai/air_dash/venv/lib/python3.11/site-packages (from Flask-WTF>=1.1->explainerdashboard>=0.3.8->pycaret[full]) (3.1.2)\n",
      "Requirement already satisfied: antlr4-python3-runtime<4.12 in /home/suthinan/Learning/Freshman/Term02/Basic_Ai/air_dash/venv/lib/python3.11/site-packages (from fugue-sql-antlr>=0.1.6->fugue->pycaret[full]) (4.11.1)\n",
      "Requirement already satisfied: gitdb<5,>=4.0.1 in /home/suthinan/Learning/Freshman/Term02/Basic_Ai/air_dash/venv/lib/python3.11/site-packages (from gitpython<4,>=2.1.0->mlflow>=2.0.0->pycaret[full]) (4.0.11)\n",
      "Requirement already satisfied: anyio in /home/suthinan/Learning/Freshman/Term02/Basic_Ai/air_dash/venv/lib/python3.11/site-packages (from httpx>=0.24.1->gradio>=3.50.2->pycaret[full]) (4.3.0)\n",
      "Requirement already satisfied: httpcore==1.* in /home/suthinan/Learning/Freshman/Term02/Basic_Ai/air_dash/venv/lib/python3.11/site-packages (from httpx>=0.24.1->gradio>=3.50.2->pycaret[full]) (1.0.4)\n",
      "Requirement already satisfied: sniffio in /home/suthinan/Learning/Freshman/Term02/Basic_Ai/air_dash/venv/lib/python3.11/site-packages (from httpx>=0.24.1->gradio>=3.50.2->pycaret[full]) (1.3.1)\n",
      "Requirement already satisfied: appdirs in /home/suthinan/Learning/Freshman/Term02/Basic_Ai/air_dash/venv/lib/python3.11/site-packages (from iterative-telemetry>=0.0.5->evidently->pycaret[full]) (1.4.4)\n",
      "Requirement already satisfied: distro in /home/suthinan/Learning/Freshman/Term02/Basic_Ai/air_dash/venv/lib/python3.11/site-packages (from iterative-telemetry>=0.0.5->evidently->pycaret[full]) (1.9.0)\n",
      "Requirement already satisfied: parso<0.9.0,>=0.8.3 in /home/suthinan/Learning/Freshman/Term02/Basic_Ai/air_dash/venv/lib/python3.11/site-packages (from jedi>=0.16->ipython>=5.5.0->pycaret[full]) (0.8.3)\n",
      "Requirement already satisfied: jsonschema-specifications>=2023.03.6 in /home/suthinan/Learning/Freshman/Term02/Basic_Ai/air_dash/venv/lib/python3.11/site-packages (from jsonschema>=2.6->nbformat>=4.2.0->pycaret[full]) (2023.12.1)\n",
      "Requirement already satisfied: referencing>=0.28.4 in /home/suthinan/Learning/Freshman/Term02/Basic_Ai/air_dash/venv/lib/python3.11/site-packages (from jsonschema>=2.6->nbformat>=4.2.0->pycaret[full]) (0.33.0)\n",
      "Requirement already satisfied: rpds-py>=0.7.1 in /home/suthinan/Learning/Freshman/Term02/Basic_Ai/air_dash/venv/lib/python3.11/site-packages (from jsonschema>=2.6->nbformat>=4.2.0->pycaret[full]) (0.18.0)\n",
      "Requirement already satisfied: ansi2html in /home/suthinan/Learning/Freshman/Term02/Basic_Ai/air_dash/venv/lib/python3.11/site-packages (from jupyter-dash>=0.4.1->explainerdashboard>=0.3.8->pycaret[full]) (1.9.1)\n",
      "Requirement already satisfied: msgspec>=0.18.2 in /home/suthinan/Learning/Freshman/Term02/Basic_Ai/air_dash/venv/lib/python3.11/site-packages (from litestar>=2.5.1->evidently->pycaret[full]) (0.18.6)\n",
      "Requirement already satisfied: multidict>=6.0.2 in /home/suthinan/Learning/Freshman/Term02/Basic_Ai/air_dash/venv/lib/python3.11/site-packages (from litestar>=2.5.1->evidently->pycaret[full]) (6.0.5)\n",
      "Requirement already satisfied: polyfactory>=2.6.3 in /home/suthinan/Learning/Freshman/Term02/Basic_Ai/air_dash/venv/lib/python3.11/site-packages (from litestar>=2.5.1->evidently->pycaret[full]) (2.14.1)\n",
      "Requirement already satisfied: rich-click in /home/suthinan/Learning/Freshman/Term02/Basic_Ai/air_dash/venv/lib/python3.11/site-packages (from litestar>=2.5.1->evidently->pycaret[full]) (1.7.3)\n",
      "Requirement already satisfied: regex>=2021.8.3 in /home/suthinan/Learning/Freshman/Term02/Basic_Ai/air_dash/venv/lib/python3.11/site-packages (from nltk>=3.6.7->evidently->pycaret[full]) (2023.12.25)\n",
      "Requirement already satisfied: ptyprocess>=0.5 in /home/suthinan/Learning/Freshman/Term02/Basic_Ai/air_dash/venv/lib/python3.11/site-packages (from pexpect>4.3->ipython>=5.5.0->pycaret[full]) (0.7.0)\n",
      "Requirement already satisfied: wcwidth in /home/suthinan/Learning/Freshman/Term02/Basic_Ai/air_dash/venv/lib/python3.11/site-packages (from prompt-toolkit<3.1.0,>=3.0.41->ipython>=5.5.0->pycaret[full]) (0.2.13)\n",
      "Requirement already satisfied: annotated-types>=0.4.0 in /home/suthinan/Learning/Freshman/Term02/Basic_Ai/air_dash/venv/lib/python3.11/site-packages (from pydantic>=2.0->gradio>=3.50.2->pycaret[full]) (0.6.0)\n",
      "Requirement already satisfied: pydantic-core==2.16.3 in /home/suthinan/Learning/Freshman/Term02/Basic_Ai/air_dash/venv/lib/python3.11/site-packages (from pydantic>=2.0->gradio>=3.50.2->pycaret[full]) (2.16.3)\n",
      "Requirement already satisfied: markdown-it-py>=2.2.0 in /home/suthinan/Learning/Freshman/Term02/Basic_Ai/air_dash/venv/lib/python3.11/site-packages (from rich>=13->evidently->pycaret[full]) (3.0.0)\n",
      "Requirement already satisfied: trio~=0.17 in /home/suthinan/Learning/Freshman/Term02/Basic_Ai/air_dash/venv/lib/python3.11/site-packages (from selenium<=4.2.0,>=3.141.0->dash[testing]; extra == \"full\"->pycaret[full]) (0.24.0)\n",
      "Requirement already satisfied: trio-websocket~=0.9 in /home/suthinan/Learning/Freshman/Term02/Basic_Ai/air_dash/venv/lib/python3.11/site-packages (from selenium<=4.2.0,>=3.141.0->dash[testing]; extra == \"full\"->pycaret[full]) (0.11.1)\n",
      "Requirement already satisfied: greenlet!=0.4.17 in /home/suthinan/Learning/Freshman/Term02/Basic_Ai/air_dash/venv/lib/python3.11/site-packages (from sqlalchemy<3,>=1.4.0->mlflow>=2.0.0->pycaret[full]) (3.0.3)\n",
      "Requirement already satisfied: colorama<0.5.0,>=0.4.3 in /home/suthinan/Learning/Freshman/Term02/Basic_Ai/air_dash/venv/lib/python3.11/site-packages (from typer[all]<1.0,>=0.9->gradio>=3.50.2->pycaret[full]) (0.4.6)\n",
      "Requirement already satisfied: shellingham<2.0.0,>=1.3.0 in /home/suthinan/Learning/Freshman/Term02/Basic_Ai/air_dash/venv/lib/python3.11/site-packages (from typer[all]<1.0,>=0.9->gradio>=3.50.2->pycaret[full]) (1.5.4)\n",
      "Requirement already satisfied: mypy-extensions>=0.3.0 in /home/suthinan/Learning/Freshman/Term02/Basic_Ai/air_dash/venv/lib/python3.11/site-packages (from typing-inspect>=0.9.0->evidently->pycaret[full]) (1.0.0)\n",
      "Requirement already satisfied: platformdirs>=2.5 in /home/suthinan/Learning/Freshman/Term02/Basic_Ai/air_dash/venv/lib/python3.11/site-packages (from jupyter-core->nbformat>=4.2.0->pycaret[full]) (4.2.0)\n",
      "Requirement already satisfied: executing>=1.2.0 in /home/suthinan/Learning/Freshman/Term02/Basic_Ai/air_dash/venv/lib/python3.11/site-packages (from stack-data->ipython>=5.5.0->pycaret[full]) (2.0.1)\n",
      "Requirement already satisfied: asttokens>=2.1.0 in /home/suthinan/Learning/Freshman/Term02/Basic_Ai/air_dash/venv/lib/python3.11/site-packages (from stack-data->ipython>=5.5.0->pycaret[full]) (2.4.1)\n",
      "Requirement already satisfied: pure-eval in /home/suthinan/Learning/Freshman/Term02/Basic_Ai/air_dash/venv/lib/python3.11/site-packages (from stack-data->ipython>=5.5.0->pycaret[full]) (0.2.2)\n",
      "Requirement already satisfied: pycparser in /home/suthinan/Learning/Freshman/Term02/Basic_Ai/air_dash/venv/lib/python3.11/site-packages (from cffi>=1.12->cryptography>=3.3.1->moto<5.0.0->pycaret[full]) (2.21)\n",
      "Requirement already satisfied: zope.event in /home/suthinan/Learning/Freshman/Term02/Basic_Ai/air_dash/venv/lib/python3.11/site-packages (from gevent>=1.3.6->interpret-core[dash,debug,linear,notebook,plotly,sensitivity,shap]==0.5.1->interpret>=0.2.7->pycaret[full]) (5.0)\n",
      "Requirement already satisfied: zope.interface in /home/suthinan/Learning/Freshman/Term02/Basic_Ai/air_dash/venv/lib/python3.11/site-packages (from gevent>=1.3.6->interpret-core[dash,debug,linear,notebook,plotly,sensitivity,shap]==0.5.1->interpret>=0.2.7->pycaret[full]) (6.2)\n",
      "Requirement already satisfied: smmap<6,>=3.0.1 in /home/suthinan/Learning/Freshman/Term02/Basic_Ai/air_dash/venv/lib/python3.11/site-packages (from gitdb<5,>=4.0.1->gitpython<4,>=2.1.0->mlflow>=2.0.0->pycaret[full]) (5.0.1)\n",
      "Requirement already satisfied: debugpy>=1.6.5 in /home/suthinan/Learning/Freshman/Term02/Basic_Ai/air_dash/venv/lib/python3.11/site-packages (from ipykernel>=4.10.0->interpret-core[dash,debug,linear,notebook,plotly,sensitivity,shap]==0.5.1->interpret>=0.2.7->pycaret[full]) (1.8.1)\n",
      "Requirement already satisfied: jupyter-client>=6.1.12 in /home/suthinan/Learning/Freshman/Term02/Basic_Ai/air_dash/venv/lib/python3.11/site-packages (from ipykernel>=4.10.0->interpret-core[dash,debug,linear,notebook,plotly,sensitivity,shap]==0.5.1->interpret>=0.2.7->pycaret[full]) (8.6.0)\n",
      "Requirement already satisfied: pyzmq>=24 in /home/suthinan/Learning/Freshman/Term02/Basic_Ai/air_dash/venv/lib/python3.11/site-packages (from ipykernel>=4.10.0->interpret-core[dash,debug,linear,notebook,plotly,sensitivity,shap]==0.5.1->interpret>=0.2.7->pycaret[full]) (25.1.2)\n",
      "Requirement already satisfied: mdurl~=0.1 in /home/suthinan/Learning/Freshman/Term02/Basic_Ai/air_dash/venv/lib/python3.11/site-packages (from markdown-it-py>=2.2.0->rich>=13->evidently->pycaret[full]) (0.1.2)\n",
      "Requirement already satisfied: faker in /home/suthinan/Learning/Freshman/Term02/Basic_Ai/air_dash/venv/lib/python3.11/site-packages (from polyfactory>=2.6.3->litestar>=2.5.1->evidently->pycaret[full]) (23.2.1)\n",
      "Requirement already satisfied: outcome in /home/suthinan/Learning/Freshman/Term02/Basic_Ai/air_dash/venv/lib/python3.11/site-packages (from trio~=0.17->selenium<=4.2.0,>=3.141.0->dash[testing]; extra == \"full\"->pycaret[full]) (1.3.0.post0)\n",
      "Requirement already satisfied: wsproto>=0.14 in /home/suthinan/Learning/Freshman/Term02/Basic_Ai/air_dash/venv/lib/python3.11/site-packages (from trio-websocket~=0.9->selenium<=4.2.0,>=3.141.0->dash[testing]; extra == \"full\"->pycaret[full]) (1.2.0)\n",
      "Requirement already satisfied: pyOpenSSL>=0.14 in /home/suthinan/Learning/Freshman/Term02/Basic_Ai/air_dash/venv/lib/python3.11/site-packages (from urllib3[secure,socks]~=1.26->selenium<=4.2.0,>=3.141.0->dash[testing]; extra == \"full\"->pycaret[full]) (24.0.0)\n",
      "Requirement already satisfied: urllib3-secure-extra in /home/suthinan/Learning/Freshman/Term02/Basic_Ai/air_dash/venv/lib/python3.11/site-packages (from urllib3[secure,socks]~=1.26->selenium<=4.2.0,>=3.141.0->dash[testing]; extra == \"full\"->pycaret[full]) (0.1.0)\n",
      "Requirement already satisfied: PySocks!=1.5.7,<2.0,>=1.5.6 in /home/suthinan/Learning/Freshman/Term02/Basic_Ai/air_dash/venv/lib/python3.11/site-packages (from urllib3[secure,socks]~=1.26->selenium<=4.2.0,>=3.141.0->dash[testing]; extra == \"full\"->pycaret[full]) (1.7.1)\n",
      "Note: you may need to restart the kernel to use updated packages.\n"
     ]
    }
   ],
   "source": [
    "%pip install \"pycaret[full]\""
   ]
  },
  {
   "cell_type": "code",
   "execution_count": 15,
   "metadata": {},
   "outputs": [
    {
     "data": {
      "text/html": [
       "<div>\n",
       "<style scoped>\n",
       "    .dataframe tbody tr th:only-of-type {\n",
       "        vertical-align: middle;\n",
       "    }\n",
       "\n",
       "    .dataframe tbody tr th {\n",
       "        vertical-align: top;\n",
       "    }\n",
       "\n",
       "    .dataframe thead th {\n",
       "        text-align: right;\n",
       "    }\n",
       "</style>\n",
       "<table border=\"1\" class=\"dataframe\">\n",
       "  <thead>\n",
       "    <tr style=\"text-align: right;\">\n",
       "      <th></th>\n",
       "      <th>Date</th>\n",
       "      <th>Passengers</th>\n",
       "    </tr>\n",
       "  </thead>\n",
       "  <tbody>\n",
       "    <tr>\n",
       "      <th>0</th>\n",
       "      <td>1949-01-01</td>\n",
       "      <td>112</td>\n",
       "    </tr>\n",
       "    <tr>\n",
       "      <th>1</th>\n",
       "      <td>1949-02-01</td>\n",
       "      <td>118</td>\n",
       "    </tr>\n",
       "    <tr>\n",
       "      <th>2</th>\n",
       "      <td>1949-03-01</td>\n",
       "      <td>132</td>\n",
       "    </tr>\n",
       "    <tr>\n",
       "      <th>3</th>\n",
       "      <td>1949-04-01</td>\n",
       "      <td>129</td>\n",
       "    </tr>\n",
       "    <tr>\n",
       "      <th>4</th>\n",
       "      <td>1949-05-01</td>\n",
       "      <td>121</td>\n",
       "    </tr>\n",
       "  </tbody>\n",
       "</table>\n",
       "</div>"
      ],
      "text/plain": [
       "        Date  Passengers\n",
       "0 1949-01-01         112\n",
       "1 1949-02-01         118\n",
       "2 1949-03-01         132\n",
       "3 1949-04-01         129\n",
       "4 1949-05-01         121"
      ]
     },
     "execution_count": 15,
     "metadata": {},
     "output_type": "execute_result"
    }
   ],
   "source": [
    "# read csv file\n",
    "import pandas as pd\n",
    "data = pd.read_csv('AirPassengers.csv')\n",
    "data['Date'] = pd.to_datetime(data['Date'])\n",
    "data.head()"
   ]
  },
  {
   "cell_type": "code",
   "execution_count": 16,
   "metadata": {},
   "outputs": [
    {
     "data": {
      "application/vnd.plotly.v1+json": {
       "config": {
        "plotlyServerURL": "https://plot.ly"
       },
       "data": [
        {
         "hovertemplate": "variable=Passengers<br>Date=%{x}<br>value=%{y}<extra></extra>",
         "legendgroup": "Passengers",
         "line": {
          "color": "#636efa",
          "dash": "solid"
         },
         "marker": {
          "symbol": "circle"
         },
         "mode": "lines",
         "name": "Passengers",
         "orientation": "v",
         "showlegend": true,
         "type": "scatter",
         "x": [
          "1949-01-01T00:00:00",
          "1949-02-01T00:00:00",
          "1949-03-01T00:00:00",
          "1949-04-01T00:00:00",
          "1949-05-01T00:00:00",
          "1949-06-01T00:00:00",
          "1949-07-01T00:00:00",
          "1949-08-01T00:00:00",
          "1949-09-01T00:00:00",
          "1949-10-01T00:00:00",
          "1949-11-01T00:00:00",
          "1949-12-01T00:00:00",
          "1950-01-01T00:00:00",
          "1950-02-01T00:00:00",
          "1950-03-01T00:00:00",
          "1950-04-01T00:00:00",
          "1950-05-01T00:00:00",
          "1950-06-01T00:00:00",
          "1950-07-01T00:00:00",
          "1950-08-01T00:00:00",
          "1950-09-01T00:00:00",
          "1950-10-01T00:00:00",
          "1950-11-01T00:00:00",
          "1950-12-01T00:00:00",
          "1951-01-01T00:00:00",
          "1951-02-01T00:00:00",
          "1951-03-01T00:00:00",
          "1951-04-01T00:00:00",
          "1951-05-01T00:00:00",
          "1951-06-01T00:00:00",
          "1951-07-01T00:00:00",
          "1951-08-01T00:00:00",
          "1951-09-01T00:00:00",
          "1951-10-01T00:00:00",
          "1951-11-01T00:00:00",
          "1951-12-01T00:00:00",
          "1952-01-01T00:00:00",
          "1952-02-01T00:00:00",
          "1952-03-01T00:00:00",
          "1952-04-01T00:00:00",
          "1952-05-01T00:00:00",
          "1952-06-01T00:00:00",
          "1952-07-01T00:00:00",
          "1952-08-01T00:00:00",
          "1952-09-01T00:00:00",
          "1952-10-01T00:00:00",
          "1952-11-01T00:00:00",
          "1952-12-01T00:00:00",
          "1953-01-01T00:00:00",
          "1953-02-01T00:00:00",
          "1953-03-01T00:00:00",
          "1953-04-01T00:00:00",
          "1953-05-01T00:00:00",
          "1953-06-01T00:00:00",
          "1953-07-01T00:00:00",
          "1953-08-01T00:00:00",
          "1953-09-01T00:00:00",
          "1953-10-01T00:00:00",
          "1953-11-01T00:00:00",
          "1953-12-01T00:00:00",
          "1954-01-01T00:00:00",
          "1954-02-01T00:00:00",
          "1954-03-01T00:00:00",
          "1954-04-01T00:00:00",
          "1954-05-01T00:00:00",
          "1954-06-01T00:00:00",
          "1954-07-01T00:00:00",
          "1954-08-01T00:00:00",
          "1954-09-01T00:00:00",
          "1954-10-01T00:00:00",
          "1954-11-01T00:00:00",
          "1954-12-01T00:00:00",
          "1955-01-01T00:00:00",
          "1955-02-01T00:00:00",
          "1955-03-01T00:00:00",
          "1955-04-01T00:00:00",
          "1955-05-01T00:00:00",
          "1955-06-01T00:00:00",
          "1955-07-01T00:00:00",
          "1955-08-01T00:00:00",
          "1955-09-01T00:00:00",
          "1955-10-01T00:00:00",
          "1955-11-01T00:00:00",
          "1955-12-01T00:00:00",
          "1956-01-01T00:00:00",
          "1956-02-01T00:00:00",
          "1956-03-01T00:00:00",
          "1956-04-01T00:00:00",
          "1956-05-01T00:00:00",
          "1956-06-01T00:00:00",
          "1956-07-01T00:00:00",
          "1956-08-01T00:00:00",
          "1956-09-01T00:00:00",
          "1956-10-01T00:00:00",
          "1956-11-01T00:00:00",
          "1956-12-01T00:00:00",
          "1957-01-01T00:00:00",
          "1957-02-01T00:00:00",
          "1957-03-01T00:00:00",
          "1957-04-01T00:00:00",
          "1957-05-01T00:00:00",
          "1957-06-01T00:00:00",
          "1957-07-01T00:00:00",
          "1957-08-01T00:00:00",
          "1957-09-01T00:00:00",
          "1957-10-01T00:00:00",
          "1957-11-01T00:00:00",
          "1957-12-01T00:00:00",
          "1958-01-01T00:00:00",
          "1958-02-01T00:00:00",
          "1958-03-01T00:00:00",
          "1958-04-01T00:00:00",
          "1958-05-01T00:00:00",
          "1958-06-01T00:00:00",
          "1958-07-01T00:00:00",
          "1958-08-01T00:00:00",
          "1958-09-01T00:00:00",
          "1958-10-01T00:00:00",
          "1958-11-01T00:00:00",
          "1958-12-01T00:00:00",
          "1959-01-01T00:00:00",
          "1959-02-01T00:00:00",
          "1959-03-01T00:00:00",
          "1959-04-01T00:00:00",
          "1959-05-01T00:00:00",
          "1959-06-01T00:00:00",
          "1959-07-01T00:00:00",
          "1959-08-01T00:00:00",
          "1959-09-01T00:00:00",
          "1959-10-01T00:00:00",
          "1959-11-01T00:00:00",
          "1959-12-01T00:00:00",
          "1960-01-01T00:00:00",
          "1960-02-01T00:00:00",
          "1960-03-01T00:00:00",
          "1960-04-01T00:00:00",
          "1960-05-01T00:00:00",
          "1960-06-01T00:00:00",
          "1960-07-01T00:00:00",
          "1960-08-01T00:00:00",
          "1960-09-01T00:00:00",
          "1960-10-01T00:00:00",
          "1960-11-01T00:00:00",
          "1960-12-01T00:00:00"
         ],
         "xaxis": "x",
         "y": [
          112,
          118,
          132,
          129,
          121,
          135,
          148,
          148,
          136,
          119,
          104,
          118,
          115,
          126,
          141,
          135,
          125,
          149,
          170,
          170,
          158,
          133,
          114,
          140,
          145,
          150,
          178,
          163,
          172,
          178,
          199,
          199,
          184,
          162,
          146,
          166,
          171,
          180,
          193,
          181,
          183,
          218,
          230,
          242,
          209,
          191,
          172,
          194,
          196,
          196,
          236,
          235,
          229,
          243,
          264,
          272,
          237,
          211,
          180,
          201,
          204,
          188,
          235,
          227,
          234,
          264,
          302,
          293,
          259,
          229,
          203,
          229,
          242,
          233,
          267,
          269,
          270,
          315,
          364,
          347,
          312,
          274,
          237,
          278,
          284,
          277,
          317,
          313,
          318,
          374,
          413,
          405,
          355,
          306,
          271,
          306,
          315,
          301,
          356,
          348,
          355,
          422,
          465,
          467,
          404,
          347,
          305,
          336,
          340,
          318,
          362,
          348,
          363,
          435,
          491,
          505,
          404,
          359,
          310,
          337,
          360,
          342,
          406,
          396,
          420,
          472,
          548,
          559,
          463,
          407,
          362,
          405,
          417,
          391,
          419,
          461,
          472,
          535,
          622,
          606,
          508,
          461,
          390,
          432
         ],
         "yaxis": "y"
        },
        {
         "hovertemplate": "variable=MA12<br>Date=%{x}<br>value=%{y}<extra></extra>",
         "legendgroup": "MA12",
         "line": {
          "color": "#EF553B",
          "dash": "solid"
         },
         "marker": {
          "symbol": "circle"
         },
         "mode": "lines",
         "name": "MA12",
         "orientation": "v",
         "showlegend": true,
         "type": "scatter",
         "x": [
          "1949-01-01T00:00:00",
          "1949-02-01T00:00:00",
          "1949-03-01T00:00:00",
          "1949-04-01T00:00:00",
          "1949-05-01T00:00:00",
          "1949-06-01T00:00:00",
          "1949-07-01T00:00:00",
          "1949-08-01T00:00:00",
          "1949-09-01T00:00:00",
          "1949-10-01T00:00:00",
          "1949-11-01T00:00:00",
          "1949-12-01T00:00:00",
          "1950-01-01T00:00:00",
          "1950-02-01T00:00:00",
          "1950-03-01T00:00:00",
          "1950-04-01T00:00:00",
          "1950-05-01T00:00:00",
          "1950-06-01T00:00:00",
          "1950-07-01T00:00:00",
          "1950-08-01T00:00:00",
          "1950-09-01T00:00:00",
          "1950-10-01T00:00:00",
          "1950-11-01T00:00:00",
          "1950-12-01T00:00:00",
          "1951-01-01T00:00:00",
          "1951-02-01T00:00:00",
          "1951-03-01T00:00:00",
          "1951-04-01T00:00:00",
          "1951-05-01T00:00:00",
          "1951-06-01T00:00:00",
          "1951-07-01T00:00:00",
          "1951-08-01T00:00:00",
          "1951-09-01T00:00:00",
          "1951-10-01T00:00:00",
          "1951-11-01T00:00:00",
          "1951-12-01T00:00:00",
          "1952-01-01T00:00:00",
          "1952-02-01T00:00:00",
          "1952-03-01T00:00:00",
          "1952-04-01T00:00:00",
          "1952-05-01T00:00:00",
          "1952-06-01T00:00:00",
          "1952-07-01T00:00:00",
          "1952-08-01T00:00:00",
          "1952-09-01T00:00:00",
          "1952-10-01T00:00:00",
          "1952-11-01T00:00:00",
          "1952-12-01T00:00:00",
          "1953-01-01T00:00:00",
          "1953-02-01T00:00:00",
          "1953-03-01T00:00:00",
          "1953-04-01T00:00:00",
          "1953-05-01T00:00:00",
          "1953-06-01T00:00:00",
          "1953-07-01T00:00:00",
          "1953-08-01T00:00:00",
          "1953-09-01T00:00:00",
          "1953-10-01T00:00:00",
          "1953-11-01T00:00:00",
          "1953-12-01T00:00:00",
          "1954-01-01T00:00:00",
          "1954-02-01T00:00:00",
          "1954-03-01T00:00:00",
          "1954-04-01T00:00:00",
          "1954-05-01T00:00:00",
          "1954-06-01T00:00:00",
          "1954-07-01T00:00:00",
          "1954-08-01T00:00:00",
          "1954-09-01T00:00:00",
          "1954-10-01T00:00:00",
          "1954-11-01T00:00:00",
          "1954-12-01T00:00:00",
          "1955-01-01T00:00:00",
          "1955-02-01T00:00:00",
          "1955-03-01T00:00:00",
          "1955-04-01T00:00:00",
          "1955-05-01T00:00:00",
          "1955-06-01T00:00:00",
          "1955-07-01T00:00:00",
          "1955-08-01T00:00:00",
          "1955-09-01T00:00:00",
          "1955-10-01T00:00:00",
          "1955-11-01T00:00:00",
          "1955-12-01T00:00:00",
          "1956-01-01T00:00:00",
          "1956-02-01T00:00:00",
          "1956-03-01T00:00:00",
          "1956-04-01T00:00:00",
          "1956-05-01T00:00:00",
          "1956-06-01T00:00:00",
          "1956-07-01T00:00:00",
          "1956-08-01T00:00:00",
          "1956-09-01T00:00:00",
          "1956-10-01T00:00:00",
          "1956-11-01T00:00:00",
          "1956-12-01T00:00:00",
          "1957-01-01T00:00:00",
          "1957-02-01T00:00:00",
          "1957-03-01T00:00:00",
          "1957-04-01T00:00:00",
          "1957-05-01T00:00:00",
          "1957-06-01T00:00:00",
          "1957-07-01T00:00:00",
          "1957-08-01T00:00:00",
          "1957-09-01T00:00:00",
          "1957-10-01T00:00:00",
          "1957-11-01T00:00:00",
          "1957-12-01T00:00:00",
          "1958-01-01T00:00:00",
          "1958-02-01T00:00:00",
          "1958-03-01T00:00:00",
          "1958-04-01T00:00:00",
          "1958-05-01T00:00:00",
          "1958-06-01T00:00:00",
          "1958-07-01T00:00:00",
          "1958-08-01T00:00:00",
          "1958-09-01T00:00:00",
          "1958-10-01T00:00:00",
          "1958-11-01T00:00:00",
          "1958-12-01T00:00:00",
          "1959-01-01T00:00:00",
          "1959-02-01T00:00:00",
          "1959-03-01T00:00:00",
          "1959-04-01T00:00:00",
          "1959-05-01T00:00:00",
          "1959-06-01T00:00:00",
          "1959-07-01T00:00:00",
          "1959-08-01T00:00:00",
          "1959-09-01T00:00:00",
          "1959-10-01T00:00:00",
          "1959-11-01T00:00:00",
          "1959-12-01T00:00:00",
          "1960-01-01T00:00:00",
          "1960-02-01T00:00:00",
          "1960-03-01T00:00:00",
          "1960-04-01T00:00:00",
          "1960-05-01T00:00:00",
          "1960-06-01T00:00:00",
          "1960-07-01T00:00:00",
          "1960-08-01T00:00:00",
          "1960-09-01T00:00:00",
          "1960-10-01T00:00:00",
          "1960-11-01T00:00:00",
          "1960-12-01T00:00:00"
         ],
         "xaxis": "x",
         "y": [
          null,
          null,
          null,
          null,
          null,
          null,
          null,
          null,
          null,
          null,
          null,
          126.66666666666667,
          126.91666666666667,
          127.58333333333333,
          128.33333333333334,
          128.83333333333334,
          129.16666666666666,
          130.33333333333334,
          132.16666666666666,
          134,
          135.83333333333334,
          137,
          137.83333333333334,
          139.66666666666666,
          142.16666666666666,
          144.16666666666666,
          147.25,
          149.58333333333334,
          153.5,
          155.91666666666666,
          158.33333333333334,
          160.75,
          162.91666666666666,
          165.33333333333334,
          168,
          170.16666666666666,
          172.33333333333334,
          174.83333333333334,
          176.08333333333334,
          177.58333333333334,
          178.5,
          181.83333333333334,
          184.41666666666666,
          188,
          190.08333333333334,
          192.5,
          194.66666666666666,
          197,
          199.08333333333334,
          200.41666666666666,
          204,
          208.5,
          212.33333333333334,
          214.41666666666666,
          217.25,
          219.75,
          222.08333333333334,
          223.75,
          224.41666666666666,
          225,
          225.66666666666666,
          225,
          224.91666666666666,
          224.25,
          224.66666666666666,
          226.41666666666666,
          229.58333333333334,
          231.33333333333334,
          233.16666666666666,
          234.66666666666666,
          236.58333333333334,
          238.91666666666666,
          242.08333333333334,
          245.83333333333334,
          248.5,
          252,
          255,
          259.25,
          264.4166666666667,
          268.9166666666667,
          273.3333333333333,
          277.0833333333333,
          279.9166666666667,
          284,
          287.5,
          291.1666666666667,
          295.3333333333333,
          299,
          303,
          307.9166666666667,
          312,
          316.8333333333333,
          320.4166666666667,
          323.0833333333333,
          325.9166666666667,
          328.25,
          330.8333333333333,
          332.8333333333333,
          336.0833333333333,
          339,
          342.0833333333333,
          346.0833333333333,
          350.4166666666667,
          355.5833333333333,
          359.6666666666667,
          363.0833333333333,
          365.9166666666667,
          368.4166666666667,
          370.5,
          371.9166666666667,
          372.4166666666667,
          372.4166666666667,
          373.0833333333333,
          374.1666666666667,
          376.3333333333333,
          379.5,
          379.5,
          380.5,
          380.9166666666667,
          381,
          382.6666666666667,
          384.6666666666667,
          388.3333333333333,
          392.3333333333333,
          397.0833333333333,
          400.1666666666667,
          404.9166666666667,
          409.4166666666667,
          414.3333333333333,
          418.3333333333333,
          422.6666666666667,
          428.3333333333333,
          433.0833333333333,
          437.1666666666667,
          438.25,
          443.6666666666667,
          448,
          453.25,
          459.4166666666667,
          463.3333333333333,
          467.0833333333333,
          471.5833333333333,
          473.9166666666667,
          476.1666666666667
         ],
         "yaxis": "y"
        }
       ],
       "layout": {
        "legend": {
         "title": {
          "text": "variable"
         },
         "tracegroupgap": 0
        },
        "margin": {
         "t": 60
        },
        "template": {
         "data": {
          "bar": [
           {
            "error_x": {
             "color": "#f2f5fa"
            },
            "error_y": {
             "color": "#f2f5fa"
            },
            "marker": {
             "line": {
              "color": "rgb(17,17,17)",
              "width": 0.5
             },
             "pattern": {
              "fillmode": "overlay",
              "size": 10,
              "solidity": 0.2
             }
            },
            "type": "bar"
           }
          ],
          "barpolar": [
           {
            "marker": {
             "line": {
              "color": "rgb(17,17,17)",
              "width": 0.5
             },
             "pattern": {
              "fillmode": "overlay",
              "size": 10,
              "solidity": 0.2
             }
            },
            "type": "barpolar"
           }
          ],
          "carpet": [
           {
            "aaxis": {
             "endlinecolor": "#A2B1C6",
             "gridcolor": "#506784",
             "linecolor": "#506784",
             "minorgridcolor": "#506784",
             "startlinecolor": "#A2B1C6"
            },
            "baxis": {
             "endlinecolor": "#A2B1C6",
             "gridcolor": "#506784",
             "linecolor": "#506784",
             "minorgridcolor": "#506784",
             "startlinecolor": "#A2B1C6"
            },
            "type": "carpet"
           }
          ],
          "choropleth": [
           {
            "colorbar": {
             "outlinewidth": 0,
             "ticks": ""
            },
            "type": "choropleth"
           }
          ],
          "contour": [
           {
            "colorbar": {
             "outlinewidth": 0,
             "ticks": ""
            },
            "colorscale": [
             [
              0,
              "#0d0887"
             ],
             [
              0.1111111111111111,
              "#46039f"
             ],
             [
              0.2222222222222222,
              "#7201a8"
             ],
             [
              0.3333333333333333,
              "#9c179e"
             ],
             [
              0.4444444444444444,
              "#bd3786"
             ],
             [
              0.5555555555555556,
              "#d8576b"
             ],
             [
              0.6666666666666666,
              "#ed7953"
             ],
             [
              0.7777777777777778,
              "#fb9f3a"
             ],
             [
              0.8888888888888888,
              "#fdca26"
             ],
             [
              1,
              "#f0f921"
             ]
            ],
            "type": "contour"
           }
          ],
          "contourcarpet": [
           {
            "colorbar": {
             "outlinewidth": 0,
             "ticks": ""
            },
            "type": "contourcarpet"
           }
          ],
          "heatmap": [
           {
            "colorbar": {
             "outlinewidth": 0,
             "ticks": ""
            },
            "colorscale": [
             [
              0,
              "#0d0887"
             ],
             [
              0.1111111111111111,
              "#46039f"
             ],
             [
              0.2222222222222222,
              "#7201a8"
             ],
             [
              0.3333333333333333,
              "#9c179e"
             ],
             [
              0.4444444444444444,
              "#bd3786"
             ],
             [
              0.5555555555555556,
              "#d8576b"
             ],
             [
              0.6666666666666666,
              "#ed7953"
             ],
             [
              0.7777777777777778,
              "#fb9f3a"
             ],
             [
              0.8888888888888888,
              "#fdca26"
             ],
             [
              1,
              "#f0f921"
             ]
            ],
            "type": "heatmap"
           }
          ],
          "heatmapgl": [
           {
            "colorbar": {
             "outlinewidth": 0,
             "ticks": ""
            },
            "colorscale": [
             [
              0,
              "#0d0887"
             ],
             [
              0.1111111111111111,
              "#46039f"
             ],
             [
              0.2222222222222222,
              "#7201a8"
             ],
             [
              0.3333333333333333,
              "#9c179e"
             ],
             [
              0.4444444444444444,
              "#bd3786"
             ],
             [
              0.5555555555555556,
              "#d8576b"
             ],
             [
              0.6666666666666666,
              "#ed7953"
             ],
             [
              0.7777777777777778,
              "#fb9f3a"
             ],
             [
              0.8888888888888888,
              "#fdca26"
             ],
             [
              1,
              "#f0f921"
             ]
            ],
            "type": "heatmapgl"
           }
          ],
          "histogram": [
           {
            "marker": {
             "pattern": {
              "fillmode": "overlay",
              "size": 10,
              "solidity": 0.2
             }
            },
            "type": "histogram"
           }
          ],
          "histogram2d": [
           {
            "colorbar": {
             "outlinewidth": 0,
             "ticks": ""
            },
            "colorscale": [
             [
              0,
              "#0d0887"
             ],
             [
              0.1111111111111111,
              "#46039f"
             ],
             [
              0.2222222222222222,
              "#7201a8"
             ],
             [
              0.3333333333333333,
              "#9c179e"
             ],
             [
              0.4444444444444444,
              "#bd3786"
             ],
             [
              0.5555555555555556,
              "#d8576b"
             ],
             [
              0.6666666666666666,
              "#ed7953"
             ],
             [
              0.7777777777777778,
              "#fb9f3a"
             ],
             [
              0.8888888888888888,
              "#fdca26"
             ],
             [
              1,
              "#f0f921"
             ]
            ],
            "type": "histogram2d"
           }
          ],
          "histogram2dcontour": [
           {
            "colorbar": {
             "outlinewidth": 0,
             "ticks": ""
            },
            "colorscale": [
             [
              0,
              "#0d0887"
             ],
             [
              0.1111111111111111,
              "#46039f"
             ],
             [
              0.2222222222222222,
              "#7201a8"
             ],
             [
              0.3333333333333333,
              "#9c179e"
             ],
             [
              0.4444444444444444,
              "#bd3786"
             ],
             [
              0.5555555555555556,
              "#d8576b"
             ],
             [
              0.6666666666666666,
              "#ed7953"
             ],
             [
              0.7777777777777778,
              "#fb9f3a"
             ],
             [
              0.8888888888888888,
              "#fdca26"
             ],
             [
              1,
              "#f0f921"
             ]
            ],
            "type": "histogram2dcontour"
           }
          ],
          "mesh3d": [
           {
            "colorbar": {
             "outlinewidth": 0,
             "ticks": ""
            },
            "type": "mesh3d"
           }
          ],
          "parcoords": [
           {
            "line": {
             "colorbar": {
              "outlinewidth": 0,
              "ticks": ""
             }
            },
            "type": "parcoords"
           }
          ],
          "pie": [
           {
            "automargin": true,
            "type": "pie"
           }
          ],
          "scatter": [
           {
            "marker": {
             "line": {
              "color": "#283442"
             }
            },
            "type": "scatter"
           }
          ],
          "scatter3d": [
           {
            "line": {
             "colorbar": {
              "outlinewidth": 0,
              "ticks": ""
             }
            },
            "marker": {
             "colorbar": {
              "outlinewidth": 0,
              "ticks": ""
             }
            },
            "type": "scatter3d"
           }
          ],
          "scattercarpet": [
           {
            "marker": {
             "colorbar": {
              "outlinewidth": 0,
              "ticks": ""
             }
            },
            "type": "scattercarpet"
           }
          ],
          "scattergeo": [
           {
            "marker": {
             "colorbar": {
              "outlinewidth": 0,
              "ticks": ""
             }
            },
            "type": "scattergeo"
           }
          ],
          "scattergl": [
           {
            "marker": {
             "line": {
              "color": "#283442"
             }
            },
            "type": "scattergl"
           }
          ],
          "scattermapbox": [
           {
            "marker": {
             "colorbar": {
              "outlinewidth": 0,
              "ticks": ""
             }
            },
            "type": "scattermapbox"
           }
          ],
          "scatterpolar": [
           {
            "marker": {
             "colorbar": {
              "outlinewidth": 0,
              "ticks": ""
             }
            },
            "type": "scatterpolar"
           }
          ],
          "scatterpolargl": [
           {
            "marker": {
             "colorbar": {
              "outlinewidth": 0,
              "ticks": ""
             }
            },
            "type": "scatterpolargl"
           }
          ],
          "scatterternary": [
           {
            "marker": {
             "colorbar": {
              "outlinewidth": 0,
              "ticks": ""
             }
            },
            "type": "scatterternary"
           }
          ],
          "surface": [
           {
            "colorbar": {
             "outlinewidth": 0,
             "ticks": ""
            },
            "colorscale": [
             [
              0,
              "#0d0887"
             ],
             [
              0.1111111111111111,
              "#46039f"
             ],
             [
              0.2222222222222222,
              "#7201a8"
             ],
             [
              0.3333333333333333,
              "#9c179e"
             ],
             [
              0.4444444444444444,
              "#bd3786"
             ],
             [
              0.5555555555555556,
              "#d8576b"
             ],
             [
              0.6666666666666666,
              "#ed7953"
             ],
             [
              0.7777777777777778,
              "#fb9f3a"
             ],
             [
              0.8888888888888888,
              "#fdca26"
             ],
             [
              1,
              "#f0f921"
             ]
            ],
            "type": "surface"
           }
          ],
          "table": [
           {
            "cells": {
             "fill": {
              "color": "#506784"
             },
             "line": {
              "color": "rgb(17,17,17)"
             }
            },
            "header": {
             "fill": {
              "color": "#2a3f5f"
             },
             "line": {
              "color": "rgb(17,17,17)"
             }
            },
            "type": "table"
           }
          ]
         },
         "layout": {
          "annotationdefaults": {
           "arrowcolor": "#f2f5fa",
           "arrowhead": 0,
           "arrowwidth": 1
          },
          "autotypenumbers": "strict",
          "coloraxis": {
           "colorbar": {
            "outlinewidth": 0,
            "ticks": ""
           }
          },
          "colorscale": {
           "diverging": [
            [
             0,
             "#8e0152"
            ],
            [
             0.1,
             "#c51b7d"
            ],
            [
             0.2,
             "#de77ae"
            ],
            [
             0.3,
             "#f1b6da"
            ],
            [
             0.4,
             "#fde0ef"
            ],
            [
             0.5,
             "#f7f7f7"
            ],
            [
             0.6,
             "#e6f5d0"
            ],
            [
             0.7,
             "#b8e186"
            ],
            [
             0.8,
             "#7fbc41"
            ],
            [
             0.9,
             "#4d9221"
            ],
            [
             1,
             "#276419"
            ]
           ],
           "sequential": [
            [
             0,
             "#0d0887"
            ],
            [
             0.1111111111111111,
             "#46039f"
            ],
            [
             0.2222222222222222,
             "#7201a8"
            ],
            [
             0.3333333333333333,
             "#9c179e"
            ],
            [
             0.4444444444444444,
             "#bd3786"
            ],
            [
             0.5555555555555556,
             "#d8576b"
            ],
            [
             0.6666666666666666,
             "#ed7953"
            ],
            [
             0.7777777777777778,
             "#fb9f3a"
            ],
            [
             0.8888888888888888,
             "#fdca26"
            ],
            [
             1,
             "#f0f921"
            ]
           ],
           "sequentialminus": [
            [
             0,
             "#0d0887"
            ],
            [
             0.1111111111111111,
             "#46039f"
            ],
            [
             0.2222222222222222,
             "#7201a8"
            ],
            [
             0.3333333333333333,
             "#9c179e"
            ],
            [
             0.4444444444444444,
             "#bd3786"
            ],
            [
             0.5555555555555556,
             "#d8576b"
            ],
            [
             0.6666666666666666,
             "#ed7953"
            ],
            [
             0.7777777777777778,
             "#fb9f3a"
            ],
            [
             0.8888888888888888,
             "#fdca26"
            ],
            [
             1,
             "#f0f921"
            ]
           ]
          },
          "colorway": [
           "#636efa",
           "#EF553B",
           "#00cc96",
           "#ab63fa",
           "#FFA15A",
           "#19d3f3",
           "#FF6692",
           "#B6E880",
           "#FF97FF",
           "#FECB52"
          ],
          "font": {
           "color": "#f2f5fa"
          },
          "geo": {
           "bgcolor": "rgb(17,17,17)",
           "lakecolor": "rgb(17,17,17)",
           "landcolor": "rgb(17,17,17)",
           "showlakes": true,
           "showland": true,
           "subunitcolor": "#506784"
          },
          "hoverlabel": {
           "align": "left"
          },
          "hovermode": "closest",
          "mapbox": {
           "style": "dark"
          },
          "paper_bgcolor": "rgb(17,17,17)",
          "plot_bgcolor": "rgb(17,17,17)",
          "polar": {
           "angularaxis": {
            "gridcolor": "#506784",
            "linecolor": "#506784",
            "ticks": ""
           },
           "bgcolor": "rgb(17,17,17)",
           "radialaxis": {
            "gridcolor": "#506784",
            "linecolor": "#506784",
            "ticks": ""
           }
          },
          "scene": {
           "xaxis": {
            "backgroundcolor": "rgb(17,17,17)",
            "gridcolor": "#506784",
            "gridwidth": 2,
            "linecolor": "#506784",
            "showbackground": true,
            "ticks": "",
            "zerolinecolor": "#C8D4E3"
           },
           "yaxis": {
            "backgroundcolor": "rgb(17,17,17)",
            "gridcolor": "#506784",
            "gridwidth": 2,
            "linecolor": "#506784",
            "showbackground": true,
            "ticks": "",
            "zerolinecolor": "#C8D4E3"
           },
           "zaxis": {
            "backgroundcolor": "rgb(17,17,17)",
            "gridcolor": "#506784",
            "gridwidth": 2,
            "linecolor": "#506784",
            "showbackground": true,
            "ticks": "",
            "zerolinecolor": "#C8D4E3"
           }
          },
          "shapedefaults": {
           "line": {
            "color": "#f2f5fa"
           }
          },
          "sliderdefaults": {
           "bgcolor": "#C8D4E3",
           "bordercolor": "rgb(17,17,17)",
           "borderwidth": 1,
           "tickwidth": 0
          },
          "ternary": {
           "aaxis": {
            "gridcolor": "#506784",
            "linecolor": "#506784",
            "ticks": ""
           },
           "baxis": {
            "gridcolor": "#506784",
            "linecolor": "#506784",
            "ticks": ""
           },
           "bgcolor": "rgb(17,17,17)",
           "caxis": {
            "gridcolor": "#506784",
            "linecolor": "#506784",
            "ticks": ""
           }
          },
          "title": {
           "x": 0.05
          },
          "updatemenudefaults": {
           "bgcolor": "#506784",
           "borderwidth": 0
          },
          "xaxis": {
           "automargin": true,
           "gridcolor": "#283442",
           "linecolor": "#506784",
           "ticks": "",
           "title": {
            "standoff": 15
           },
           "zerolinecolor": "#283442",
           "zerolinewidth": 2
          },
          "yaxis": {
           "automargin": true,
           "gridcolor": "#283442",
           "linecolor": "#506784",
           "ticks": "",
           "title": {
            "standoff": 15
           },
           "zerolinecolor": "#283442",
           "zerolinewidth": 2
          }
         }
        },
        "xaxis": {
         "anchor": "y",
         "domain": [
          0,
          1
         ],
         "title": {
          "text": "Date"
         }
        },
        "yaxis": {
         "anchor": "x",
         "domain": [
          0,
          1
         ],
         "title": {
          "text": "value"
         }
        }
       }
      }
     },
     "metadata": {},
     "output_type": "display_data"
    }
   ],
   "source": [
    "data['MA12'] = data['Passengers'].rolling(12).mean()\n",
    "\n",
    "import plotly.express as px\n",
    "fig = px.line(data, x=\"Date\", y=[\"Passengers\", \"MA12\"], template= 'plotly_dark')\n",
    "fig.show()"
   ]
  },
  {
   "cell_type": "code",
   "execution_count": 17,
   "metadata": {},
   "outputs": [
    {
     "data": {
      "text/html": [
       "<div>\n",
       "<style scoped>\n",
       "    .dataframe tbody tr th:only-of-type {\n",
       "        vertical-align: middle;\n",
       "    }\n",
       "\n",
       "    .dataframe tbody tr th {\n",
       "        vertical-align: top;\n",
       "    }\n",
       "\n",
       "    .dataframe thead th {\n",
       "        text-align: right;\n",
       "    }\n",
       "</style>\n",
       "<table border=\"1\" class=\"dataframe\">\n",
       "  <thead>\n",
       "    <tr style=\"text-align: right;\">\n",
       "      <th></th>\n",
       "      <th>Series</th>\n",
       "      <th>Year</th>\n",
       "      <th>Month</th>\n",
       "      <th>Passengers</th>\n",
       "    </tr>\n",
       "  </thead>\n",
       "  <tbody>\n",
       "    <tr>\n",
       "      <th>0</th>\n",
       "      <td>1</td>\n",
       "      <td>1949</td>\n",
       "      <td>1</td>\n",
       "      <td>112</td>\n",
       "    </tr>\n",
       "    <tr>\n",
       "      <th>1</th>\n",
       "      <td>2</td>\n",
       "      <td>1949</td>\n",
       "      <td>2</td>\n",
       "      <td>118</td>\n",
       "    </tr>\n",
       "    <tr>\n",
       "      <th>2</th>\n",
       "      <td>3</td>\n",
       "      <td>1949</td>\n",
       "      <td>3</td>\n",
       "      <td>132</td>\n",
       "    </tr>\n",
       "    <tr>\n",
       "      <th>3</th>\n",
       "      <td>4</td>\n",
       "      <td>1949</td>\n",
       "      <td>4</td>\n",
       "      <td>129</td>\n",
       "    </tr>\n",
       "    <tr>\n",
       "      <th>4</th>\n",
       "      <td>5</td>\n",
       "      <td>1949</td>\n",
       "      <td>5</td>\n",
       "      <td>121</td>\n",
       "    </tr>\n",
       "  </tbody>\n",
       "</table>\n",
       "</div>"
      ],
      "text/plain": [
       "   Series  Year  Month  Passengers\n",
       "0       1  1949      1         112\n",
       "1       2  1949      2         118\n",
       "2       3  1949      3         132\n",
       "3       4  1949      4         129\n",
       "4       5  1949      5         121"
      ]
     },
     "execution_count": 17,
     "metadata": {},
     "output_type": "execute_result"
    }
   ],
   "source": [
    "import numpy as np\n",
    "data['Month'] = [i.month for i in data['Date']]\n",
    "data['Year'] = [i.year for i in data['Date']]\n",
    "\n",
    "data['Series'] = np.arange(1,len(data)+1)\n",
    "\n",
    "data.drop(['Date', 'MA12'], axis=1, inplace=True)\n",
    "data = data[['Series', 'Year', 'Month', 'Passengers']]\n",
    "\n",
    "data.head()\n"
   ]
  },
  {
   "cell_type": "code",
   "execution_count": 18,
   "metadata": {},
   "outputs": [
    {
     "data": {
      "text/plain": [
       "((132, 4), (12, 4))"
      ]
     },
     "execution_count": 18,
     "metadata": {},
     "output_type": "execute_result"
    }
   ],
   "source": [
    "train = data[data['Year'] < 1960]\n",
    "test = data[data['Year'] >= 1960]\n",
    "\n",
    "train.shape, test.shape\n"
   ]
  },
  {
   "cell_type": "code",
   "execution_count": 20,
   "metadata": {},
   "outputs": [
    {
     "data": {
      "text/html": [
       "<style type=\"text/css\">\n",
       "#T_0cf73_row8_col1, #T_0cf73_row12_col1 {\n",
       "  background-color: lightgreen;\n",
       "}\n",
       "</style>\n",
       "<table id=\"T_0cf73\">\n",
       "  <thead>\n",
       "    <tr>\n",
       "      <th class=\"blank level0\" >&nbsp;</th>\n",
       "      <th id=\"T_0cf73_level0_col0\" class=\"col_heading level0 col0\" >Description</th>\n",
       "      <th id=\"T_0cf73_level0_col1\" class=\"col_heading level0 col1\" >Value</th>\n",
       "    </tr>\n",
       "  </thead>\n",
       "  <tbody>\n",
       "    <tr>\n",
       "      <th id=\"T_0cf73_level0_row0\" class=\"row_heading level0 row0\" >0</th>\n",
       "      <td id=\"T_0cf73_row0_col0\" class=\"data row0 col0\" >Session id</td>\n",
       "      <td id=\"T_0cf73_row0_col1\" class=\"data row0 col1\" >123</td>\n",
       "    </tr>\n",
       "    <tr>\n",
       "      <th id=\"T_0cf73_level0_row1\" class=\"row_heading level0 row1\" >1</th>\n",
       "      <td id=\"T_0cf73_row1_col0\" class=\"data row1 col0\" >Target</td>\n",
       "      <td id=\"T_0cf73_row1_col1\" class=\"data row1 col1\" >Passengers</td>\n",
       "    </tr>\n",
       "    <tr>\n",
       "      <th id=\"T_0cf73_level0_row2\" class=\"row_heading level0 row2\" >2</th>\n",
       "      <td id=\"T_0cf73_row2_col0\" class=\"data row2 col0\" >Target type</td>\n",
       "      <td id=\"T_0cf73_row2_col1\" class=\"data row2 col1\" >Regression</td>\n",
       "    </tr>\n",
       "    <tr>\n",
       "      <th id=\"T_0cf73_level0_row3\" class=\"row_heading level0 row3\" >3</th>\n",
       "      <td id=\"T_0cf73_row3_col0\" class=\"data row3 col0\" >Original data shape</td>\n",
       "      <td id=\"T_0cf73_row3_col1\" class=\"data row3 col1\" >(144, 4)</td>\n",
       "    </tr>\n",
       "    <tr>\n",
       "      <th id=\"T_0cf73_level0_row4\" class=\"row_heading level0 row4\" >4</th>\n",
       "      <td id=\"T_0cf73_row4_col0\" class=\"data row4 col0\" >Transformed data shape</td>\n",
       "      <td id=\"T_0cf73_row4_col1\" class=\"data row4 col1\" >(144, 4)</td>\n",
       "    </tr>\n",
       "    <tr>\n",
       "      <th id=\"T_0cf73_level0_row5\" class=\"row_heading level0 row5\" >5</th>\n",
       "      <td id=\"T_0cf73_row5_col0\" class=\"data row5 col0\" >Transformed train set shape</td>\n",
       "      <td id=\"T_0cf73_row5_col1\" class=\"data row5 col1\" >(132, 4)</td>\n",
       "    </tr>\n",
       "    <tr>\n",
       "      <th id=\"T_0cf73_level0_row6\" class=\"row_heading level0 row6\" >6</th>\n",
       "      <td id=\"T_0cf73_row6_col0\" class=\"data row6 col0\" >Transformed test set shape</td>\n",
       "      <td id=\"T_0cf73_row6_col1\" class=\"data row6 col1\" >(12, 4)</td>\n",
       "    </tr>\n",
       "    <tr>\n",
       "      <th id=\"T_0cf73_level0_row7\" class=\"row_heading level0 row7\" >7</th>\n",
       "      <td id=\"T_0cf73_row7_col0\" class=\"data row7 col0\" >Numeric features</td>\n",
       "      <td id=\"T_0cf73_row7_col1\" class=\"data row7 col1\" >2</td>\n",
       "    </tr>\n",
       "    <tr>\n",
       "      <th id=\"T_0cf73_level0_row8\" class=\"row_heading level0 row8\" >8</th>\n",
       "      <td id=\"T_0cf73_row8_col0\" class=\"data row8 col0\" >Preprocess</td>\n",
       "      <td id=\"T_0cf73_row8_col1\" class=\"data row8 col1\" >True</td>\n",
       "    </tr>\n",
       "    <tr>\n",
       "      <th id=\"T_0cf73_level0_row9\" class=\"row_heading level0 row9\" >9</th>\n",
       "      <td id=\"T_0cf73_row9_col0\" class=\"data row9 col0\" >Imputation type</td>\n",
       "      <td id=\"T_0cf73_row9_col1\" class=\"data row9 col1\" >simple</td>\n",
       "    </tr>\n",
       "    <tr>\n",
       "      <th id=\"T_0cf73_level0_row10\" class=\"row_heading level0 row10\" >10</th>\n",
       "      <td id=\"T_0cf73_row10_col0\" class=\"data row10 col0\" >Numeric imputation</td>\n",
       "      <td id=\"T_0cf73_row10_col1\" class=\"data row10 col1\" >mean</td>\n",
       "    </tr>\n",
       "    <tr>\n",
       "      <th id=\"T_0cf73_level0_row11\" class=\"row_heading level0 row11\" >11</th>\n",
       "      <td id=\"T_0cf73_row11_col0\" class=\"data row11 col0\" >Categorical imputation</td>\n",
       "      <td id=\"T_0cf73_row11_col1\" class=\"data row11 col1\" >mode</td>\n",
       "    </tr>\n",
       "    <tr>\n",
       "      <th id=\"T_0cf73_level0_row12\" class=\"row_heading level0 row12\" >12</th>\n",
       "      <td id=\"T_0cf73_row12_col0\" class=\"data row12 col0\" >Transform target</td>\n",
       "      <td id=\"T_0cf73_row12_col1\" class=\"data row12 col1\" >True</td>\n",
       "    </tr>\n",
       "    <tr>\n",
       "      <th id=\"T_0cf73_level0_row13\" class=\"row_heading level0 row13\" >13</th>\n",
       "      <td id=\"T_0cf73_row13_col0\" class=\"data row13 col0\" >Transform target method</td>\n",
       "      <td id=\"T_0cf73_row13_col1\" class=\"data row13 col1\" >yeo-johnson</td>\n",
       "    </tr>\n",
       "    <tr>\n",
       "      <th id=\"T_0cf73_level0_row14\" class=\"row_heading level0 row14\" >14</th>\n",
       "      <td id=\"T_0cf73_row14_col0\" class=\"data row14 col0\" >Fold Generator</td>\n",
       "      <td id=\"T_0cf73_row14_col1\" class=\"data row14 col1\" >TimeSeriesSplit</td>\n",
       "    </tr>\n",
       "    <tr>\n",
       "      <th id=\"T_0cf73_level0_row15\" class=\"row_heading level0 row15\" >15</th>\n",
       "      <td id=\"T_0cf73_row15_col0\" class=\"data row15 col0\" >Fold Number</td>\n",
       "      <td id=\"T_0cf73_row15_col1\" class=\"data row15 col1\" >3</td>\n",
       "    </tr>\n",
       "    <tr>\n",
       "      <th id=\"T_0cf73_level0_row16\" class=\"row_heading level0 row16\" >16</th>\n",
       "      <td id=\"T_0cf73_row16_col0\" class=\"data row16 col0\" >CPU Jobs</td>\n",
       "      <td id=\"T_0cf73_row16_col1\" class=\"data row16 col1\" >-1</td>\n",
       "    </tr>\n",
       "    <tr>\n",
       "      <th id=\"T_0cf73_level0_row17\" class=\"row_heading level0 row17\" >17</th>\n",
       "      <td id=\"T_0cf73_row17_col0\" class=\"data row17 col0\" >Use GPU</td>\n",
       "      <td id=\"T_0cf73_row17_col1\" class=\"data row17 col1\" >False</td>\n",
       "    </tr>\n",
       "    <tr>\n",
       "      <th id=\"T_0cf73_level0_row18\" class=\"row_heading level0 row18\" >18</th>\n",
       "      <td id=\"T_0cf73_row18_col0\" class=\"data row18 col0\" >Log Experiment</td>\n",
       "      <td id=\"T_0cf73_row18_col1\" class=\"data row18 col1\" >False</td>\n",
       "    </tr>\n",
       "    <tr>\n",
       "      <th id=\"T_0cf73_level0_row19\" class=\"row_heading level0 row19\" >19</th>\n",
       "      <td id=\"T_0cf73_row19_col0\" class=\"data row19 col0\" >Experiment Name</td>\n",
       "      <td id=\"T_0cf73_row19_col1\" class=\"data row19 col1\" >reg-default-name</td>\n",
       "    </tr>\n",
       "    <tr>\n",
       "      <th id=\"T_0cf73_level0_row20\" class=\"row_heading level0 row20\" >20</th>\n",
       "      <td id=\"T_0cf73_row20_col0\" class=\"data row20 col0\" >USI</td>\n",
       "      <td id=\"T_0cf73_row20_col1\" class=\"data row20 col1\" >2b91</td>\n",
       "    </tr>\n",
       "  </tbody>\n",
       "</table>\n"
      ],
      "text/plain": [
       "<pandas.io.formats.style.Styler at 0x7f240cb64f90>"
      ]
     },
     "metadata": {},
     "output_type": "display_data"
    }
   ],
   "source": [
    "# import the regression module**\n",
    "from pycaret.regression import *\n",
    "\n",
    "# initialize setup**\n",
    "s = setup(data = train, test_data = test, target = 'Passengers', fold_strategy = 'timeseries', numeric_features = ['Year', 'Series'], fold = 3 , transform_target = True, session_id = 123, data_split_shuffle = False)"
   ]
  },
  {
   "cell_type": "code",
   "execution_count": 21,
   "metadata": {},
   "outputs": [
    {
     "data": {
      "text/html": [],
      "text/plain": [
       "<IPython.core.display.HTML object>"
      ]
     },
     "metadata": {},
     "output_type": "display_data"
    },
    {
     "data": {
      "text/html": [
       "<style type=\"text/css\">\n",
       "#T_9122e th {\n",
       "  text-align: left;\n",
       "}\n",
       "#T_9122e_row0_col0, #T_9122e_row1_col0, #T_9122e_row1_col1, #T_9122e_row1_col2, #T_9122e_row1_col3, #T_9122e_row1_col4, #T_9122e_row1_col5, #T_9122e_row1_col6, #T_9122e_row2_col0, #T_9122e_row2_col1, #T_9122e_row2_col2, #T_9122e_row2_col3, #T_9122e_row2_col4, #T_9122e_row2_col5, #T_9122e_row2_col6, #T_9122e_row3_col0, #T_9122e_row3_col1, #T_9122e_row3_col2, #T_9122e_row3_col3, #T_9122e_row3_col4, #T_9122e_row3_col5, #T_9122e_row3_col6, #T_9122e_row4_col0, #T_9122e_row4_col1, #T_9122e_row4_col2, #T_9122e_row4_col3, #T_9122e_row4_col4, #T_9122e_row4_col5, #T_9122e_row4_col6, #T_9122e_row5_col0, #T_9122e_row5_col1, #T_9122e_row5_col2, #T_9122e_row5_col3, #T_9122e_row5_col4, #T_9122e_row5_col5, #T_9122e_row5_col6, #T_9122e_row6_col0, #T_9122e_row6_col1, #T_9122e_row6_col2, #T_9122e_row6_col3, #T_9122e_row6_col4, #T_9122e_row6_col5, #T_9122e_row6_col6, #T_9122e_row7_col0, #T_9122e_row7_col1, #T_9122e_row7_col2, #T_9122e_row7_col3, #T_9122e_row7_col4, #T_9122e_row7_col5, #T_9122e_row7_col6, #T_9122e_row8_col0, #T_9122e_row8_col1, #T_9122e_row8_col2, #T_9122e_row8_col3, #T_9122e_row8_col4, #T_9122e_row8_col5, #T_9122e_row8_col6, #T_9122e_row9_col0, #T_9122e_row9_col1, #T_9122e_row9_col2, #T_9122e_row9_col3, #T_9122e_row9_col4, #T_9122e_row9_col5, #T_9122e_row9_col6, #T_9122e_row10_col0, #T_9122e_row10_col1, #T_9122e_row10_col2, #T_9122e_row10_col3, #T_9122e_row10_col4, #T_9122e_row10_col5, #T_9122e_row10_col6, #T_9122e_row11_col0, #T_9122e_row11_col1, #T_9122e_row11_col2, #T_9122e_row11_col3, #T_9122e_row11_col4, #T_9122e_row11_col5, #T_9122e_row11_col6, #T_9122e_row12_col0, #T_9122e_row12_col1, #T_9122e_row12_col2, #T_9122e_row12_col3, #T_9122e_row12_col4, #T_9122e_row12_col5, #T_9122e_row12_col6, #T_9122e_row13_col0, #T_9122e_row13_col1, #T_9122e_row13_col2, #T_9122e_row13_col3, #T_9122e_row13_col4, #T_9122e_row13_col5, #T_9122e_row13_col6, #T_9122e_row14_col0, #T_9122e_row14_col1, #T_9122e_row14_col2, #T_9122e_row14_col3, #T_9122e_row14_col4, #T_9122e_row14_col5, #T_9122e_row14_col6, #T_9122e_row15_col0, #T_9122e_row15_col1, #T_9122e_row15_col2, #T_9122e_row15_col3, #T_9122e_row15_col4, #T_9122e_row15_col5, #T_9122e_row15_col6, #T_9122e_row16_col0, #T_9122e_row16_col1, #T_9122e_row16_col2, #T_9122e_row16_col3, #T_9122e_row16_col4, #T_9122e_row16_col5, #T_9122e_row16_col6, #T_9122e_row17_col0, #T_9122e_row17_col1, #T_9122e_row17_col2, #T_9122e_row17_col3, #T_9122e_row17_col4, #T_9122e_row17_col5, #T_9122e_row17_col6, #T_9122e_row18_col0, #T_9122e_row18_col1, #T_9122e_row18_col2, #T_9122e_row18_col3, #T_9122e_row18_col4, #T_9122e_row18_col5, #T_9122e_row18_col6, #T_9122e_row19_col0, #T_9122e_row19_col1, #T_9122e_row19_col2, #T_9122e_row19_col3, #T_9122e_row19_col4, #T_9122e_row19_col5, #T_9122e_row19_col6 {\n",
       "  text-align: left;\n",
       "}\n",
       "#T_9122e_row0_col1, #T_9122e_row0_col2, #T_9122e_row0_col3, #T_9122e_row0_col4, #T_9122e_row0_col5, #T_9122e_row0_col6 {\n",
       "  text-align: left;\n",
       "  background-color: yellow;\n",
       "}\n",
       "#T_9122e_row0_col7, #T_9122e_row1_col7, #T_9122e_row12_col7, #T_9122e_row18_col7 {\n",
       "  text-align: left;\n",
       "  background-color: yellow;\n",
       "  background-color: lightgrey;\n",
       "}\n",
       "#T_9122e_row2_col7, #T_9122e_row3_col7, #T_9122e_row4_col7, #T_9122e_row5_col7, #T_9122e_row6_col7, #T_9122e_row7_col7, #T_9122e_row8_col7, #T_9122e_row9_col7, #T_9122e_row10_col7, #T_9122e_row11_col7, #T_9122e_row13_col7, #T_9122e_row14_col7, #T_9122e_row15_col7, #T_9122e_row16_col7, #T_9122e_row17_col7, #T_9122e_row19_col7 {\n",
       "  text-align: left;\n",
       "  background-color: lightgrey;\n",
       "}\n",
       "</style>\n",
       "<table id=\"T_9122e\">\n",
       "  <thead>\n",
       "    <tr>\n",
       "      <th class=\"blank level0\" >&nbsp;</th>\n",
       "      <th id=\"T_9122e_level0_col0\" class=\"col_heading level0 col0\" >Model</th>\n",
       "      <th id=\"T_9122e_level0_col1\" class=\"col_heading level0 col1\" >MAE</th>\n",
       "      <th id=\"T_9122e_level0_col2\" class=\"col_heading level0 col2\" >MSE</th>\n",
       "      <th id=\"T_9122e_level0_col3\" class=\"col_heading level0 col3\" >RMSE</th>\n",
       "      <th id=\"T_9122e_level0_col4\" class=\"col_heading level0 col4\" >R2</th>\n",
       "      <th id=\"T_9122e_level0_col5\" class=\"col_heading level0 col5\" >RMSLE</th>\n",
       "      <th id=\"T_9122e_level0_col6\" class=\"col_heading level0 col6\" >MAPE</th>\n",
       "      <th id=\"T_9122e_level0_col7\" class=\"col_heading level0 col7\" >TT (Sec)</th>\n",
       "    </tr>\n",
       "  </thead>\n",
       "  <tbody>\n",
       "    <tr>\n",
       "      <th id=\"T_9122e_level0_row0\" class=\"row_heading level0 row0\" >omp</th>\n",
       "      <td id=\"T_9122e_row0_col0\" class=\"data row0 col0\" >Orthogonal Matching Pursuit</td>\n",
       "      <td id=\"T_9122e_row0_col1\" class=\"data row0 col1\" >44.3192</td>\n",
       "      <td id=\"T_9122e_row0_col2\" class=\"data row0 col2\" >3050.6952</td>\n",
       "      <td id=\"T_9122e_row0_col3\" class=\"data row0 col3\" >53.8852</td>\n",
       "      <td id=\"T_9122e_row0_col4\" class=\"data row0 col4\" >-0.4522</td>\n",
       "      <td id=\"T_9122e_row0_col5\" class=\"data row0 col5\" >0.1714</td>\n",
       "      <td id=\"T_9122e_row0_col6\" class=\"data row0 col6\" >0.1521</td>\n",
       "      <td id=\"T_9122e_row0_col7\" class=\"data row0 col7\" >0.0167</td>\n",
       "    </tr>\n",
       "    <tr>\n",
       "      <th id=\"T_9122e_level0_row1\" class=\"row_heading level0 row1\" >br</th>\n",
       "      <td id=\"T_9122e_row1_col0\" class=\"data row1 col0\" >Bayesian Ridge</td>\n",
       "      <td id=\"T_9122e_row1_col1\" class=\"data row1 col1\" >45.5643</td>\n",
       "      <td id=\"T_9122e_row1_col2\" class=\"data row1 col2\" >3233.7133</td>\n",
       "      <td id=\"T_9122e_row1_col3\" class=\"data row1 col3\" >55.6766</td>\n",
       "      <td id=\"T_9122e_row1_col4\" class=\"data row1 col4\" >-0.6553</td>\n",
       "      <td id=\"T_9122e_row1_col5\" class=\"data row1 col5\" >0.1765</td>\n",
       "      <td id=\"T_9122e_row1_col6\" class=\"data row1 col6\" >0.1576</td>\n",
       "      <td id=\"T_9122e_row1_col7\" class=\"data row1 col7\" >0.0167</td>\n",
       "    </tr>\n",
       "    <tr>\n",
       "      <th id=\"T_9122e_level0_row2\" class=\"row_heading level0 row2\" >ridge</th>\n",
       "      <td id=\"T_9122e_row2_col0\" class=\"data row2 col0\" >Ridge Regression</td>\n",
       "      <td id=\"T_9122e_row2_col1\" class=\"data row2 col1\" >45.7835</td>\n",
       "      <td id=\"T_9122e_row2_col2\" class=\"data row2 col2\" >3257.2206</td>\n",
       "      <td id=\"T_9122e_row2_col3\" class=\"data row2 col3\" >55.8542</td>\n",
       "      <td id=\"T_9122e_row2_col4\" class=\"data row2 col4\" >-0.6687</td>\n",
       "      <td id=\"T_9122e_row2_col5\" class=\"data row2 col5\" >0.1770</td>\n",
       "      <td id=\"T_9122e_row2_col6\" class=\"data row2 col6\" >0.1585</td>\n",
       "      <td id=\"T_9122e_row2_col7\" class=\"data row2 col7\" >0.7067</td>\n",
       "    </tr>\n",
       "    <tr>\n",
       "      <th id=\"T_9122e_level0_row3\" class=\"row_heading level0 row3\" >lar</th>\n",
       "      <td id=\"T_9122e_row3_col0\" class=\"data row3 col0\" >Least Angle Regression</td>\n",
       "      <td id=\"T_9122e_row3_col1\" class=\"data row3 col1\" >45.8053</td>\n",
       "      <td id=\"T_9122e_row3_col2\" class=\"data row3 col2\" >3260.6009</td>\n",
       "      <td id=\"T_9122e_row3_col3\" class=\"data row3 col3\" >55.8841</td>\n",
       "      <td id=\"T_9122e_row3_col4\" class=\"data row3 col4\" >-0.6721</td>\n",
       "      <td id=\"T_9122e_row3_col5\" class=\"data row3 col5\" >0.1771</td>\n",
       "      <td id=\"T_9122e_row3_col6\" class=\"data row3 col6\" >0.1586</td>\n",
       "      <td id=\"T_9122e_row3_col7\" class=\"data row3 col7\" >0.7067</td>\n",
       "    </tr>\n",
       "    <tr>\n",
       "      <th id=\"T_9122e_level0_row4\" class=\"row_heading level0 row4\" >lr</th>\n",
       "      <td id=\"T_9122e_row4_col0\" class=\"data row4 col0\" >Linear Regression</td>\n",
       "      <td id=\"T_9122e_row4_col1\" class=\"data row4 col1\" >45.8199</td>\n",
       "      <td id=\"T_9122e_row4_col2\" class=\"data row4 col2\" >3263.7413</td>\n",
       "      <td id=\"T_9122e_row4_col3\" class=\"data row4 col3\" >55.9068</td>\n",
       "      <td id=\"T_9122e_row4_col4\" class=\"data row4 col4\" >-0.6728</td>\n",
       "      <td id=\"T_9122e_row4_col5\" class=\"data row4 col5\" >0.1772</td>\n",
       "      <td id=\"T_9122e_row4_col6\" class=\"data row4 col6\" >0.1586</td>\n",
       "      <td id=\"T_9122e_row4_col7\" class=\"data row4 col7\" >0.7933</td>\n",
       "    </tr>\n",
       "    <tr>\n",
       "      <th id=\"T_9122e_level0_row5\" class=\"row_heading level0 row5\" >huber</th>\n",
       "      <td id=\"T_9122e_row5_col0\" class=\"data row5 col0\" >Huber Regressor</td>\n",
       "      <td id=\"T_9122e_row5_col1\" class=\"data row5 col1\" >46.0420</td>\n",
       "      <td id=\"T_9122e_row5_col2\" class=\"data row5 col2\" >3308.9717</td>\n",
       "      <td id=\"T_9122e_row5_col3\" class=\"data row5 col3\" >56.4600</td>\n",
       "      <td id=\"T_9122e_row5_col4\" class=\"data row5 col4\" >-0.8186</td>\n",
       "      <td id=\"T_9122e_row5_col5\" class=\"data row5 col5\" >0.1802</td>\n",
       "      <td id=\"T_9122e_row5_col6\" class=\"data row5 col6\" >0.1618</td>\n",
       "      <td id=\"T_9122e_row5_col7\" class=\"data row5 col7\" >0.0200</td>\n",
       "    </tr>\n",
       "    <tr>\n",
       "      <th id=\"T_9122e_level0_row6\" class=\"row_heading level0 row6\" >lasso</th>\n",
       "      <td id=\"T_9122e_row6_col0\" class=\"data row6 col0\" >Lasso Regression</td>\n",
       "      <td id=\"T_9122e_row6_col1\" class=\"data row6 col1\" >51.7106</td>\n",
       "      <td id=\"T_9122e_row6_col2\" class=\"data row6 col2\" >3939.2790</td>\n",
       "      <td id=\"T_9122e_row6_col3\" class=\"data row6 col3\" >61.4955</td>\n",
       "      <td id=\"T_9122e_row6_col4\" class=\"data row6 col4\" >-1.4896</td>\n",
       "      <td id=\"T_9122e_row6_col5\" class=\"data row6 col5\" >0.2374</td>\n",
       "      <td id=\"T_9122e_row6_col6\" class=\"data row6 col6\" >0.1830</td>\n",
       "      <td id=\"T_9122e_row6_col7\" class=\"data row6 col7\" >0.7000</td>\n",
       "    </tr>\n",
       "    <tr>\n",
       "      <th id=\"T_9122e_level0_row7\" class=\"row_heading level0 row7\" >llar</th>\n",
       "      <td id=\"T_9122e_row7_col0\" class=\"data row7 col0\" >Lasso Least Angle Regression</td>\n",
       "      <td id=\"T_9122e_row7_col1\" class=\"data row7 col1\" >51.7106</td>\n",
       "      <td id=\"T_9122e_row7_col2\" class=\"data row7 col2\" >3939.2790</td>\n",
       "      <td id=\"T_9122e_row7_col3\" class=\"data row7 col3\" >61.4955</td>\n",
       "      <td id=\"T_9122e_row7_col4\" class=\"data row7 col4\" >-1.4896</td>\n",
       "      <td id=\"T_9122e_row7_col5\" class=\"data row7 col5\" >0.2374</td>\n",
       "      <td id=\"T_9122e_row7_col6\" class=\"data row7 col6\" >0.1830</td>\n",
       "      <td id=\"T_9122e_row7_col7\" class=\"data row7 col7\" >0.5233</td>\n",
       "    </tr>\n",
       "    <tr>\n",
       "      <th id=\"T_9122e_level0_row8\" class=\"row_heading level0 row8\" >gbr</th>\n",
       "      <td id=\"T_9122e_row8_col0\" class=\"data row8 col0\" >Gradient Boosting Regressor</td>\n",
       "      <td id=\"T_9122e_row8_col1\" class=\"data row8 col1\" >52.4896</td>\n",
       "      <td id=\"T_9122e_row8_col2\" class=\"data row8 col2\" >4355.4048</td>\n",
       "      <td id=\"T_9122e_row8_col3\" class=\"data row8 col3\" >63.7434</td>\n",
       "      <td id=\"T_9122e_row8_col4\" class=\"data row8 col4\" >-0.7220</td>\n",
       "      <td id=\"T_9122e_row8_col5\" class=\"data row8 col5\" >0.2142</td>\n",
       "      <td id=\"T_9122e_row8_col6\" class=\"data row8 col6\" >0.1618</td>\n",
       "      <td id=\"T_9122e_row8_col7\" class=\"data row8 col7\" >0.0300</td>\n",
       "    </tr>\n",
       "    <tr>\n",
       "      <th id=\"T_9122e_level0_row9\" class=\"row_heading level0 row9\" >et</th>\n",
       "      <td id=\"T_9122e_row9_col0\" class=\"data row9 col0\" >Extra Trees Regressor</td>\n",
       "      <td id=\"T_9122e_row9_col1\" class=\"data row9 col1\" >52.5137</td>\n",
       "      <td id=\"T_9122e_row9_col2\" class=\"data row9 col2\" >4610.3152</td>\n",
       "      <td id=\"T_9122e_row9_col3\" class=\"data row9 col3\" >65.4170</td>\n",
       "      <td id=\"T_9122e_row9_col4\" class=\"data row9 col4\" >-0.7951</td>\n",
       "      <td id=\"T_9122e_row9_col5\" class=\"data row9 col5\" >0.2162</td>\n",
       "      <td id=\"T_9122e_row9_col6\" class=\"data row9 col6\" >0.1613</td>\n",
       "      <td id=\"T_9122e_row9_col7\" class=\"data row9 col7\" >0.0600</td>\n",
       "    </tr>\n",
       "    <tr>\n",
       "      <th id=\"T_9122e_level0_row10\" class=\"row_heading level0 row10\" >en</th>\n",
       "      <td id=\"T_9122e_row10_col0\" class=\"data row10 col0\" >Elastic Net</td>\n",
       "      <td id=\"T_9122e_row10_col1\" class=\"data row10 col1\" >52.5924</td>\n",
       "      <td id=\"T_9122e_row10_col2\" class=\"data row10 col2\" >3937.1760</td>\n",
       "      <td id=\"T_9122e_row10_col3\" class=\"data row10 col3\" >61.2301</td>\n",
       "      <td id=\"T_9122e_row10_col4\" class=\"data row10 col4\" >-1.4778</td>\n",
       "      <td id=\"T_9122e_row10_col5\" class=\"data row10 col5\" >0.2367</td>\n",
       "      <td id=\"T_9122e_row10_col6\" class=\"data row10 col6\" >0.1870</td>\n",
       "      <td id=\"T_9122e_row10_col7\" class=\"data row10 col7\" >0.7033</td>\n",
       "    </tr>\n",
       "    <tr>\n",
       "      <th id=\"T_9122e_level0_row11\" class=\"row_heading level0 row11\" >rf</th>\n",
       "      <td id=\"T_9122e_row11_col0\" class=\"data row11 col0\" >Random Forest Regressor</td>\n",
       "      <td id=\"T_9122e_row11_col1\" class=\"data row11 col1\" >54.6745</td>\n",
       "      <td id=\"T_9122e_row11_col2\" class=\"data row11 col2\" >4794.1368</td>\n",
       "      <td id=\"T_9122e_row11_col3\" class=\"data row11 col3\" >66.2176</td>\n",
       "      <td id=\"T_9122e_row11_col4\" class=\"data row11 col4\" >-0.8488</td>\n",
       "      <td id=\"T_9122e_row11_col5\" class=\"data row11 col5\" >0.2207</td>\n",
       "      <td id=\"T_9122e_row11_col6\" class=\"data row11 col6\" >0.1674</td>\n",
       "      <td id=\"T_9122e_row11_col7\" class=\"data row11 col7\" >0.0800</td>\n",
       "    </tr>\n",
       "    <tr>\n",
       "      <th id=\"T_9122e_level0_row12\" class=\"row_heading level0 row12\" >dt</th>\n",
       "      <td id=\"T_9122e_row12_col0\" class=\"data row12 col0\" >Decision Tree Regressor</td>\n",
       "      <td id=\"T_9122e_row12_col1\" class=\"data row12 col1\" >55.1616</td>\n",
       "      <td id=\"T_9122e_row12_col2\" class=\"data row12 col2\" >4909.7071</td>\n",
       "      <td id=\"T_9122e_row12_col3\" class=\"data row12 col3\" >67.6420</td>\n",
       "      <td id=\"T_9122e_row12_col4\" class=\"data row12 col4\" >-0.9792</td>\n",
       "      <td id=\"T_9122e_row12_col5\" class=\"data row12 col5\" >0.2324</td>\n",
       "      <td id=\"T_9122e_row12_col6\" class=\"data row12 col6\" >0.1745</td>\n",
       "      <td id=\"T_9122e_row12_col7\" class=\"data row12 col7\" >0.0167</td>\n",
       "    </tr>\n",
       "    <tr>\n",
       "      <th id=\"T_9122e_level0_row13\" class=\"row_heading level0 row13\" >catboost</th>\n",
       "      <td id=\"T_9122e_row13_col0\" class=\"data row13 col0\" >CatBoost Regressor</td>\n",
       "      <td id=\"T_9122e_row13_col1\" class=\"data row13 col1\" >55.3197</td>\n",
       "      <td id=\"T_9122e_row13_col2\" class=\"data row13 col2\" >4350.6103</td>\n",
       "      <td id=\"T_9122e_row13_col3\" class=\"data row13 col3\" >64.6622</td>\n",
       "      <td id=\"T_9122e_row13_col4\" class=\"data row13 col4\" >-0.9167</td>\n",
       "      <td id=\"T_9122e_row13_col5\" class=\"data row13 col5\" >0.2290</td>\n",
       "      <td id=\"T_9122e_row13_col6\" class=\"data row13 col6\" >0.1796</td>\n",
       "      <td id=\"T_9122e_row13_col7\" class=\"data row13 col7\" >0.2233</td>\n",
       "    </tr>\n",
       "    <tr>\n",
       "      <th id=\"T_9122e_level0_row14\" class=\"row_heading level0 row14\" >xgboost</th>\n",
       "      <td id=\"T_9122e_row14_col0\" class=\"data row14 col0\" >Extreme Gradient Boosting</td>\n",
       "      <td id=\"T_9122e_row14_col1\" class=\"data row14 col1\" >55.6321</td>\n",
       "      <td id=\"T_9122e_row14_col2\" class=\"data row14 col2\" >4744.9898</td>\n",
       "      <td id=\"T_9122e_row14_col3\" class=\"data row14 col3\" >66.3732</td>\n",
       "      <td id=\"T_9122e_row14_col4\" class=\"data row14 col4\" >-0.9016</td>\n",
       "      <td id=\"T_9122e_row14_col5\" class=\"data row14 col5\" >0.2270</td>\n",
       "      <td id=\"T_9122e_row14_col6\" class=\"data row14 col6\" >0.1735</td>\n",
       "      <td id=\"T_9122e_row14_col7\" class=\"data row14 col7\" >6.4967</td>\n",
       "    </tr>\n",
       "    <tr>\n",
       "      <th id=\"T_9122e_level0_row15\" class=\"row_heading level0 row15\" >ada</th>\n",
       "      <td id=\"T_9122e_row15_col0\" class=\"data row15 col0\" >AdaBoost Regressor</td>\n",
       "      <td id=\"T_9122e_row15_col1\" class=\"data row15 col1\" >63.4000</td>\n",
       "      <td id=\"T_9122e_row15_col2\" class=\"data row15 col2\" >5911.5778</td>\n",
       "      <td id=\"T_9122e_row15_col3\" class=\"data row15 col3\" >74.7116</td>\n",
       "      <td id=\"T_9122e_row15_col4\" class=\"data row15 col4\" >-1.4124</td>\n",
       "      <td id=\"T_9122e_row15_col5\" class=\"data row15 col5\" >0.2614</td>\n",
       "      <td id=\"T_9122e_row15_col6\" class=\"data row15 col6\" >0.2003</td>\n",
       "      <td id=\"T_9122e_row15_col7\" class=\"data row15 col7\" >0.0367</td>\n",
       "    </tr>\n",
       "    <tr>\n",
       "      <th id=\"T_9122e_level0_row16\" class=\"row_heading level0 row16\" >knn</th>\n",
       "      <td id=\"T_9122e_row16_col0\" class=\"data row16 col0\" >K Neighbors Regressor</td>\n",
       "      <td id=\"T_9122e_row16_col1\" class=\"data row16 col1\" >63.9905</td>\n",
       "      <td id=\"T_9122e_row16_col2\" class=\"data row16 col2\" >7090.8256</td>\n",
       "      <td id=\"T_9122e_row16_col3\" class=\"data row16 col3\" >78.6650</td>\n",
       "      <td id=\"T_9122e_row16_col4\" class=\"data row16 col4\" >-1.4488</td>\n",
       "      <td id=\"T_9122e_row16_col5\" class=\"data row16 col5\" >0.2581</td>\n",
       "      <td id=\"T_9122e_row16_col6\" class=\"data row16 col6\" >0.1879</td>\n",
       "      <td id=\"T_9122e_row16_col7\" class=\"data row16 col7\" >0.0267</td>\n",
       "    </tr>\n",
       "    <tr>\n",
       "      <th id=\"T_9122e_level0_row17\" class=\"row_heading level0 row17\" >lightgbm</th>\n",
       "      <td id=\"T_9122e_row17_col0\" class=\"data row17 col0\" >Light Gradient Boosting Machine</td>\n",
       "      <td id=\"T_9122e_row17_col1\" class=\"data row17 col1\" >75.6311</td>\n",
       "      <td id=\"T_9122e_row17_col2\" class=\"data row17 col2\" >7274.8381</td>\n",
       "      <td id=\"T_9122e_row17_col3\" class=\"data row17 col3\" >85.0036</td>\n",
       "      <td id=\"T_9122e_row17_col4\" class=\"data row17 col4\" >-2.6040</td>\n",
       "      <td id=\"T_9122e_row17_col5\" class=\"data row17 col5\" >0.3238</td>\n",
       "      <td id=\"T_9122e_row17_col6\" class=\"data row17 col6\" >0.2503</td>\n",
       "      <td id=\"T_9122e_row17_col7\" class=\"data row17 col7\" >0.0467</td>\n",
       "    </tr>\n",
       "    <tr>\n",
       "      <th id=\"T_9122e_level0_row18\" class=\"row_heading level0 row18\" >dummy</th>\n",
       "      <td id=\"T_9122e_row18_col0\" class=\"data row18 col0\" >Dummy Regressor</td>\n",
       "      <td id=\"T_9122e_row18_col1\" class=\"data row18 col1\" >129.0126</td>\n",
       "      <td id=\"T_9122e_row18_col2\" class=\"data row18 col2\" >21856.8627</td>\n",
       "      <td id=\"T_9122e_row18_col3\" class=\"data row18 col3\" >138.1257</td>\n",
       "      <td id=\"T_9122e_row18_col4\" class=\"data row18 col4\" >-6.5548</td>\n",
       "      <td id=\"T_9122e_row18_col5\" class=\"data row18 col5\" >0.5446</td>\n",
       "      <td id=\"T_9122e_row18_col6\" class=\"data row18 col6\" >0.3958</td>\n",
       "      <td id=\"T_9122e_row18_col7\" class=\"data row18 col7\" >0.0167</td>\n",
       "    </tr>\n",
       "    <tr>\n",
       "      <th id=\"T_9122e_level0_row19\" class=\"row_heading level0 row19\" >par</th>\n",
       "      <td id=\"T_9122e_row19_col0\" class=\"data row19 col0\" >Passive Aggressive Regressor</td>\n",
       "      <td id=\"T_9122e_row19_col1\" class=\"data row19 col1\" >173.5759</td>\n",
       "      <td id=\"T_9122e_row19_col2\" class=\"data row19 col2\" >33683.0409</td>\n",
       "      <td id=\"T_9122e_row19_col3\" class=\"data row19 col3\" >180.7955</td>\n",
       "      <td id=\"T_9122e_row19_col4\" class=\"data row19 col4\" >-17.6483</td>\n",
       "      <td id=\"T_9122e_row19_col5\" class=\"data row19 col5\" >1.2368</td>\n",
       "      <td id=\"T_9122e_row19_col6\" class=\"data row19 col6\" >0.6075</td>\n",
       "      <td id=\"T_9122e_row19_col7\" class=\"data row19 col7\" >0.0200</td>\n",
       "    </tr>\n",
       "  </tbody>\n",
       "</table>\n"
      ],
      "text/plain": [
       "<pandas.io.formats.style.Styler at 0x7f240c444b50>"
      ]
     },
     "metadata": {},
     "output_type": "display_data"
    },
    {
     "data": {
      "text/html": [],
      "text/plain": [
       "<IPython.core.display.HTML object>"
      ]
     },
     "metadata": {},
     "output_type": "display_data"
    }
   ],
   "source": [
    "best = compare_models(sort = 'MAE')"
   ]
  },
  {
   "cell_type": "code",
   "execution_count": 22,
   "metadata": {},
   "outputs": [
    {
     "data": {
      "text/html": [
       "<style type=\"text/css\">\n",
       "</style>\n",
       "<table id=\"T_3bb6a\">\n",
       "  <thead>\n",
       "    <tr>\n",
       "      <th class=\"blank level0\" >&nbsp;</th>\n",
       "      <th id=\"T_3bb6a_level0_col0\" class=\"col_heading level0 col0\" >Model</th>\n",
       "      <th id=\"T_3bb6a_level0_col1\" class=\"col_heading level0 col1\" >MAE</th>\n",
       "      <th id=\"T_3bb6a_level0_col2\" class=\"col_heading level0 col2\" >MSE</th>\n",
       "      <th id=\"T_3bb6a_level0_col3\" class=\"col_heading level0 col3\" >RMSE</th>\n",
       "      <th id=\"T_3bb6a_level0_col4\" class=\"col_heading level0 col4\" >R2</th>\n",
       "      <th id=\"T_3bb6a_level0_col5\" class=\"col_heading level0 col5\" >RMSLE</th>\n",
       "      <th id=\"T_3bb6a_level0_col6\" class=\"col_heading level0 col6\" >MAPE</th>\n",
       "    </tr>\n",
       "  </thead>\n",
       "  <tbody>\n",
       "    <tr>\n",
       "      <th id=\"T_3bb6a_level0_row0\" class=\"row_heading level0 row0\" >0</th>\n",
       "      <td id=\"T_3bb6a_row0_col0\" class=\"data row0 col0\" >Orthogonal Matching Pursuit</td>\n",
       "      <td id=\"T_3bb6a_row0_col1\" class=\"data row0 col1\" >64.0721</td>\n",
       "      <td id=\"T_3bb6a_row0_col2\" class=\"data row0 col2\" >5685.5261</td>\n",
       "      <td id=\"T_3bb6a_row0_col3\" class=\"data row0 col3\" >75.4024</td>\n",
       "      <td id=\"T_3bb6a_row0_col4\" class=\"data row0 col4\" >-0.0264</td>\n",
       "      <td id=\"T_3bb6a_row0_col5\" class=\"data row0 col5\" >0.1544</td>\n",
       "      <td id=\"T_3bb6a_row0_col6\" class=\"data row0 col6\" >0.1373</td>\n",
       "    </tr>\n",
       "  </tbody>\n",
       "</table>\n"
      ],
      "text/plain": [
       "<pandas.io.formats.style.Styler at 0x7f240ca0cf90>"
      ]
     },
     "metadata": {},
     "output_type": "display_data"
    }
   ],
   "source": [
    "prediction_holdout = predict_model(best)"
   ]
  },
  {
   "cell_type": "code",
   "execution_count": 24,
   "metadata": {},
   "outputs": [
    {
     "data": {
      "text/html": [
       "<style type=\"text/css\">\n",
       "</style>\n",
       "<table id=\"T_0a07f\">\n",
       "  <thead>\n",
       "    <tr>\n",
       "      <th class=\"blank level0\" >&nbsp;</th>\n",
       "      <th id=\"T_0a07f_level0_col0\" class=\"col_heading level0 col0\" >Model</th>\n",
       "      <th id=\"T_0a07f_level0_col1\" class=\"col_heading level0 col1\" >MAE</th>\n",
       "      <th id=\"T_0a07f_level0_col2\" class=\"col_heading level0 col2\" >MSE</th>\n",
       "      <th id=\"T_0a07f_level0_col3\" class=\"col_heading level0 col3\" >RMSE</th>\n",
       "      <th id=\"T_0a07f_level0_col4\" class=\"col_heading level0 col4\" >R2</th>\n",
       "      <th id=\"T_0a07f_level0_col5\" class=\"col_heading level0 col5\" >RMSLE</th>\n",
       "      <th id=\"T_0a07f_level0_col6\" class=\"col_heading level0 col6\" >MAPE</th>\n",
       "    </tr>\n",
       "  </thead>\n",
       "  <tbody>\n",
       "    <tr>\n",
       "      <th id=\"T_0a07f_level0_row0\" class=\"row_heading level0 row0\" >0</th>\n",
       "      <td id=\"T_0a07f_row0_col0\" class=\"data row0 col0\" >Orthogonal Matching Pursuit</td>\n",
       "      <td id=\"T_0a07f_row0_col1\" class=\"data row0 col1\" >33.2810</td>\n",
       "      <td id=\"T_0a07f_row0_col2\" class=\"data row0 col2\" >2048.6856</td>\n",
       "      <td id=\"T_0a07f_row0_col3\" class=\"data row0 col3\" >45.2624</td>\n",
       "      <td id=\"T_0a07f_row0_col4\" class=\"data row0 col4\" >0.8567</td>\n",
       "      <td id=\"T_0a07f_row0_col5\" class=\"data row0 col5\" >0.1356</td>\n",
       "      <td id=\"T_0a07f_row0_col6\" class=\"data row0 col6\" >0.1126</td>\n",
       "    </tr>\n",
       "  </tbody>\n",
       "</table>\n"
      ],
      "text/plain": [
       "<pandas.io.formats.style.Styler at 0x7f236d5f6590>"
      ]
     },
     "metadata": {},
     "output_type": "display_data"
    }
   ],
   "source": [
    "# generate predictions on the original dataset**\n",
    "predictions = predict_model(best, data=data)\n",
    "\n",
    "# # add a date column in the dataset**\n",
    "predictions['Date'] = pd.date_range(start='1949-01-01', end = '1960-12-01', freq = 'MS')\n"
   ]
  },
  {
   "cell_type": "code",
   "execution_count": 27,
   "metadata": {},
   "outputs": [
    {
     "data": {
      "text/html": [
       "<div>\n",
       "<style scoped>\n",
       "    .dataframe tbody tr th:only-of-type {\n",
       "        vertical-align: middle;\n",
       "    }\n",
       "\n",
       "    .dataframe tbody tr th {\n",
       "        vertical-align: top;\n",
       "    }\n",
       "\n",
       "    .dataframe thead th {\n",
       "        text-align: right;\n",
       "    }\n",
       "</style>\n",
       "<table border=\"1\" class=\"dataframe\">\n",
       "  <thead>\n",
       "    <tr style=\"text-align: right;\">\n",
       "      <th></th>\n",
       "      <th>Series</th>\n",
       "      <th>Year</th>\n",
       "      <th>Month</th>\n",
       "      <th>Passengers</th>\n",
       "      <th>prediction_label</th>\n",
       "      <th>Date</th>\n",
       "    </tr>\n",
       "  </thead>\n",
       "  <tbody>\n",
       "    <tr>\n",
       "      <th>0</th>\n",
       "      <td>1</td>\n",
       "      <td>1949</td>\n",
       "      <td>1</td>\n",
       "      <td>112</td>\n",
       "      <td>120.962681</td>\n",
       "      <td>1949-01-01</td>\n",
       "    </tr>\n",
       "    <tr>\n",
       "      <th>1</th>\n",
       "      <td>2</td>\n",
       "      <td>1949</td>\n",
       "      <td>2</td>\n",
       "      <td>118</td>\n",
       "      <td>122.327867</td>\n",
       "      <td>1949-02-01</td>\n",
       "    </tr>\n",
       "    <tr>\n",
       "      <th>2</th>\n",
       "      <td>3</td>\n",
       "      <td>1949</td>\n",
       "      <td>3</td>\n",
       "      <td>132</td>\n",
       "      <td>123.706393</td>\n",
       "      <td>1949-03-01</td>\n",
       "    </tr>\n",
       "    <tr>\n",
       "      <th>3</th>\n",
       "      <td>4</td>\n",
       "      <td>1949</td>\n",
       "      <td>4</td>\n",
       "      <td>129</td>\n",
       "      <td>125.098368</td>\n",
       "      <td>1949-04-01</td>\n",
       "    </tr>\n",
       "    <tr>\n",
       "      <th>4</th>\n",
       "      <td>5</td>\n",
       "      <td>1949</td>\n",
       "      <td>5</td>\n",
       "      <td>121</td>\n",
       "      <td>126.503906</td>\n",
       "      <td>1949-05-01</td>\n",
       "    </tr>\n",
       "    <tr>\n",
       "      <th>...</th>\n",
       "      <td>...</td>\n",
       "      <td>...</td>\n",
       "      <td>...</td>\n",
       "      <td>...</td>\n",
       "      <td>...</td>\n",
       "      <td>...</td>\n",
       "    </tr>\n",
       "    <tr>\n",
       "      <th>139</th>\n",
       "      <td>140</td>\n",
       "      <td>1960</td>\n",
       "      <td>8</td>\n",
       "      <td>606</td>\n",
       "      <td>500.844927</td>\n",
       "      <td>1960-08-01</td>\n",
       "    </tr>\n",
       "    <tr>\n",
       "      <th>140</th>\n",
       "      <td>141</td>\n",
       "      <td>1960</td>\n",
       "      <td>9</td>\n",
       "      <td>508</td>\n",
       "      <td>505.542352</td>\n",
       "      <td>1960-09-01</td>\n",
       "    </tr>\n",
       "    <tr>\n",
       "      <th>141</th>\n",
       "      <td>142</td>\n",
       "      <td>1960</td>\n",
       "      <td>10</td>\n",
       "      <td>461</td>\n",
       "      <td>510.278166</td>\n",
       "      <td>1960-10-01</td>\n",
       "    </tr>\n",
       "    <tr>\n",
       "      <th>142</th>\n",
       "      <td>143</td>\n",
       "      <td>1960</td>\n",
       "      <td>11</td>\n",
       "      <td>390</td>\n",
       "      <td>515.052638</td>\n",
       "      <td>1960-11-01</td>\n",
       "    </tr>\n",
       "    <tr>\n",
       "      <th>143</th>\n",
       "      <td>144</td>\n",
       "      <td>1960</td>\n",
       "      <td>12</td>\n",
       "      <td>432</td>\n",
       "      <td>519.866038</td>\n",
       "      <td>1960-12-01</td>\n",
       "    </tr>\n",
       "  </tbody>\n",
       "</table>\n",
       "<p>144 rows × 6 columns</p>\n",
       "</div>"
      ],
      "text/plain": [
       "     Series  Year  Month  Passengers  prediction_label       Date\n",
       "0         1  1949      1         112        120.962681 1949-01-01\n",
       "1         2  1949      2         118        122.327867 1949-02-01\n",
       "2         3  1949      3         132        123.706393 1949-03-01\n",
       "3         4  1949      4         129        125.098368 1949-04-01\n",
       "4         5  1949      5         121        126.503906 1949-05-01\n",
       "..      ...   ...    ...         ...               ...        ...\n",
       "139     140  1960      8         606        500.844927 1960-08-01\n",
       "140     141  1960      9         508        505.542352 1960-09-01\n",
       "141     142  1960     10         461        510.278166 1960-10-01\n",
       "142     143  1960     11         390        515.052638 1960-11-01\n",
       "143     144  1960     12         432        519.866038 1960-12-01\n",
       "\n",
       "[144 rows x 6 columns]"
      ]
     },
     "execution_count": 27,
     "metadata": {},
     "output_type": "execute_result"
    }
   ],
   "source": [
    "predictions"
   ]
  },
  {
   "cell_type": "code",
   "execution_count": 23,
   "metadata": {},
   "outputs": [
    {
     "data": {
      "text/html": [
       "<style type=\"text/css\">\n",
       "</style>\n",
       "<table id=\"T_57411\">\n",
       "  <thead>\n",
       "    <tr>\n",
       "      <th class=\"blank level0\" >&nbsp;</th>\n",
       "      <th id=\"T_57411_level0_col0\" class=\"col_heading level0 col0\" >Model</th>\n",
       "      <th id=\"T_57411_level0_col1\" class=\"col_heading level0 col1\" >MAE</th>\n",
       "      <th id=\"T_57411_level0_col2\" class=\"col_heading level0 col2\" >MSE</th>\n",
       "      <th id=\"T_57411_level0_col3\" class=\"col_heading level0 col3\" >RMSE</th>\n",
       "      <th id=\"T_57411_level0_col4\" class=\"col_heading level0 col4\" >R2</th>\n",
       "      <th id=\"T_57411_level0_col5\" class=\"col_heading level0 col5\" >RMSLE</th>\n",
       "      <th id=\"T_57411_level0_col6\" class=\"col_heading level0 col6\" >MAPE</th>\n",
       "    </tr>\n",
       "  </thead>\n",
       "  <tbody>\n",
       "    <tr>\n",
       "      <th id=\"T_57411_level0_row0\" class=\"row_heading level0 row0\" >0</th>\n",
       "      <td id=\"T_57411_row0_col0\" class=\"data row0 col0\" >Orthogonal Matching Pursuit</td>\n",
       "      <td id=\"T_57411_row0_col1\" class=\"data row0 col1\" >33.2810</td>\n",
       "      <td id=\"T_57411_row0_col2\" class=\"data row0 col2\" >2048.6856</td>\n",
       "      <td id=\"T_57411_row0_col3\" class=\"data row0 col3\" >45.2624</td>\n",
       "      <td id=\"T_57411_row0_col4\" class=\"data row0 col4\" >0.8567</td>\n",
       "      <td id=\"T_57411_row0_col5\" class=\"data row0 col5\" >0.1356</td>\n",
       "      <td id=\"T_57411_row0_col6\" class=\"data row0 col6\" >0.1126</td>\n",
       "    </tr>\n",
       "  </tbody>\n",
       "</table>\n"
      ],
      "text/plain": [
       "<pandas.io.formats.style.Styler at 0x7f240cbfa810>"
      ]
     },
     "metadata": {},
     "output_type": "display_data"
    },
    {
     "ename": "ValueError",
     "evalue": "All arguments should have the same length. The length of argument `y` is 2, whereas the length of  previously-processed arguments ['Date'] is 144",
     "output_type": "error",
     "traceback": [
      "\u001b[0;31m---------------------------------------------------------------------------\u001b[0m",
      "\u001b[0;31mValueError\u001b[0m                                Traceback (most recent call last)",
      "Cell \u001b[0;32mIn[23], line 8\u001b[0m\n\u001b[1;32m      5\u001b[0m predictions[\u001b[38;5;124m'\u001b[39m\u001b[38;5;124mDate\u001b[39m\u001b[38;5;124m'\u001b[39m] \u001b[38;5;241m=\u001b[39m pd\u001b[38;5;241m.\u001b[39mdate_range(start\u001b[38;5;241m=\u001b[39m\u001b[38;5;124m'\u001b[39m\u001b[38;5;124m1949-01-01\u001b[39m\u001b[38;5;124m'\u001b[39m, end \u001b[38;5;241m=\u001b[39m \u001b[38;5;124m'\u001b[39m\u001b[38;5;124m1960-12-01\u001b[39m\u001b[38;5;124m'\u001b[39m, freq \u001b[38;5;241m=\u001b[39m \u001b[38;5;124m'\u001b[39m\u001b[38;5;124mMS\u001b[39m\u001b[38;5;124m'\u001b[39m)\n\u001b[1;32m      7\u001b[0m \u001b[38;5;66;03m# line plot**\u001b[39;00m\n\u001b[0;32m----> 8\u001b[0m fig \u001b[38;5;241m=\u001b[39m \u001b[43mpx\u001b[49m\u001b[38;5;241;43m.\u001b[39;49m\u001b[43mline\u001b[49m\u001b[43m(\u001b[49m\u001b[43mpredictions\u001b[49m\u001b[43m,\u001b[49m\u001b[43m \u001b[49m\u001b[43mx\u001b[49m\u001b[38;5;241;43m=\u001b[39;49m\u001b[38;5;124;43m'\u001b[39;49m\u001b[38;5;124;43mDate\u001b[39;49m\u001b[38;5;124;43m'\u001b[39;49m\u001b[43m,\u001b[49m\u001b[43m \u001b[49m\u001b[43my\u001b[49m\u001b[38;5;241;43m=\u001b[39;49m\u001b[43m[\u001b[49m\u001b[38;5;124;43m\"\u001b[39;49m\u001b[38;5;124;43mPassengers\u001b[39;49m\u001b[38;5;124;43m\"\u001b[39;49m\u001b[43m,\u001b[49m\u001b[43m \u001b[49m\u001b[38;5;124;43m\"\u001b[39;49m\u001b[38;5;124;43mLabel\u001b[39;49m\u001b[38;5;124;43m\"\u001b[39;49m\u001b[43m]\u001b[49m\u001b[43m,\u001b[49m\u001b[43m \u001b[49m\u001b[43mtemplate\u001b[49m\u001b[43m \u001b[49m\u001b[38;5;241;43m=\u001b[39;49m\u001b[43m \u001b[49m\u001b[38;5;124;43m'\u001b[39;49m\u001b[38;5;124;43mplotly_dark\u001b[39;49m\u001b[38;5;124;43m'\u001b[39;49m\u001b[43m)\u001b[49m\n\u001b[1;32m     10\u001b[0m \u001b[38;5;66;03m# add a vertical rectange for test-set separation**\u001b[39;00m\n\u001b[1;32m     11\u001b[0m fig\u001b[38;5;241m.\u001b[39madd_vrect(x0\u001b[38;5;241m=\u001b[39m\u001b[38;5;124m\"\u001b[39m\u001b[38;5;124m1960-01-01\u001b[39m\u001b[38;5;124m\"\u001b[39m, x1\u001b[38;5;241m=\u001b[39m\u001b[38;5;124m\"\u001b[39m\u001b[38;5;124m1960-12-01\u001b[39m\u001b[38;5;124m\"\u001b[39m, fillcolor\u001b[38;5;241m=\u001b[39m\u001b[38;5;124m\"\u001b[39m\u001b[38;5;124mgrey\u001b[39m\u001b[38;5;124m\"\u001b[39m, opacity\u001b[38;5;241m=\u001b[39m\u001b[38;5;241m0.25\u001b[39m, line_width\u001b[38;5;241m=\u001b[39m\u001b[38;5;241m0\u001b[39m)\n",
      "File \u001b[0;32m~/Learning/Freshman/Term02/Basic_Ai/air_dash/venv/lib/python3.11/site-packages/plotly/express/_chart_types.py:264\u001b[0m, in \u001b[0;36mline\u001b[0;34m(data_frame, x, y, line_group, color, line_dash, symbol, hover_name, hover_data, custom_data, text, facet_row, facet_col, facet_col_wrap, facet_row_spacing, facet_col_spacing, error_x, error_x_minus, error_y, error_y_minus, animation_frame, animation_group, category_orders, labels, orientation, color_discrete_sequence, color_discrete_map, line_dash_sequence, line_dash_map, symbol_sequence, symbol_map, markers, log_x, log_y, range_x, range_y, line_shape, render_mode, title, template, width, height)\u001b[0m\n\u001b[1;32m    216\u001b[0m \u001b[38;5;28;01mdef\u001b[39;00m \u001b[38;5;21mline\u001b[39m(\n\u001b[1;32m    217\u001b[0m     data_frame\u001b[38;5;241m=\u001b[39m\u001b[38;5;28;01mNone\u001b[39;00m,\n\u001b[1;32m    218\u001b[0m     x\u001b[38;5;241m=\u001b[39m\u001b[38;5;28;01mNone\u001b[39;00m,\n\u001b[0;32m   (...)\u001b[0m\n\u001b[1;32m    258\u001b[0m     height\u001b[38;5;241m=\u001b[39m\u001b[38;5;28;01mNone\u001b[39;00m,\n\u001b[1;32m    259\u001b[0m ) \u001b[38;5;241m-\u001b[39m\u001b[38;5;241m>\u001b[39m go\u001b[38;5;241m.\u001b[39mFigure:\n\u001b[1;32m    260\u001b[0m \u001b[38;5;250m    \u001b[39m\u001b[38;5;124;03m\"\"\"\u001b[39;00m\n\u001b[1;32m    261\u001b[0m \u001b[38;5;124;03m    In a 2D line plot, each row of `data_frame` is represented as vertex of\u001b[39;00m\n\u001b[1;32m    262\u001b[0m \u001b[38;5;124;03m    a polyline mark in 2D space.\u001b[39;00m\n\u001b[1;32m    263\u001b[0m \u001b[38;5;124;03m    \"\"\"\u001b[39;00m\n\u001b[0;32m--> 264\u001b[0m     \u001b[38;5;28;01mreturn\u001b[39;00m \u001b[43mmake_figure\u001b[49m\u001b[43m(\u001b[49m\u001b[43margs\u001b[49m\u001b[38;5;241;43m=\u001b[39;49m\u001b[38;5;28;43mlocals\u001b[39;49m\u001b[43m(\u001b[49m\u001b[43m)\u001b[49m\u001b[43m,\u001b[49m\u001b[43m \u001b[49m\u001b[43mconstructor\u001b[49m\u001b[38;5;241;43m=\u001b[39;49m\u001b[43mgo\u001b[49m\u001b[38;5;241;43m.\u001b[39;49m\u001b[43mScatter\u001b[49m\u001b[43m)\u001b[49m\n",
      "File \u001b[0;32m~/Learning/Freshman/Term02/Basic_Ai/air_dash/venv/lib/python3.11/site-packages/plotly/express/_core.py:2090\u001b[0m, in \u001b[0;36mmake_figure\u001b[0;34m(args, constructor, trace_patch, layout_patch)\u001b[0m\n\u001b[1;32m   2087\u001b[0m layout_patch \u001b[38;5;241m=\u001b[39m layout_patch \u001b[38;5;129;01mor\u001b[39;00m {}\n\u001b[1;32m   2088\u001b[0m apply_default_cascade(args)\n\u001b[0;32m-> 2090\u001b[0m args \u001b[38;5;241m=\u001b[39m \u001b[43mbuild_dataframe\u001b[49m\u001b[43m(\u001b[49m\u001b[43margs\u001b[49m\u001b[43m,\u001b[49m\u001b[43m \u001b[49m\u001b[43mconstructor\u001b[49m\u001b[43m)\u001b[49m\n\u001b[1;32m   2091\u001b[0m \u001b[38;5;28;01mif\u001b[39;00m constructor \u001b[38;5;129;01min\u001b[39;00m [go\u001b[38;5;241m.\u001b[39mTreemap, go\u001b[38;5;241m.\u001b[39mSunburst, go\u001b[38;5;241m.\u001b[39mIcicle] \u001b[38;5;129;01mand\u001b[39;00m args[\u001b[38;5;124m\"\u001b[39m\u001b[38;5;124mpath\u001b[39m\u001b[38;5;124m\"\u001b[39m] \u001b[38;5;129;01mis\u001b[39;00m \u001b[38;5;129;01mnot\u001b[39;00m \u001b[38;5;28;01mNone\u001b[39;00m:\n\u001b[1;32m   2092\u001b[0m     args \u001b[38;5;241m=\u001b[39m process_dataframe_hierarchy(args)\n",
      "File \u001b[0;32m~/Learning/Freshman/Term02/Basic_Ai/air_dash/venv/lib/python3.11/site-packages/plotly/express/_core.py:1492\u001b[0m, in \u001b[0;36mbuild_dataframe\u001b[0;34m(args, constructor)\u001b[0m\n\u001b[1;32m   1489\u001b[0m     args[\u001b[38;5;124m\"\u001b[39m\u001b[38;5;124mcolor\u001b[39m\u001b[38;5;124m\"\u001b[39m] \u001b[38;5;241m=\u001b[39m \u001b[38;5;28;01mNone\u001b[39;00m\n\u001b[1;32m   1490\u001b[0m \u001b[38;5;66;03m# now that things have been prepped, we do the systematic rewriting of `args`\u001b[39;00m\n\u001b[0;32m-> 1492\u001b[0m df_output, wide_id_vars \u001b[38;5;241m=\u001b[39m \u001b[43mprocess_args_into_dataframe\u001b[49m\u001b[43m(\u001b[49m\n\u001b[1;32m   1493\u001b[0m \u001b[43m    \u001b[49m\u001b[43margs\u001b[49m\u001b[43m,\u001b[49m\u001b[43m \u001b[49m\u001b[43mwide_mode\u001b[49m\u001b[43m,\u001b[49m\u001b[43m \u001b[49m\u001b[43mvar_name\u001b[49m\u001b[43m,\u001b[49m\u001b[43m \u001b[49m\u001b[43mvalue_name\u001b[49m\n\u001b[1;32m   1494\u001b[0m \u001b[43m\u001b[49m\u001b[43m)\u001b[49m\n\u001b[1;32m   1496\u001b[0m \u001b[38;5;66;03m# now that `df_output` exists and `args` contains only references, we complete\u001b[39;00m\n\u001b[1;32m   1497\u001b[0m \u001b[38;5;66;03m# the special-case and wide-mode handling by further rewriting args and/or mutating\u001b[39;00m\n\u001b[1;32m   1498\u001b[0m \u001b[38;5;66;03m# df_output\u001b[39;00m\n\u001b[1;32m   1500\u001b[0m count_name \u001b[38;5;241m=\u001b[39m _escape_col_name(df_output, \u001b[38;5;124m\"\u001b[39m\u001b[38;5;124mcount\u001b[39m\u001b[38;5;124m\"\u001b[39m, [var_name, value_name])\n",
      "File \u001b[0;32m~/Learning/Freshman/Term02/Basic_Ai/air_dash/venv/lib/python3.11/site-packages/plotly/express/_core.py:1253\u001b[0m, in \u001b[0;36mprocess_args_into_dataframe\u001b[0;34m(args, wide_mode, var_name, value_name)\u001b[0m\n\u001b[1;32m   1250\u001b[0m         col_name \u001b[38;5;241m=\u001b[39m _check_name_not_reserved(field, reserved_names)\n\u001b[1;32m   1252\u001b[0m     \u001b[38;5;28;01mif\u001b[39;00m length \u001b[38;5;129;01mand\u001b[39;00m \u001b[38;5;28mlen\u001b[39m(argument) \u001b[38;5;241m!=\u001b[39m length:\n\u001b[0;32m-> 1253\u001b[0m         \u001b[38;5;28;01mraise\u001b[39;00m \u001b[38;5;167;01mValueError\u001b[39;00m(\n\u001b[1;32m   1254\u001b[0m             \u001b[38;5;124m\"\u001b[39m\u001b[38;5;124mAll arguments should have the same length. \u001b[39m\u001b[38;5;124m\"\u001b[39m\n\u001b[1;32m   1255\u001b[0m             \u001b[38;5;124m\"\u001b[39m\u001b[38;5;124mThe length of argument `\u001b[39m\u001b[38;5;132;01m%s\u001b[39;00m\u001b[38;5;124m` is \u001b[39m\u001b[38;5;132;01m%d\u001b[39;00m\u001b[38;5;124m, whereas the \u001b[39m\u001b[38;5;124m\"\u001b[39m\n\u001b[1;32m   1256\u001b[0m             \u001b[38;5;124m\"\u001b[39m\u001b[38;5;124mlength of  previously-processed arguments \u001b[39m\u001b[38;5;132;01m%s\u001b[39;00m\u001b[38;5;124m is \u001b[39m\u001b[38;5;132;01m%d\u001b[39;00m\u001b[38;5;124m\"\u001b[39m\n\u001b[1;32m   1257\u001b[0m             \u001b[38;5;241m%\u001b[39m (field, \u001b[38;5;28mlen\u001b[39m(argument), \u001b[38;5;28mstr\u001b[39m(\u001b[38;5;28mlist\u001b[39m(df_output\u001b[38;5;241m.\u001b[39mkeys())), length)\n\u001b[1;32m   1258\u001b[0m         )\n\u001b[1;32m   1259\u001b[0m     df_output[\u001b[38;5;28mstr\u001b[39m(col_name)] \u001b[38;5;241m=\u001b[39m to_unindexed_series(argument, \u001b[38;5;28mstr\u001b[39m(col_name))\n\u001b[1;32m   1261\u001b[0m \u001b[38;5;66;03m# Finally, update argument with column name now that column exists\u001b[39;00m\n",
      "\u001b[0;31mValueError\u001b[0m: All arguments should have the same length. The length of argument `y` is 2, whereas the length of  previously-processed arguments ['Date'] is 144"
     ]
    }
   ],
   "source": [
    "# generate predictions on the original dataset**\n",
    "predictions = predict_model(best, data=data)\n",
    "\n",
    "# # add a date column in the dataset**\n",
    "predictions['Date'] = pd.date_range(start='1949-01-01', end = '1960-12-01', freq = 'MS')\n",
    "\n",
    "# line plot**\n",
    "fig = px.line(predictions, x='Date', y=[\"Passengers\", \"prediction_label\"], template = 'plotly_dark')\n",
    "\n",
    "# add a vertical rectange for test-set separation**\n",
    "fig.add_vrect(x0=\"1960-01-01\", x1=\"1960-12-01\", fillcolor=\"grey\", opacity=0.25, line_width=0)\n",
    "fig.show()"
   ]
  },
  {
   "cell_type": "code",
   "execution_count": 14,
   "metadata": {},
   "outputs": [
    {
     "ename": "ValueError",
     "evalue": "All arguments should have the same length. The length of argument `y` is 1, whereas the length of  previously-processed arguments ['Date'] is 144",
     "output_type": "error",
     "traceback": [
      "\u001b[0;31m---------------------------------------------------------------------------\u001b[0m",
      "\u001b[0;31mValueError\u001b[0m                                Traceback (most recent call last)",
      "Cell \u001b[0;32mIn[14], line 1\u001b[0m\n\u001b[0;32m----> 1\u001b[0m fig \u001b[38;5;241m=\u001b[39m \u001b[43mpx\u001b[49m\u001b[38;5;241;43m.\u001b[39;49m\u001b[43mline\u001b[49m\u001b[43m(\u001b[49m\u001b[43mpredictions\u001b[49m\u001b[43m,\u001b[49m\u001b[43m \u001b[49m\u001b[43mx\u001b[49m\u001b[38;5;241;43m=\u001b[39;49m\u001b[38;5;124;43m'\u001b[39;49m\u001b[38;5;124;43mDate\u001b[39;49m\u001b[38;5;124;43m'\u001b[39;49m\u001b[43m,\u001b[49m\u001b[43m \u001b[49m\u001b[43my\u001b[49m\u001b[38;5;241;43m=\u001b[39;49m\u001b[43m[\u001b[49m\u001b[38;5;124;43m\"\u001b[39;49m\u001b[38;5;124;43mLabel\u001b[39;49m\u001b[38;5;124;43m\"\u001b[39;49m\u001b[43m]\u001b[49m\u001b[43m,\u001b[49m\u001b[43m \u001b[49m\u001b[43mtemplate\u001b[49m\u001b[43m \u001b[49m\u001b[38;5;241;43m=\u001b[39;49m\u001b[43m \u001b[49m\u001b[38;5;124;43m'\u001b[39;49m\u001b[38;5;124;43mplotly_dark\u001b[39;49m\u001b[38;5;124;43m'\u001b[39;49m\u001b[43m)\u001b[49m\n",
      "File \u001b[0;32m~/Learning/Freshman/Term02/Basic_Ai/air_dash/venv/lib/python3.11/site-packages/plotly/express/_chart_types.py:264\u001b[0m, in \u001b[0;36mline\u001b[0;34m(data_frame, x, y, line_group, color, line_dash, symbol, hover_name, hover_data, custom_data, text, facet_row, facet_col, facet_col_wrap, facet_row_spacing, facet_col_spacing, error_x, error_x_minus, error_y, error_y_minus, animation_frame, animation_group, category_orders, labels, orientation, color_discrete_sequence, color_discrete_map, line_dash_sequence, line_dash_map, symbol_sequence, symbol_map, markers, log_x, log_y, range_x, range_y, line_shape, render_mode, title, template, width, height)\u001b[0m\n\u001b[1;32m    216\u001b[0m \u001b[38;5;28;01mdef\u001b[39;00m \u001b[38;5;21mline\u001b[39m(\n\u001b[1;32m    217\u001b[0m     data_frame\u001b[38;5;241m=\u001b[39m\u001b[38;5;28;01mNone\u001b[39;00m,\n\u001b[1;32m    218\u001b[0m     x\u001b[38;5;241m=\u001b[39m\u001b[38;5;28;01mNone\u001b[39;00m,\n\u001b[0;32m   (...)\u001b[0m\n\u001b[1;32m    258\u001b[0m     height\u001b[38;5;241m=\u001b[39m\u001b[38;5;28;01mNone\u001b[39;00m,\n\u001b[1;32m    259\u001b[0m ) \u001b[38;5;241m-\u001b[39m\u001b[38;5;241m>\u001b[39m go\u001b[38;5;241m.\u001b[39mFigure:\n\u001b[1;32m    260\u001b[0m \u001b[38;5;250m    \u001b[39m\u001b[38;5;124;03m\"\"\"\u001b[39;00m\n\u001b[1;32m    261\u001b[0m \u001b[38;5;124;03m    In a 2D line plot, each row of `data_frame` is represented as vertex of\u001b[39;00m\n\u001b[1;32m    262\u001b[0m \u001b[38;5;124;03m    a polyline mark in 2D space.\u001b[39;00m\n\u001b[1;32m    263\u001b[0m \u001b[38;5;124;03m    \"\"\"\u001b[39;00m\n\u001b[0;32m--> 264\u001b[0m     \u001b[38;5;28;01mreturn\u001b[39;00m \u001b[43mmake_figure\u001b[49m\u001b[43m(\u001b[49m\u001b[43margs\u001b[49m\u001b[38;5;241;43m=\u001b[39;49m\u001b[38;5;28;43mlocals\u001b[39;49m\u001b[43m(\u001b[49m\u001b[43m)\u001b[49m\u001b[43m,\u001b[49m\u001b[43m \u001b[49m\u001b[43mconstructor\u001b[49m\u001b[38;5;241;43m=\u001b[39;49m\u001b[43mgo\u001b[49m\u001b[38;5;241;43m.\u001b[39;49m\u001b[43mScatter\u001b[49m\u001b[43m)\u001b[49m\n",
      "File \u001b[0;32m~/Learning/Freshman/Term02/Basic_Ai/air_dash/venv/lib/python3.11/site-packages/plotly/express/_core.py:2090\u001b[0m, in \u001b[0;36mmake_figure\u001b[0;34m(args, constructor, trace_patch, layout_patch)\u001b[0m\n\u001b[1;32m   2087\u001b[0m layout_patch \u001b[38;5;241m=\u001b[39m layout_patch \u001b[38;5;129;01mor\u001b[39;00m {}\n\u001b[1;32m   2088\u001b[0m apply_default_cascade(args)\n\u001b[0;32m-> 2090\u001b[0m args \u001b[38;5;241m=\u001b[39m \u001b[43mbuild_dataframe\u001b[49m\u001b[43m(\u001b[49m\u001b[43margs\u001b[49m\u001b[43m,\u001b[49m\u001b[43m \u001b[49m\u001b[43mconstructor\u001b[49m\u001b[43m)\u001b[49m\n\u001b[1;32m   2091\u001b[0m \u001b[38;5;28;01mif\u001b[39;00m constructor \u001b[38;5;129;01min\u001b[39;00m [go\u001b[38;5;241m.\u001b[39mTreemap, go\u001b[38;5;241m.\u001b[39mSunburst, go\u001b[38;5;241m.\u001b[39mIcicle] \u001b[38;5;129;01mand\u001b[39;00m args[\u001b[38;5;124m\"\u001b[39m\u001b[38;5;124mpath\u001b[39m\u001b[38;5;124m\"\u001b[39m] \u001b[38;5;129;01mis\u001b[39;00m \u001b[38;5;129;01mnot\u001b[39;00m \u001b[38;5;28;01mNone\u001b[39;00m:\n\u001b[1;32m   2092\u001b[0m     args \u001b[38;5;241m=\u001b[39m process_dataframe_hierarchy(args)\n",
      "File \u001b[0;32m~/Learning/Freshman/Term02/Basic_Ai/air_dash/venv/lib/python3.11/site-packages/plotly/express/_core.py:1492\u001b[0m, in \u001b[0;36mbuild_dataframe\u001b[0;34m(args, constructor)\u001b[0m\n\u001b[1;32m   1489\u001b[0m     args[\u001b[38;5;124m\"\u001b[39m\u001b[38;5;124mcolor\u001b[39m\u001b[38;5;124m\"\u001b[39m] \u001b[38;5;241m=\u001b[39m \u001b[38;5;28;01mNone\u001b[39;00m\n\u001b[1;32m   1490\u001b[0m \u001b[38;5;66;03m# now that things have been prepped, we do the systematic rewriting of `args`\u001b[39;00m\n\u001b[0;32m-> 1492\u001b[0m df_output, wide_id_vars \u001b[38;5;241m=\u001b[39m \u001b[43mprocess_args_into_dataframe\u001b[49m\u001b[43m(\u001b[49m\n\u001b[1;32m   1493\u001b[0m \u001b[43m    \u001b[49m\u001b[43margs\u001b[49m\u001b[43m,\u001b[49m\u001b[43m \u001b[49m\u001b[43mwide_mode\u001b[49m\u001b[43m,\u001b[49m\u001b[43m \u001b[49m\u001b[43mvar_name\u001b[49m\u001b[43m,\u001b[49m\u001b[43m \u001b[49m\u001b[43mvalue_name\u001b[49m\n\u001b[1;32m   1494\u001b[0m \u001b[43m\u001b[49m\u001b[43m)\u001b[49m\n\u001b[1;32m   1496\u001b[0m \u001b[38;5;66;03m# now that `df_output` exists and `args` contains only references, we complete\u001b[39;00m\n\u001b[1;32m   1497\u001b[0m \u001b[38;5;66;03m# the special-case and wide-mode handling by further rewriting args and/or mutating\u001b[39;00m\n\u001b[1;32m   1498\u001b[0m \u001b[38;5;66;03m# df_output\u001b[39;00m\n\u001b[1;32m   1500\u001b[0m count_name \u001b[38;5;241m=\u001b[39m _escape_col_name(df_output, \u001b[38;5;124m\"\u001b[39m\u001b[38;5;124mcount\u001b[39m\u001b[38;5;124m\"\u001b[39m, [var_name, value_name])\n",
      "File \u001b[0;32m~/Learning/Freshman/Term02/Basic_Ai/air_dash/venv/lib/python3.11/site-packages/plotly/express/_core.py:1253\u001b[0m, in \u001b[0;36mprocess_args_into_dataframe\u001b[0;34m(args, wide_mode, var_name, value_name)\u001b[0m\n\u001b[1;32m   1250\u001b[0m         col_name \u001b[38;5;241m=\u001b[39m _check_name_not_reserved(field, reserved_names)\n\u001b[1;32m   1252\u001b[0m     \u001b[38;5;28;01mif\u001b[39;00m length \u001b[38;5;129;01mand\u001b[39;00m \u001b[38;5;28mlen\u001b[39m(argument) \u001b[38;5;241m!=\u001b[39m length:\n\u001b[0;32m-> 1253\u001b[0m         \u001b[38;5;28;01mraise\u001b[39;00m \u001b[38;5;167;01mValueError\u001b[39;00m(\n\u001b[1;32m   1254\u001b[0m             \u001b[38;5;124m\"\u001b[39m\u001b[38;5;124mAll arguments should have the same length. \u001b[39m\u001b[38;5;124m\"\u001b[39m\n\u001b[1;32m   1255\u001b[0m             \u001b[38;5;124m\"\u001b[39m\u001b[38;5;124mThe length of argument `\u001b[39m\u001b[38;5;132;01m%s\u001b[39;00m\u001b[38;5;124m` is \u001b[39m\u001b[38;5;132;01m%d\u001b[39;00m\u001b[38;5;124m, whereas the \u001b[39m\u001b[38;5;124m\"\u001b[39m\n\u001b[1;32m   1256\u001b[0m             \u001b[38;5;124m\"\u001b[39m\u001b[38;5;124mlength of  previously-processed arguments \u001b[39m\u001b[38;5;132;01m%s\u001b[39;00m\u001b[38;5;124m is \u001b[39m\u001b[38;5;132;01m%d\u001b[39;00m\u001b[38;5;124m\"\u001b[39m\n\u001b[1;32m   1257\u001b[0m             \u001b[38;5;241m%\u001b[39m (field, \u001b[38;5;28mlen\u001b[39m(argument), \u001b[38;5;28mstr\u001b[39m(\u001b[38;5;28mlist\u001b[39m(df_output\u001b[38;5;241m.\u001b[39mkeys())), length)\n\u001b[1;32m   1258\u001b[0m         )\n\u001b[1;32m   1259\u001b[0m     df_output[\u001b[38;5;28mstr\u001b[39m(col_name)] \u001b[38;5;241m=\u001b[39m to_unindexed_series(argument, \u001b[38;5;28mstr\u001b[39m(col_name))\n\u001b[1;32m   1261\u001b[0m \u001b[38;5;66;03m# Finally, update argument with column name now that column exists\u001b[39;00m\n",
      "\u001b[0;31mValueError\u001b[0m: All arguments should have the same length. The length of argument `y` is 1, whereas the length of  previously-processed arguments ['Date'] is 144"
     ]
    }
   ],
   "source": [
    "fig = px.line(predictions, x='Date', y=[\"Passengers\"], template = 'plotly_dark')\n"
   ]
  },
  {
   "cell_type": "code",
   "execution_count": 13,
   "metadata": {},
   "outputs": [
    {
     "data": {
      "application/vnd.plotly.v1+json": {
       "config": {
        "plotlyServerURL": "https://plot.ly"
       },
       "data": [
        {
         "hovertemplate": "variable=Passengers<br>Date=%{x}<br>value=%{y}<extra></extra>",
         "legendgroup": "Passengers",
         "line": {
          "color": "#636efa",
          "dash": "solid"
         },
         "marker": {
          "symbol": "circle"
         },
         "mode": "lines",
         "name": "Passengers",
         "orientation": "v",
         "showlegend": true,
         "type": "scatter",
         "x": [
          "1949-01-01T00:00:00",
          "1949-02-01T00:00:00",
          "1949-03-01T00:00:00",
          "1949-04-01T00:00:00",
          "1949-05-01T00:00:00",
          "1949-06-01T00:00:00",
          "1949-07-01T00:00:00",
          "1949-08-01T00:00:00",
          "1949-09-01T00:00:00",
          "1949-10-01T00:00:00",
          "1949-11-01T00:00:00",
          "1949-12-01T00:00:00",
          "1950-01-01T00:00:00",
          "1950-02-01T00:00:00",
          "1950-03-01T00:00:00",
          "1950-04-01T00:00:00",
          "1950-05-01T00:00:00",
          "1950-06-01T00:00:00",
          "1950-07-01T00:00:00",
          "1950-08-01T00:00:00",
          "1950-09-01T00:00:00",
          "1950-10-01T00:00:00",
          "1950-11-01T00:00:00",
          "1950-12-01T00:00:00",
          "1951-01-01T00:00:00",
          "1951-02-01T00:00:00",
          "1951-03-01T00:00:00",
          "1951-04-01T00:00:00",
          "1951-05-01T00:00:00",
          "1951-06-01T00:00:00",
          "1951-07-01T00:00:00",
          "1951-08-01T00:00:00",
          "1951-09-01T00:00:00",
          "1951-10-01T00:00:00",
          "1951-11-01T00:00:00",
          "1951-12-01T00:00:00",
          "1952-01-01T00:00:00",
          "1952-02-01T00:00:00",
          "1952-03-01T00:00:00",
          "1952-04-01T00:00:00",
          "1952-05-01T00:00:00",
          "1952-06-01T00:00:00",
          "1952-07-01T00:00:00",
          "1952-08-01T00:00:00",
          "1952-09-01T00:00:00",
          "1952-10-01T00:00:00",
          "1952-11-01T00:00:00",
          "1952-12-01T00:00:00",
          "1953-01-01T00:00:00",
          "1953-02-01T00:00:00",
          "1953-03-01T00:00:00",
          "1953-04-01T00:00:00",
          "1953-05-01T00:00:00",
          "1953-06-01T00:00:00",
          "1953-07-01T00:00:00",
          "1953-08-01T00:00:00",
          "1953-09-01T00:00:00",
          "1953-10-01T00:00:00",
          "1953-11-01T00:00:00",
          "1953-12-01T00:00:00",
          "1954-01-01T00:00:00",
          "1954-02-01T00:00:00",
          "1954-03-01T00:00:00",
          "1954-04-01T00:00:00",
          "1954-05-01T00:00:00",
          "1954-06-01T00:00:00",
          "1954-07-01T00:00:00",
          "1954-08-01T00:00:00",
          "1954-09-01T00:00:00",
          "1954-10-01T00:00:00",
          "1954-11-01T00:00:00",
          "1954-12-01T00:00:00",
          "1955-01-01T00:00:00",
          "1955-02-01T00:00:00",
          "1955-03-01T00:00:00",
          "1955-04-01T00:00:00",
          "1955-05-01T00:00:00",
          "1955-06-01T00:00:00",
          "1955-07-01T00:00:00",
          "1955-08-01T00:00:00",
          "1955-09-01T00:00:00",
          "1955-10-01T00:00:00",
          "1955-11-01T00:00:00",
          "1955-12-01T00:00:00",
          "1956-01-01T00:00:00",
          "1956-02-01T00:00:00",
          "1956-03-01T00:00:00",
          "1956-04-01T00:00:00",
          "1956-05-01T00:00:00",
          "1956-06-01T00:00:00",
          "1956-07-01T00:00:00",
          "1956-08-01T00:00:00",
          "1956-09-01T00:00:00",
          "1956-10-01T00:00:00",
          "1956-11-01T00:00:00",
          "1956-12-01T00:00:00",
          "1957-01-01T00:00:00",
          "1957-02-01T00:00:00",
          "1957-03-01T00:00:00",
          "1957-04-01T00:00:00",
          "1957-05-01T00:00:00",
          "1957-06-01T00:00:00",
          "1957-07-01T00:00:00",
          "1957-08-01T00:00:00",
          "1957-09-01T00:00:00",
          "1957-10-01T00:00:00",
          "1957-11-01T00:00:00",
          "1957-12-01T00:00:00",
          "1958-01-01T00:00:00",
          "1958-02-01T00:00:00",
          "1958-03-01T00:00:00",
          "1958-04-01T00:00:00",
          "1958-05-01T00:00:00",
          "1958-06-01T00:00:00",
          "1958-07-01T00:00:00",
          "1958-08-01T00:00:00",
          "1958-09-01T00:00:00",
          "1958-10-01T00:00:00",
          "1958-11-01T00:00:00",
          "1958-12-01T00:00:00",
          "1959-01-01T00:00:00",
          "1959-02-01T00:00:00",
          "1959-03-01T00:00:00",
          "1959-04-01T00:00:00",
          "1959-05-01T00:00:00",
          "1959-06-01T00:00:00",
          "1959-07-01T00:00:00",
          "1959-08-01T00:00:00",
          "1959-09-01T00:00:00",
          "1959-10-01T00:00:00",
          "1959-11-01T00:00:00",
          "1959-12-01T00:00:00",
          "1960-01-01T00:00:00",
          "1960-02-01T00:00:00",
          "1960-03-01T00:00:00",
          "1960-04-01T00:00:00",
          "1960-05-01T00:00:00",
          "1960-06-01T00:00:00",
          "1960-07-01T00:00:00",
          "1960-08-01T00:00:00",
          "1960-09-01T00:00:00",
          "1960-10-01T00:00:00",
          "1960-11-01T00:00:00",
          "1960-12-01T00:00:00"
         ],
         "xaxis": "x",
         "y": [
          112,
          118,
          132,
          129,
          121,
          135,
          148,
          148,
          136,
          119,
          104,
          118,
          115,
          126,
          141,
          135,
          125,
          149,
          170,
          170,
          158,
          133,
          114,
          140,
          145,
          150,
          178,
          163,
          172,
          178,
          199,
          199,
          184,
          162,
          146,
          166,
          171,
          180,
          193,
          181,
          183,
          218,
          230,
          242,
          209,
          191,
          172,
          194,
          196,
          196,
          236,
          235,
          229,
          243,
          264,
          272,
          237,
          211,
          180,
          201,
          204,
          188,
          235,
          227,
          234,
          264,
          302,
          293,
          259,
          229,
          203,
          229,
          242,
          233,
          267,
          269,
          270,
          315,
          364,
          347,
          312,
          274,
          237,
          278,
          284,
          277,
          317,
          313,
          318,
          374,
          413,
          405,
          355,
          306,
          271,
          306,
          315,
          301,
          356,
          348,
          355,
          422,
          465,
          467,
          404,
          347,
          305,
          336,
          340,
          318,
          362,
          348,
          363,
          435,
          491,
          505,
          404,
          359,
          310,
          337,
          360,
          342,
          406,
          396,
          420,
          472,
          548,
          559,
          463,
          407,
          362,
          405,
          417,
          391,
          419,
          461,
          472,
          535,
          622,
          606,
          508,
          461,
          390,
          432
         ],
         "yaxis": "y"
        }
       ],
       "layout": {
        "legend": {
         "title": {
          "text": "variable"
         },
         "tracegroupgap": 0
        },
        "margin": {
         "t": 60
        },
        "shapes": [
         {
          "fillcolor": "grey",
          "line": {
           "width": 0
          },
          "opacity": 0.25,
          "type": "rect",
          "x0": "1960-01-01",
          "x1": "1960-12-01",
          "xref": "x",
          "y0": 0,
          "y1": 1,
          "yref": "y domain"
         }
        ],
        "template": {
         "data": {
          "bar": [
           {
            "error_x": {
             "color": "#f2f5fa"
            },
            "error_y": {
             "color": "#f2f5fa"
            },
            "marker": {
             "line": {
              "color": "rgb(17,17,17)",
              "width": 0.5
             },
             "pattern": {
              "fillmode": "overlay",
              "size": 10,
              "solidity": 0.2
             }
            },
            "type": "bar"
           }
          ],
          "barpolar": [
           {
            "marker": {
             "line": {
              "color": "rgb(17,17,17)",
              "width": 0.5
             },
             "pattern": {
              "fillmode": "overlay",
              "size": 10,
              "solidity": 0.2
             }
            },
            "type": "barpolar"
           }
          ],
          "carpet": [
           {
            "aaxis": {
             "endlinecolor": "#A2B1C6",
             "gridcolor": "#506784",
             "linecolor": "#506784",
             "minorgridcolor": "#506784",
             "startlinecolor": "#A2B1C6"
            },
            "baxis": {
             "endlinecolor": "#A2B1C6",
             "gridcolor": "#506784",
             "linecolor": "#506784",
             "minorgridcolor": "#506784",
             "startlinecolor": "#A2B1C6"
            },
            "type": "carpet"
           }
          ],
          "choropleth": [
           {
            "colorbar": {
             "outlinewidth": 0,
             "ticks": ""
            },
            "type": "choropleth"
           }
          ],
          "contour": [
           {
            "colorbar": {
             "outlinewidth": 0,
             "ticks": ""
            },
            "colorscale": [
             [
              0,
              "#0d0887"
             ],
             [
              0.1111111111111111,
              "#46039f"
             ],
             [
              0.2222222222222222,
              "#7201a8"
             ],
             [
              0.3333333333333333,
              "#9c179e"
             ],
             [
              0.4444444444444444,
              "#bd3786"
             ],
             [
              0.5555555555555556,
              "#d8576b"
             ],
             [
              0.6666666666666666,
              "#ed7953"
             ],
             [
              0.7777777777777778,
              "#fb9f3a"
             ],
             [
              0.8888888888888888,
              "#fdca26"
             ],
             [
              1,
              "#f0f921"
             ]
            ],
            "type": "contour"
           }
          ],
          "contourcarpet": [
           {
            "colorbar": {
             "outlinewidth": 0,
             "ticks": ""
            },
            "type": "contourcarpet"
           }
          ],
          "heatmap": [
           {
            "colorbar": {
             "outlinewidth": 0,
             "ticks": ""
            },
            "colorscale": [
             [
              0,
              "#0d0887"
             ],
             [
              0.1111111111111111,
              "#46039f"
             ],
             [
              0.2222222222222222,
              "#7201a8"
             ],
             [
              0.3333333333333333,
              "#9c179e"
             ],
             [
              0.4444444444444444,
              "#bd3786"
             ],
             [
              0.5555555555555556,
              "#d8576b"
             ],
             [
              0.6666666666666666,
              "#ed7953"
             ],
             [
              0.7777777777777778,
              "#fb9f3a"
             ],
             [
              0.8888888888888888,
              "#fdca26"
             ],
             [
              1,
              "#f0f921"
             ]
            ],
            "type": "heatmap"
           }
          ],
          "heatmapgl": [
           {
            "colorbar": {
             "outlinewidth": 0,
             "ticks": ""
            },
            "colorscale": [
             [
              0,
              "#0d0887"
             ],
             [
              0.1111111111111111,
              "#46039f"
             ],
             [
              0.2222222222222222,
              "#7201a8"
             ],
             [
              0.3333333333333333,
              "#9c179e"
             ],
             [
              0.4444444444444444,
              "#bd3786"
             ],
             [
              0.5555555555555556,
              "#d8576b"
             ],
             [
              0.6666666666666666,
              "#ed7953"
             ],
             [
              0.7777777777777778,
              "#fb9f3a"
             ],
             [
              0.8888888888888888,
              "#fdca26"
             ],
             [
              1,
              "#f0f921"
             ]
            ],
            "type": "heatmapgl"
           }
          ],
          "histogram": [
           {
            "marker": {
             "pattern": {
              "fillmode": "overlay",
              "size": 10,
              "solidity": 0.2
             }
            },
            "type": "histogram"
           }
          ],
          "histogram2d": [
           {
            "colorbar": {
             "outlinewidth": 0,
             "ticks": ""
            },
            "colorscale": [
             [
              0,
              "#0d0887"
             ],
             [
              0.1111111111111111,
              "#46039f"
             ],
             [
              0.2222222222222222,
              "#7201a8"
             ],
             [
              0.3333333333333333,
              "#9c179e"
             ],
             [
              0.4444444444444444,
              "#bd3786"
             ],
             [
              0.5555555555555556,
              "#d8576b"
             ],
             [
              0.6666666666666666,
              "#ed7953"
             ],
             [
              0.7777777777777778,
              "#fb9f3a"
             ],
             [
              0.8888888888888888,
              "#fdca26"
             ],
             [
              1,
              "#f0f921"
             ]
            ],
            "type": "histogram2d"
           }
          ],
          "histogram2dcontour": [
           {
            "colorbar": {
             "outlinewidth": 0,
             "ticks": ""
            },
            "colorscale": [
             [
              0,
              "#0d0887"
             ],
             [
              0.1111111111111111,
              "#46039f"
             ],
             [
              0.2222222222222222,
              "#7201a8"
             ],
             [
              0.3333333333333333,
              "#9c179e"
             ],
             [
              0.4444444444444444,
              "#bd3786"
             ],
             [
              0.5555555555555556,
              "#d8576b"
             ],
             [
              0.6666666666666666,
              "#ed7953"
             ],
             [
              0.7777777777777778,
              "#fb9f3a"
             ],
             [
              0.8888888888888888,
              "#fdca26"
             ],
             [
              1,
              "#f0f921"
             ]
            ],
            "type": "histogram2dcontour"
           }
          ],
          "mesh3d": [
           {
            "colorbar": {
             "outlinewidth": 0,
             "ticks": ""
            },
            "type": "mesh3d"
           }
          ],
          "parcoords": [
           {
            "line": {
             "colorbar": {
              "outlinewidth": 0,
              "ticks": ""
             }
            },
            "type": "parcoords"
           }
          ],
          "pie": [
           {
            "automargin": true,
            "type": "pie"
           }
          ],
          "scatter": [
           {
            "marker": {
             "line": {
              "color": "#283442"
             }
            },
            "type": "scatter"
           }
          ],
          "scatter3d": [
           {
            "line": {
             "colorbar": {
              "outlinewidth": 0,
              "ticks": ""
             }
            },
            "marker": {
             "colorbar": {
              "outlinewidth": 0,
              "ticks": ""
             }
            },
            "type": "scatter3d"
           }
          ],
          "scattercarpet": [
           {
            "marker": {
             "colorbar": {
              "outlinewidth": 0,
              "ticks": ""
             }
            },
            "type": "scattercarpet"
           }
          ],
          "scattergeo": [
           {
            "marker": {
             "colorbar": {
              "outlinewidth": 0,
              "ticks": ""
             }
            },
            "type": "scattergeo"
           }
          ],
          "scattergl": [
           {
            "marker": {
             "line": {
              "color": "#283442"
             }
            },
            "type": "scattergl"
           }
          ],
          "scattermapbox": [
           {
            "marker": {
             "colorbar": {
              "outlinewidth": 0,
              "ticks": ""
             }
            },
            "type": "scattermapbox"
           }
          ],
          "scatterpolar": [
           {
            "marker": {
             "colorbar": {
              "outlinewidth": 0,
              "ticks": ""
             }
            },
            "type": "scatterpolar"
           }
          ],
          "scatterpolargl": [
           {
            "marker": {
             "colorbar": {
              "outlinewidth": 0,
              "ticks": ""
             }
            },
            "type": "scatterpolargl"
           }
          ],
          "scatterternary": [
           {
            "marker": {
             "colorbar": {
              "outlinewidth": 0,
              "ticks": ""
             }
            },
            "type": "scatterternary"
           }
          ],
          "surface": [
           {
            "colorbar": {
             "outlinewidth": 0,
             "ticks": ""
            },
            "colorscale": [
             [
              0,
              "#0d0887"
             ],
             [
              0.1111111111111111,
              "#46039f"
             ],
             [
              0.2222222222222222,
              "#7201a8"
             ],
             [
              0.3333333333333333,
              "#9c179e"
             ],
             [
              0.4444444444444444,
              "#bd3786"
             ],
             [
              0.5555555555555556,
              "#d8576b"
             ],
             [
              0.6666666666666666,
              "#ed7953"
             ],
             [
              0.7777777777777778,
              "#fb9f3a"
             ],
             [
              0.8888888888888888,
              "#fdca26"
             ],
             [
              1,
              "#f0f921"
             ]
            ],
            "type": "surface"
           }
          ],
          "table": [
           {
            "cells": {
             "fill": {
              "color": "#506784"
             },
             "line": {
              "color": "rgb(17,17,17)"
             }
            },
            "header": {
             "fill": {
              "color": "#2a3f5f"
             },
             "line": {
              "color": "rgb(17,17,17)"
             }
            },
            "type": "table"
           }
          ]
         },
         "layout": {
          "annotationdefaults": {
           "arrowcolor": "#f2f5fa",
           "arrowhead": 0,
           "arrowwidth": 1
          },
          "autotypenumbers": "strict",
          "coloraxis": {
           "colorbar": {
            "outlinewidth": 0,
            "ticks": ""
           }
          },
          "colorscale": {
           "diverging": [
            [
             0,
             "#8e0152"
            ],
            [
             0.1,
             "#c51b7d"
            ],
            [
             0.2,
             "#de77ae"
            ],
            [
             0.3,
             "#f1b6da"
            ],
            [
             0.4,
             "#fde0ef"
            ],
            [
             0.5,
             "#f7f7f7"
            ],
            [
             0.6,
             "#e6f5d0"
            ],
            [
             0.7,
             "#b8e186"
            ],
            [
             0.8,
             "#7fbc41"
            ],
            [
             0.9,
             "#4d9221"
            ],
            [
             1,
             "#276419"
            ]
           ],
           "sequential": [
            [
             0,
             "#0d0887"
            ],
            [
             0.1111111111111111,
             "#46039f"
            ],
            [
             0.2222222222222222,
             "#7201a8"
            ],
            [
             0.3333333333333333,
             "#9c179e"
            ],
            [
             0.4444444444444444,
             "#bd3786"
            ],
            [
             0.5555555555555556,
             "#d8576b"
            ],
            [
             0.6666666666666666,
             "#ed7953"
            ],
            [
             0.7777777777777778,
             "#fb9f3a"
            ],
            [
             0.8888888888888888,
             "#fdca26"
            ],
            [
             1,
             "#f0f921"
            ]
           ],
           "sequentialminus": [
            [
             0,
             "#0d0887"
            ],
            [
             0.1111111111111111,
             "#46039f"
            ],
            [
             0.2222222222222222,
             "#7201a8"
            ],
            [
             0.3333333333333333,
             "#9c179e"
            ],
            [
             0.4444444444444444,
             "#bd3786"
            ],
            [
             0.5555555555555556,
             "#d8576b"
            ],
            [
             0.6666666666666666,
             "#ed7953"
            ],
            [
             0.7777777777777778,
             "#fb9f3a"
            ],
            [
             0.8888888888888888,
             "#fdca26"
            ],
            [
             1,
             "#f0f921"
            ]
           ]
          },
          "colorway": [
           "#636efa",
           "#EF553B",
           "#00cc96",
           "#ab63fa",
           "#FFA15A",
           "#19d3f3",
           "#FF6692",
           "#B6E880",
           "#FF97FF",
           "#FECB52"
          ],
          "font": {
           "color": "#f2f5fa"
          },
          "geo": {
           "bgcolor": "rgb(17,17,17)",
           "lakecolor": "rgb(17,17,17)",
           "landcolor": "rgb(17,17,17)",
           "showlakes": true,
           "showland": true,
           "subunitcolor": "#506784"
          },
          "hoverlabel": {
           "align": "left"
          },
          "hovermode": "closest",
          "mapbox": {
           "style": "dark"
          },
          "paper_bgcolor": "rgb(17,17,17)",
          "plot_bgcolor": "rgb(17,17,17)",
          "polar": {
           "angularaxis": {
            "gridcolor": "#506784",
            "linecolor": "#506784",
            "ticks": ""
           },
           "bgcolor": "rgb(17,17,17)",
           "radialaxis": {
            "gridcolor": "#506784",
            "linecolor": "#506784",
            "ticks": ""
           }
          },
          "scene": {
           "xaxis": {
            "backgroundcolor": "rgb(17,17,17)",
            "gridcolor": "#506784",
            "gridwidth": 2,
            "linecolor": "#506784",
            "showbackground": true,
            "ticks": "",
            "zerolinecolor": "#C8D4E3"
           },
           "yaxis": {
            "backgroundcolor": "rgb(17,17,17)",
            "gridcolor": "#506784",
            "gridwidth": 2,
            "linecolor": "#506784",
            "showbackground": true,
            "ticks": "",
            "zerolinecolor": "#C8D4E3"
           },
           "zaxis": {
            "backgroundcolor": "rgb(17,17,17)",
            "gridcolor": "#506784",
            "gridwidth": 2,
            "linecolor": "#506784",
            "showbackground": true,
            "ticks": "",
            "zerolinecolor": "#C8D4E3"
           }
          },
          "shapedefaults": {
           "line": {
            "color": "#f2f5fa"
           }
          },
          "sliderdefaults": {
           "bgcolor": "#C8D4E3",
           "bordercolor": "rgb(17,17,17)",
           "borderwidth": 1,
           "tickwidth": 0
          },
          "ternary": {
           "aaxis": {
            "gridcolor": "#506784",
            "linecolor": "#506784",
            "ticks": ""
           },
           "baxis": {
            "gridcolor": "#506784",
            "linecolor": "#506784",
            "ticks": ""
           },
           "bgcolor": "rgb(17,17,17)",
           "caxis": {
            "gridcolor": "#506784",
            "linecolor": "#506784",
            "ticks": ""
           }
          },
          "title": {
           "x": 0.05
          },
          "updatemenudefaults": {
           "bgcolor": "#506784",
           "borderwidth": 0
          },
          "xaxis": {
           "automargin": true,
           "gridcolor": "#283442",
           "linecolor": "#506784",
           "ticks": "",
           "title": {
            "standoff": 15
           },
           "zerolinecolor": "#283442",
           "zerolinewidth": 2
          },
          "yaxis": {
           "automargin": true,
           "gridcolor": "#283442",
           "linecolor": "#506784",
           "ticks": "",
           "title": {
            "standoff": 15
           },
           "zerolinecolor": "#283442",
           "zerolinewidth": 2
          }
         }
        },
        "xaxis": {
         "anchor": "y",
         "domain": [
          0,
          1
         ],
         "title": {
          "text": "Date"
         }
        },
        "yaxis": {
         "anchor": "x",
         "domain": [
          0,
          1
         ],
         "title": {
          "text": "value"
         }
        }
       }
      }
     },
     "metadata": {},
     "output_type": "display_data"
    }
   ],
   "source": [
    "fig.add_vrect(x0=\"1960-01-01\", x1=\"1960-12-01\", fillcolor=\"grey\", opacity=0.25, line_width=0)\n",
    "fig.show()"
   ]
  }
 ],
 "metadata": {
  "kernelspec": {
   "display_name": "venv",
   "language": "python",
   "name": "python3"
  },
  "language_info": {
   "codemirror_mode": {
    "name": "ipython",
    "version": 3
   },
   "file_extension": ".py",
   "mimetype": "text/x-python",
   "name": "python",
   "nbconvert_exporter": "python",
   "pygments_lexer": "ipython3",
   "version": "3.11.8"
  }
 },
 "nbformat": 4,
 "nbformat_minor": 2
}
